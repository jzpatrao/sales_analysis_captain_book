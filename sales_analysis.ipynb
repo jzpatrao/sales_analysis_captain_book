{
 "cells": [
  {
   "cell_type": "markdown",
   "id": "60877e01",
   "metadata": {
    "toc": true
   },
   "source": [
    "<h1>Table of Contents<span class=\"tocSkip\"></span></h1>\n",
    "<div class=\"toc\"><ul class=\"toc-item\"><li><span><a href=\"#Data-cleaning\" data-toc-modified-id=\"Data-cleaning-1\"><span class=\"toc-item-num\">1&nbsp;&nbsp;</span>Data cleaning</a></span><ul class=\"toc-item\"><li><span><a href=\"#Overview\" data-toc-modified-id=\"Overview-1.1\"><span class=\"toc-item-num\">1.1&nbsp;&nbsp;</span>Overview</a></span></li></ul></li><li><span><a href=\"#EDA\" data-toc-modified-id=\"EDA-2\"><span class=\"toc-item-num\">2&nbsp;&nbsp;</span>EDA</a></span><ul class=\"toc-item\"><li><span><a href=\"#Overview\" data-toc-modified-id=\"Overview-2.1\"><span class=\"toc-item-num\">2.1&nbsp;&nbsp;</span>Overview<br></a></span></li></ul></li><li><span><a href=\"#Correlation-analysis\" data-toc-modified-id=\"Correlation-analysis-3\"><span class=\"toc-item-num\">3&nbsp;&nbsp;</span>Correlation analysis</a></span><ul class=\"toc-item\"><li><span><a href=\"#Additionally...\" data-toc-modified-id=\"Additionally...-3.1\"><span class=\"toc-item-num\">3.1&nbsp;&nbsp;</span>Additionally...</a></span></li></ul></li></ul></div>"
   ]
  },
  {
   "cell_type": "markdown",
   "id": "4203f6bb",
   "metadata": {},
   "source": [
    "<a id='top'></a>"
   ]
  },
  {
   "cell_type": "code",
   "execution_count": 1,
   "id": "9f864ff4",
   "metadata": {},
   "outputs": [],
   "source": [
    "import pandas as pd\n",
    "import numpy as np\n",
    "import matplotlib.pyplot as plt\n",
    "import seaborn as sns"
   ]
  },
  {
   "cell_type": "code",
   "execution_count": 2,
   "id": "b672a45c",
   "metadata": {},
   "outputs": [],
   "source": [
    "customer = pd.read_csv(\"\\\\customers.csv\")\n",
    "products = pd.read_csv(\"\\\\products.csv\")\n",
    "sales = pd.read_csv(\"\\\\transactions.csv\")"
   ]
  },
  {
   "cell_type": "markdown",
   "id": "44859eb7",
   "metadata": {},
   "source": [
    "<a id='task_1'></a>"
   ]
  },
  {
   "cell_type": "markdown",
   "id": "6acec914",
   "metadata": {},
   "source": [
    "# Data cleaning\n",
    "<hr style=\"border:1.5px solid blalck\"></hr>"
   ]
  },
  {
   "cell_type": "markdown",
   "id": "20b8e3d4",
   "metadata": {},
   "source": [
    "## Overview\n",
    "<font color='blue'>For each table I start by looking for NaNs, duplicates and irregular values (values that doesn't fit the format or out of range).<br>\n",
    "During this process, 1 product with negative price was discovered. It appears to be a product for test purposes. I removed it from product table and subsquently the transactions of this product and clients related to these test transactions. [See script](#task1_1) </font> <br>\n",
    "\n",
    "<font color='blue'>Next I looked for products/clients who exists in the transaction table, but not in product/client table. 1 product was found to have been sold but no record in the product table, and thus no price tag. A price is then assigned to it, which is the price mean of its category. [See scripte](#task_1_2)</font> \n",
    "\n",
    "<font color='blue'>Once the tables have been cleaned, I created following variables that might be needed for later analysis [See script](#task1_3):\n",
    "> - Session duration in minutes\n",
    "> - Client age\n",
    "> - Transaction date as in \n",
    ">> <ul>\n",
    ">> <li>weekday</li>\n",
    ">> <li>day of month</li>\n",
    ">> <li>month of the year</li>\n",
    ">> </ul>   \n",
    "</font>\n",
    "\n",
    "<font color='blue'>Finally I joint three tables together to create one main dataframe I will use for analysis. After joining all three tables I could also add a final variable: total purchase amount per session. [See script](#task1_4)\n",
    "</font>"
   ]
  },
  {
   "cell_type": "code",
   "execution_count": 3,
   "id": "a97df1a8",
   "metadata": {
    "scrolled": true
   },
   "outputs": [
    {
     "data": {
      "text/html": [
       "<div>\n",
       "<style scoped>\n",
       "    .dataframe tbody tr th:only-of-type {\n",
       "        vertical-align: middle;\n",
       "    }\n",
       "\n",
       "    .dataframe tbody tr th {\n",
       "        vertical-align: top;\n",
       "    }\n",
       "\n",
       "    .dataframe thead th {\n",
       "        text-align: right;\n",
       "    }\n",
       "</style>\n",
       "<table border=\"1\" class=\"dataframe\">\n",
       "  <thead>\n",
       "    <tr style=\"text-align: right;\">\n",
       "      <th></th>\n",
       "      <th>client_id</th>\n",
       "      <th>sex</th>\n",
       "      <th>birth</th>\n",
       "    </tr>\n",
       "  </thead>\n",
       "  <tbody>\n",
       "    <tr>\n",
       "      <th>0</th>\n",
       "      <td>c_4410</td>\n",
       "      <td>f</td>\n",
       "      <td>1967</td>\n",
       "    </tr>\n",
       "    <tr>\n",
       "      <th>1</th>\n",
       "      <td>c_7839</td>\n",
       "      <td>f</td>\n",
       "      <td>1975</td>\n",
       "    </tr>\n",
       "    <tr>\n",
       "      <th>2</th>\n",
       "      <td>c_1699</td>\n",
       "      <td>f</td>\n",
       "      <td>1984</td>\n",
       "    </tr>\n",
       "    <tr>\n",
       "      <th>3</th>\n",
       "      <td>c_5961</td>\n",
       "      <td>f</td>\n",
       "      <td>1962</td>\n",
       "    </tr>\n",
       "    <tr>\n",
       "      <th>4</th>\n",
       "      <td>c_5320</td>\n",
       "      <td>m</td>\n",
       "      <td>1943</td>\n",
       "    </tr>\n",
       "  </tbody>\n",
       "</table>\n",
       "</div>"
      ],
      "text/plain": [
       "  client_id sex  birth\n",
       "0    c_4410   f   1967\n",
       "1    c_7839   f   1975\n",
       "2    c_1699   f   1984\n",
       "3    c_5961   f   1962\n",
       "4    c_5320   m   1943"
      ]
     },
     "execution_count": 3,
     "metadata": {},
     "output_type": "execute_result"
    }
   ],
   "source": [
    "customer.head()"
   ]
  },
  {
   "cell_type": "code",
   "execution_count": 4,
   "id": "6e584682",
   "metadata": {
    "scrolled": true
   },
   "outputs": [
    {
     "name": "stdout",
     "output_type": "stream",
     "text": [
      "<class 'pandas.core.frame.DataFrame'>\n",
      "RangeIndex: 8623 entries, 0 to 8622\n",
      "Data columns (total 3 columns):\n",
      " #   Column     Non-Null Count  Dtype \n",
      "---  ------     --------------  ----- \n",
      " 0   client_id  8623 non-null   object\n",
      " 1   sex        8623 non-null   object\n",
      " 2   birth      8623 non-null   int64 \n",
      "dtypes: int64(1), object(2)\n",
      "memory usage: 202.2+ KB\n"
     ]
    }
   ],
   "source": [
    "# Looking for NaN values in customer table\n",
    "customer.info()"
   ]
  },
  {
   "cell_type": "code",
   "execution_count": 5,
   "id": "ef00ebde",
   "metadata": {},
   "outputs": [
    {
     "data": {
      "text/plain": [
       "False    8623\n",
       "Name: client_id, dtype: int64"
      ]
     },
     "execution_count": 5,
     "metadata": {},
     "output_type": "execute_result"
    }
   ],
   "source": [
    "# Looking for duplicate client id in customer table\n",
    "customer.client_id.duplicated().value_counts()"
   ]
  },
  {
   "cell_type": "code",
   "execution_count": 6,
   "id": "cbcf4d4d",
   "metadata": {
    "scrolled": true
   },
   "outputs": [
    {
     "data": {
      "text/plain": [
       "f    4491\n",
       "m    4132\n",
       "Name: sex, dtype: int64"
      ]
     },
     "execution_count": 6,
     "metadata": {},
     "output_type": "execute_result"
    }
   ],
   "source": [
    "# Looking for irregular entries for the gender column in customer table\n",
    "customer.sex.value_counts()"
   ]
  },
  {
   "cell_type": "code",
   "execution_count": 7,
   "id": "f15047a8",
   "metadata": {
    "scrolled": true
   },
   "outputs": [
    {
     "data": {
      "text/plain": [
       "count    8623.000000\n",
       "mean     1978.280877\n",
       "std        16.919535\n",
       "min      1929.000000\n",
       "25%      1966.000000\n",
       "50%      1979.000000\n",
       "75%      1992.000000\n",
       "max      2004.000000\n",
       "Name: birth, dtype: float64"
      ]
     },
     "execution_count": 7,
     "metadata": {},
     "output_type": "execute_result"
    }
   ],
   "source": [
    "# Looking for irregular birth year in the birth column in customer table\n",
    "customer.birth.describe()"
   ]
  },
  {
   "cell_type": "code",
   "execution_count": 8,
   "id": "fb8647f5",
   "metadata": {
    "scrolled": false
   },
   "outputs": [
    {
     "data": {
      "text/plain": [
       "4    8623\n",
       "Name: birth, dtype: int64"
      ]
     },
     "execution_count": 8,
     "metadata": {},
     "output_type": "execute_result"
    }
   ],
   "source": [
    "# Looking for irregular entries for the birth columnin customer table\n",
    "customer.birth.astype(str).str.len().value_counts()"
   ]
  },
  {
   "cell_type": "code",
   "execution_count": 9,
   "id": "02e7ef56",
   "metadata": {
    "scrolled": true
   },
   "outputs": [
    {
     "data": {
      "text/html": [
       "<div>\n",
       "<style scoped>\n",
       "    .dataframe tbody tr th:only-of-type {\n",
       "        vertical-align: middle;\n",
       "    }\n",
       "\n",
       "    .dataframe tbody tr th {\n",
       "        vertical-align: top;\n",
       "    }\n",
       "\n",
       "    .dataframe thead th {\n",
       "        text-align: right;\n",
       "    }\n",
       "</style>\n",
       "<table border=\"1\" class=\"dataframe\">\n",
       "  <thead>\n",
       "    <tr style=\"text-align: right;\">\n",
       "      <th></th>\n",
       "      <th>id_prod</th>\n",
       "      <th>price</th>\n",
       "      <th>categ</th>\n",
       "    </tr>\n",
       "  </thead>\n",
       "  <tbody>\n",
       "    <tr>\n",
       "      <th>0</th>\n",
       "      <td>0_1421</td>\n",
       "      <td>19.99</td>\n",
       "      <td>0</td>\n",
       "    </tr>\n",
       "    <tr>\n",
       "      <th>1</th>\n",
       "      <td>0_1368</td>\n",
       "      <td>5.13</td>\n",
       "      <td>0</td>\n",
       "    </tr>\n",
       "    <tr>\n",
       "      <th>2</th>\n",
       "      <td>0_731</td>\n",
       "      <td>17.99</td>\n",
       "      <td>0</td>\n",
       "    </tr>\n",
       "    <tr>\n",
       "      <th>3</th>\n",
       "      <td>1_587</td>\n",
       "      <td>4.99</td>\n",
       "      <td>1</td>\n",
       "    </tr>\n",
       "    <tr>\n",
       "      <th>4</th>\n",
       "      <td>0_1507</td>\n",
       "      <td>3.99</td>\n",
       "      <td>0</td>\n",
       "    </tr>\n",
       "  </tbody>\n",
       "</table>\n",
       "</div>"
      ],
      "text/plain": [
       "  id_prod  price  categ\n",
       "0  0_1421  19.99      0\n",
       "1  0_1368   5.13      0\n",
       "2   0_731  17.99      0\n",
       "3   1_587   4.99      1\n",
       "4  0_1507   3.99      0"
      ]
     },
     "execution_count": 9,
     "metadata": {},
     "output_type": "execute_result"
    }
   ],
   "source": [
    "products.head()"
   ]
  },
  {
   "cell_type": "code",
   "execution_count": 10,
   "id": "e8cda24e",
   "metadata": {
    "scrolled": true
   },
   "outputs": [
    {
     "name": "stdout",
     "output_type": "stream",
     "text": [
      "<class 'pandas.core.frame.DataFrame'>\n",
      "RangeIndex: 3287 entries, 0 to 3286\n",
      "Data columns (total 3 columns):\n",
      " #   Column   Non-Null Count  Dtype  \n",
      "---  ------   --------------  -----  \n",
      " 0   id_prod  3287 non-null   object \n",
      " 1   price    3287 non-null   float64\n",
      " 2   categ    3287 non-null   int64  \n",
      "dtypes: float64(1), int64(1), object(1)\n",
      "memory usage: 77.2+ KB\n"
     ]
    }
   ],
   "source": [
    "# Looking for NaN values in products table\n",
    "products.info()"
   ]
  },
  {
   "cell_type": "code",
   "execution_count": 11,
   "id": "b65e9c97",
   "metadata": {},
   "outputs": [
    {
     "data": {
      "text/plain": [
       "False    3287\n",
       "Name: id_prod, dtype: int64"
      ]
     },
     "execution_count": 11,
     "metadata": {},
     "output_type": "execute_result"
    }
   ],
   "source": [
    "# Looking for duplicated entries in products table\n",
    "products.id_prod.duplicated().value_counts()"
   ]
  },
  {
   "cell_type": "markdown",
   "id": "1501257a",
   "metadata": {},
   "source": [
    "<a id='task1_1'></a>"
   ]
  },
  {
   "cell_type": "code",
   "execution_count": 12,
   "id": "9d71ae2a",
   "metadata": {
    "scrolled": true
   },
   "outputs": [
    {
     "data": {
      "text/plain": [
       "count    3287.000000\n",
       "mean       21.856641\n",
       "std        29.847908\n",
       "min        -1.000000\n",
       "25%         6.990000\n",
       "50%        13.060000\n",
       "75%        22.990000\n",
       "max       300.000000\n",
       "Name: price, dtype: float64"
      ]
     },
     "execution_count": 12,
     "metadata": {},
     "output_type": "execute_result"
    }
   ],
   "source": [
    "# Looking for irregular product price\n",
    "products.price.describe()"
   ]
  },
  {
   "cell_type": "code",
   "execution_count": 13,
   "id": "199860fb",
   "metadata": {
    "scrolled": false
   },
   "outputs": [
    {
     "data": {
      "text/html": [
       "<div>\n",
       "<style scoped>\n",
       "    .dataframe tbody tr th:only-of-type {\n",
       "        vertical-align: middle;\n",
       "    }\n",
       "\n",
       "    .dataframe tbody tr th {\n",
       "        vertical-align: top;\n",
       "    }\n",
       "\n",
       "    .dataframe thead th {\n",
       "        text-align: right;\n",
       "    }\n",
       "</style>\n",
       "<table border=\"1\" class=\"dataframe\">\n",
       "  <thead>\n",
       "    <tr style=\"text-align: right;\">\n",
       "      <th></th>\n",
       "      <th>id_prod</th>\n",
       "      <th>price</th>\n",
       "      <th>categ</th>\n",
       "    </tr>\n",
       "  </thead>\n",
       "  <tbody>\n",
       "    <tr>\n",
       "      <th>731</th>\n",
       "      <td>T_0</td>\n",
       "      <td>-1.0</td>\n",
       "      <td>0</td>\n",
       "    </tr>\n",
       "  </tbody>\n",
       "</table>\n",
       "</div>"
      ],
      "text/plain": [
       "    id_prod  price  categ\n",
       "731     T_0   -1.0      0"
      ]
     },
     "execution_count": 13,
     "metadata": {},
     "output_type": "execute_result"
    }
   ],
   "source": [
    "# Identify all products with prices below zero\n",
    "products[products[\"price\"] <= 0]"
   ]
  },
  {
   "cell_type": "markdown",
   "id": "5b85ca84",
   "metadata": {},
   "source": [
    "<font color='blue'>Investigating transactions of product T_0 and the clients who bought it.</font>"
   ]
  },
  {
   "cell_type": "code",
   "execution_count": 14,
   "id": "8e4918f8",
   "metadata": {
    "scrolled": true
   },
   "outputs": [
    {
     "data": {
      "text/html": [
       "<div>\n",
       "<style scoped>\n",
       "    .dataframe tbody tr th:only-of-type {\n",
       "        vertical-align: middle;\n",
       "    }\n",
       "\n",
       "    .dataframe tbody tr th {\n",
       "        vertical-align: top;\n",
       "    }\n",
       "\n",
       "    .dataframe thead th {\n",
       "        text-align: right;\n",
       "    }\n",
       "</style>\n",
       "<table border=\"1\" class=\"dataframe\">\n",
       "  <thead>\n",
       "    <tr style=\"text-align: right;\">\n",
       "      <th></th>\n",
       "      <th>id_prod</th>\n",
       "      <th>date</th>\n",
       "      <th>session_id</th>\n",
       "      <th>client_id</th>\n",
       "    </tr>\n",
       "  </thead>\n",
       "  <tbody>\n",
       "    <tr>\n",
       "      <th>0</th>\n",
       "      <td>0_1483</td>\n",
       "      <td>2021-04-10 18:37:28.723910</td>\n",
       "      <td>s_18746</td>\n",
       "      <td>c_4450</td>\n",
       "    </tr>\n",
       "    <tr>\n",
       "      <th>1</th>\n",
       "      <td>2_226</td>\n",
       "      <td>2022-02-03 01:55:53.276402</td>\n",
       "      <td>s_159142</td>\n",
       "      <td>c_277</td>\n",
       "    </tr>\n",
       "    <tr>\n",
       "      <th>2</th>\n",
       "      <td>1_374</td>\n",
       "      <td>2021-09-23 15:13:46.938559</td>\n",
       "      <td>s_94290</td>\n",
       "      <td>c_4270</td>\n",
       "    </tr>\n",
       "    <tr>\n",
       "      <th>3</th>\n",
       "      <td>0_2186</td>\n",
       "      <td>2021-10-17 03:27:18.783634</td>\n",
       "      <td>s_105936</td>\n",
       "      <td>c_4597</td>\n",
       "    </tr>\n",
       "    <tr>\n",
       "      <th>4</th>\n",
       "      <td>0_1351</td>\n",
       "      <td>2021-07-17 20:34:25.800563</td>\n",
       "      <td>s_63642</td>\n",
       "      <td>c_1242</td>\n",
       "    </tr>\n",
       "  </tbody>\n",
       "</table>\n",
       "</div>"
      ],
      "text/plain": [
       "  id_prod                        date session_id client_id\n",
       "0  0_1483  2021-04-10 18:37:28.723910    s_18746    c_4450\n",
       "1   2_226  2022-02-03 01:55:53.276402   s_159142     c_277\n",
       "2   1_374  2021-09-23 15:13:46.938559    s_94290    c_4270\n",
       "3  0_2186  2021-10-17 03:27:18.783634   s_105936    c_4597\n",
       "4  0_1351  2021-07-17 20:34:25.800563    s_63642    c_1242"
      ]
     },
     "execution_count": 14,
     "metadata": {},
     "output_type": "execute_result"
    }
   ],
   "source": [
    "sales.head()"
   ]
  },
  {
   "cell_type": "markdown",
   "id": "338c4f32",
   "metadata": {},
   "source": [
    "<font color='blue'>Transactions of product id T_0 are...</font>"
   ]
  },
  {
   "cell_type": "code",
   "execution_count": 15,
   "id": "3d9e4622",
   "metadata": {
    "scrolled": true
   },
   "outputs": [
    {
     "data": {
      "text/html": [
       "<div>\n",
       "<style scoped>\n",
       "    .dataframe tbody tr th:only-of-type {\n",
       "        vertical-align: middle;\n",
       "    }\n",
       "\n",
       "    .dataframe tbody tr th {\n",
       "        vertical-align: top;\n",
       "    }\n",
       "\n",
       "    .dataframe thead th {\n",
       "        text-align: right;\n",
       "    }\n",
       "</style>\n",
       "<table border=\"1\" class=\"dataframe\">\n",
       "  <thead>\n",
       "    <tr style=\"text-align: right;\">\n",
       "      <th></th>\n",
       "      <th>id_prod</th>\n",
       "      <th>date</th>\n",
       "      <th>session_id</th>\n",
       "      <th>client_id</th>\n",
       "    </tr>\n",
       "  </thead>\n",
       "  <tbody>\n",
       "    <tr>\n",
       "      <th>1431</th>\n",
       "      <td>T_0</td>\n",
       "      <td>test_2021-03-01 02:30:02.237420</td>\n",
       "      <td>s_0</td>\n",
       "      <td>ct_1</td>\n",
       "    </tr>\n",
       "    <tr>\n",
       "      <th>2365</th>\n",
       "      <td>T_0</td>\n",
       "      <td>test_2021-03-01 02:30:02.237446</td>\n",
       "      <td>s_0</td>\n",
       "      <td>ct_1</td>\n",
       "    </tr>\n",
       "    <tr>\n",
       "      <th>2895</th>\n",
       "      <td>T_0</td>\n",
       "      <td>test_2021-03-01 02:30:02.237414</td>\n",
       "      <td>s_0</td>\n",
       "      <td>ct_1</td>\n",
       "    </tr>\n",
       "    <tr>\n",
       "      <th>5955</th>\n",
       "      <td>T_0</td>\n",
       "      <td>test_2021-03-01 02:30:02.237441</td>\n",
       "      <td>s_0</td>\n",
       "      <td>ct_0</td>\n",
       "    </tr>\n",
       "    <tr>\n",
       "      <th>7283</th>\n",
       "      <td>T_0</td>\n",
       "      <td>test_2021-03-01 02:30:02.237434</td>\n",
       "      <td>s_0</td>\n",
       "      <td>ct_1</td>\n",
       "    </tr>\n",
       "    <tr>\n",
       "      <th>...</th>\n",
       "      <td>...</td>\n",
       "      <td>...</td>\n",
       "      <td>...</td>\n",
       "      <td>...</td>\n",
       "    </tr>\n",
       "    <tr>\n",
       "      <th>332594</th>\n",
       "      <td>T_0</td>\n",
       "      <td>test_2021-03-01 02:30:02.237445</td>\n",
       "      <td>s_0</td>\n",
       "      <td>ct_0</td>\n",
       "    </tr>\n",
       "    <tr>\n",
       "      <th>332705</th>\n",
       "      <td>T_0</td>\n",
       "      <td>test_2021-03-01 02:30:02.237423</td>\n",
       "      <td>s_0</td>\n",
       "      <td>ct_1</td>\n",
       "    </tr>\n",
       "    <tr>\n",
       "      <th>332730</th>\n",
       "      <td>T_0</td>\n",
       "      <td>test_2021-03-01 02:30:02.237421</td>\n",
       "      <td>s_0</td>\n",
       "      <td>ct_1</td>\n",
       "    </tr>\n",
       "    <tr>\n",
       "      <th>333442</th>\n",
       "      <td>T_0</td>\n",
       "      <td>test_2021-03-01 02:30:02.237431</td>\n",
       "      <td>s_0</td>\n",
       "      <td>ct_1</td>\n",
       "    </tr>\n",
       "    <tr>\n",
       "      <th>335279</th>\n",
       "      <td>T_0</td>\n",
       "      <td>test_2021-03-01 02:30:02.237430</td>\n",
       "      <td>s_0</td>\n",
       "      <td>ct_0</td>\n",
       "    </tr>\n",
       "  </tbody>\n",
       "</table>\n",
       "<p>200 rows × 4 columns</p>\n",
       "</div>"
      ],
      "text/plain": [
       "       id_prod                             date session_id client_id\n",
       "1431       T_0  test_2021-03-01 02:30:02.237420        s_0      ct_1\n",
       "2365       T_0  test_2021-03-01 02:30:02.237446        s_0      ct_1\n",
       "2895       T_0  test_2021-03-01 02:30:02.237414        s_0      ct_1\n",
       "5955       T_0  test_2021-03-01 02:30:02.237441        s_0      ct_0\n",
       "7283       T_0  test_2021-03-01 02:30:02.237434        s_0      ct_1\n",
       "...        ...                              ...        ...       ...\n",
       "332594     T_0  test_2021-03-01 02:30:02.237445        s_0      ct_0\n",
       "332705     T_0  test_2021-03-01 02:30:02.237423        s_0      ct_1\n",
       "332730     T_0  test_2021-03-01 02:30:02.237421        s_0      ct_1\n",
       "333442     T_0  test_2021-03-01 02:30:02.237431        s_0      ct_1\n",
       "335279     T_0  test_2021-03-01 02:30:02.237430        s_0      ct_0\n",
       "\n",
       "[200 rows x 4 columns]"
      ]
     },
     "execution_count": 15,
     "metadata": {},
     "output_type": "execute_result"
    }
   ],
   "source": [
    "sales[sales[\"id_prod\"] == \"T_0\"]"
   ]
  },
  {
   "cell_type": "code",
   "execution_count": 16,
   "id": "56215088",
   "metadata": {
    "scrolled": true
   },
   "outputs": [
    {
     "data": {
      "text/plain": [
       "s_0    200\n",
       "Name: session_id, dtype: int64"
      ]
     },
     "execution_count": 16,
     "metadata": {},
     "output_type": "execute_result"
    }
   ],
   "source": [
    "sales[sales[\"id_prod\"] == \"T_0\"].session_id.value_counts()"
   ]
  },
  {
   "cell_type": "markdown",
   "id": "a1f918c8",
   "metadata": {},
   "source": [
    "<font color='blue'>Clients who bought product T_0 are...</font>"
   ]
  },
  {
   "cell_type": "code",
   "execution_count": 17,
   "id": "6711406d",
   "metadata": {
    "scrolled": true
   },
   "outputs": [
    {
     "data": {
      "text/plain": [
       "ct_0    106\n",
       "ct_1     94\n",
       "Name: client_id, dtype: int64"
      ]
     },
     "execution_count": 17,
     "metadata": {},
     "output_type": "execute_result"
    }
   ],
   "source": [
    "sales[sales[\"id_prod\"] == \"T_0\"].client_id.value_counts()"
   ]
  },
  {
   "cell_type": "markdown",
   "id": "f33cd6a0",
   "metadata": {},
   "source": [
    "<font color='blue'>Removing product T_0, sales session s_0 and clients ct_0 & ct_1.</font>"
   ]
  },
  {
   "cell_type": "code",
   "execution_count": 18,
   "id": "8c528ce4",
   "metadata": {},
   "outputs": [],
   "source": [
    "products = products[products[\"id_prod\"] != \"T_0\"]"
   ]
  },
  {
   "cell_type": "code",
   "execution_count": 19,
   "id": "1b2dec12",
   "metadata": {},
   "outputs": [],
   "source": [
    "sales = sales[sales[\"session_id\"] != \"s_0\"]"
   ]
  },
  {
   "cell_type": "code",
   "execution_count": 20,
   "id": "9a8731b7",
   "metadata": {
    "scrolled": true
   },
   "outputs": [
    {
     "data": {
      "text/html": [
       "<div>\n",
       "<style scoped>\n",
       "    .dataframe tbody tr th:only-of-type {\n",
       "        vertical-align: middle;\n",
       "    }\n",
       "\n",
       "    .dataframe tbody tr th {\n",
       "        vertical-align: top;\n",
       "    }\n",
       "\n",
       "    .dataframe thead th {\n",
       "        text-align: right;\n",
       "    }\n",
       "</style>\n",
       "<table border=\"1\" class=\"dataframe\">\n",
       "  <thead>\n",
       "    <tr style=\"text-align: right;\">\n",
       "      <th></th>\n",
       "      <th>client_id</th>\n",
       "      <th>sex</th>\n",
       "      <th>birth</th>\n",
       "    </tr>\n",
       "  </thead>\n",
       "  <tbody>\n",
       "    <tr>\n",
       "      <th>0</th>\n",
       "      <td>c_4410</td>\n",
       "      <td>f</td>\n",
       "      <td>1967</td>\n",
       "    </tr>\n",
       "    <tr>\n",
       "      <th>1</th>\n",
       "      <td>c_7839</td>\n",
       "      <td>f</td>\n",
       "      <td>1975</td>\n",
       "    </tr>\n",
       "    <tr>\n",
       "      <th>2</th>\n",
       "      <td>c_1699</td>\n",
       "      <td>f</td>\n",
       "      <td>1984</td>\n",
       "    </tr>\n",
       "    <tr>\n",
       "      <th>3</th>\n",
       "      <td>c_5961</td>\n",
       "      <td>f</td>\n",
       "      <td>1962</td>\n",
       "    </tr>\n",
       "    <tr>\n",
       "      <th>4</th>\n",
       "      <td>c_5320</td>\n",
       "      <td>m</td>\n",
       "      <td>1943</td>\n",
       "    </tr>\n",
       "    <tr>\n",
       "      <th>...</th>\n",
       "      <td>...</td>\n",
       "      <td>...</td>\n",
       "      <td>...</td>\n",
       "    </tr>\n",
       "    <tr>\n",
       "      <th>8618</th>\n",
       "      <td>c_7920</td>\n",
       "      <td>m</td>\n",
       "      <td>1956</td>\n",
       "    </tr>\n",
       "    <tr>\n",
       "      <th>8619</th>\n",
       "      <td>c_7403</td>\n",
       "      <td>f</td>\n",
       "      <td>1970</td>\n",
       "    </tr>\n",
       "    <tr>\n",
       "      <th>8620</th>\n",
       "      <td>c_5119</td>\n",
       "      <td>m</td>\n",
       "      <td>1974</td>\n",
       "    </tr>\n",
       "    <tr>\n",
       "      <th>8621</th>\n",
       "      <td>c_5643</td>\n",
       "      <td>f</td>\n",
       "      <td>1968</td>\n",
       "    </tr>\n",
       "    <tr>\n",
       "      <th>8622</th>\n",
       "      <td>c_84</td>\n",
       "      <td>f</td>\n",
       "      <td>1982</td>\n",
       "    </tr>\n",
       "  </tbody>\n",
       "</table>\n",
       "<p>8621 rows × 3 columns</p>\n",
       "</div>"
      ],
      "text/plain": [
       "     client_id sex  birth\n",
       "0       c_4410   f   1967\n",
       "1       c_7839   f   1975\n",
       "2       c_1699   f   1984\n",
       "3       c_5961   f   1962\n",
       "4       c_5320   m   1943\n",
       "...        ...  ..    ...\n",
       "8618    c_7920   m   1956\n",
       "8619    c_7403   f   1970\n",
       "8620    c_5119   m   1974\n",
       "8621    c_5643   f   1968\n",
       "8622      c_84   f   1982\n",
       "\n",
       "[8621 rows x 3 columns]"
      ]
     },
     "execution_count": 20,
     "metadata": {},
     "output_type": "execute_result"
    }
   ],
   "source": [
    "customer = customer[customer[\"client_id\"] != \"ct_0\"]\n",
    "customer = customer[customer[\"client_id\"] != \"ct_1\"]\n",
    "customer"
   ]
  },
  {
   "cell_type": "code",
   "execution_count": 21,
   "id": "a3da2fb3",
   "metadata": {
    "scrolled": true
   },
   "outputs": [
    {
     "name": "stdout",
     "output_type": "stream",
     "text": [
      "<class 'pandas.core.frame.DataFrame'>\n",
      "Int64Index: 336816 entries, 0 to 337015\n",
      "Data columns (total 4 columns):\n",
      " #   Column      Non-Null Count   Dtype \n",
      "---  ------      --------------   ----- \n",
      " 0   id_prod     336816 non-null  object\n",
      " 1   date        336816 non-null  object\n",
      " 2   session_id  336816 non-null  object\n",
      " 3   client_id   336816 non-null  object\n",
      "dtypes: object(4)\n",
      "memory usage: 12.8+ MB\n"
     ]
    }
   ],
   "source": [
    "# Looking for NaN values in sales table\n",
    "sales.info()"
   ]
  },
  {
   "cell_type": "code",
   "execution_count": 22,
   "id": "e92b12d7",
   "metadata": {},
   "outputs": [],
   "source": [
    "# Change date column into datetime object\n",
    "sales[\"date\"] = pd.to_datetime(sales.date)"
   ]
  },
  {
   "cell_type": "markdown",
   "id": "d0cb046d",
   "metadata": {},
   "source": [
    "<a id='task_1_2'></a>"
   ]
  },
  {
   "cell_type": "markdown",
   "id": "8039882d",
   "metadata": {},
   "source": [
    "<font color='blue'>Looking for clients that are in the transaction table, but not in client table.</font>"
   ]
  },
  {
   "cell_type": "code",
   "execution_count": 23,
   "id": "70b717f8",
   "metadata": {
    "scrolled": true
   },
   "outputs": [
    {
     "data": {
      "text/plain": [
       "array([], dtype=object)"
      ]
     },
     "execution_count": 23,
     "metadata": {},
     "output_type": "execute_result"
    }
   ],
   "source": [
    "customer_client_id = customer.client_id.unique()\n",
    "sales_client_id = sales.client_id.unique()\n",
    "missing_client_id = np.setdiff1d(\n",
    "    sales_client_id, customer_client_id, assume_unique=True\n",
    ")\n",
    "missing_client_id"
   ]
  },
  {
   "cell_type": "markdown",
   "id": "e54e74db",
   "metadata": {},
   "source": [
    "<font color='blue'>Seems like every client who placed an order exists in the client table.</font>"
   ]
  },
  {
   "cell_type": "markdown",
   "id": "8c4446b2",
   "metadata": {},
   "source": [
    "<font color='blue'>Moving on. Looking for products that are in the transaction table, but not in product table.</font>"
   ]
  },
  {
   "cell_type": "code",
   "execution_count": 24,
   "id": "f461b806",
   "metadata": {},
   "outputs": [
    {
     "data": {
      "text/plain": [
       "array(['0_2245'], dtype=object)"
      ]
     },
     "execution_count": 24,
     "metadata": {},
     "output_type": "execute_result"
    }
   ],
   "source": [
    "product_id = products.id_prod.unique()\n",
    "sales_product_id = sales.id_prod.unique()\n",
    "missing_product_id = np.setdiff1d(sales_product_id, product_id, assume_unique=True)\n",
    "missing_product_id"
   ]
  },
  {
   "cell_type": "markdown",
   "id": "1bafa2e6",
   "metadata": {},
   "source": [
    "<font color='blue'>Product '0_2245' is present in the sales table but not in product table. Further investigation is needed before deciding what to do with it.</font>"
   ]
  },
  {
   "cell_type": "code",
   "execution_count": 25,
   "id": "1510b257",
   "metadata": {
    "scrolled": false
   },
   "outputs": [
    {
     "data": {
      "text/html": [
       "<div>\n",
       "<style scoped>\n",
       "    .dataframe tbody tr th:only-of-type {\n",
       "        vertical-align: middle;\n",
       "    }\n",
       "\n",
       "    .dataframe tbody tr th {\n",
       "        vertical-align: top;\n",
       "    }\n",
       "\n",
       "    .dataframe thead th {\n",
       "        text-align: right;\n",
       "    }\n",
       "</style>\n",
       "<table border=\"1\" class=\"dataframe\">\n",
       "  <thead>\n",
       "    <tr style=\"text-align: right;\">\n",
       "      <th></th>\n",
       "      <th>id_prod</th>\n",
       "      <th>date</th>\n",
       "      <th>session_id</th>\n",
       "      <th>client_id</th>\n",
       "    </tr>\n",
       "  </thead>\n",
       "  <tbody>\n",
       "    <tr>\n",
       "      <th>6235</th>\n",
       "      <td>0_2245</td>\n",
       "      <td>2021-06-17 03:03:12.668129</td>\n",
       "      <td>s_49705</td>\n",
       "      <td>c_1533</td>\n",
       "    </tr>\n",
       "    <tr>\n",
       "      <th>10802</th>\n",
       "      <td>0_2245</td>\n",
       "      <td>2021-06-16 05:53:01.627491</td>\n",
       "      <td>s_49323</td>\n",
       "      <td>c_7954</td>\n",
       "    </tr>\n",
       "    <tr>\n",
       "      <th>14051</th>\n",
       "      <td>0_2245</td>\n",
       "      <td>2021-11-24 17:35:59.911427</td>\n",
       "      <td>s_124474</td>\n",
       "      <td>c_5120</td>\n",
       "    </tr>\n",
       "    <tr>\n",
       "      <th>17486</th>\n",
       "      <td>0_2245</td>\n",
       "      <td>2022-02-28 18:08:49.875709</td>\n",
       "      <td>s_172304</td>\n",
       "      <td>c_4964</td>\n",
       "    </tr>\n",
       "    <tr>\n",
       "      <th>21078</th>\n",
       "      <td>0_2245</td>\n",
       "      <td>2021-03-01 00:09:29.301897</td>\n",
       "      <td>s_3</td>\n",
       "      <td>c_580</td>\n",
       "    </tr>\n",
       "    <tr>\n",
       "      <th>...</th>\n",
       "      <td>...</td>\n",
       "      <td>...</td>\n",
       "      <td>...</td>\n",
       "      <td>...</td>\n",
       "    </tr>\n",
       "    <tr>\n",
       "      <th>322710</th>\n",
       "      <td>0_2245</td>\n",
       "      <td>2021-04-06 19:59:19.462288</td>\n",
       "      <td>s_16936</td>\n",
       "      <td>c_4167</td>\n",
       "    </tr>\n",
       "    <tr>\n",
       "      <th>329417</th>\n",
       "      <td>0_2245</td>\n",
       "      <td>2021-03-30 23:29:02.347672</td>\n",
       "      <td>s_13738</td>\n",
       "      <td>c_7790</td>\n",
       "    </tr>\n",
       "    <tr>\n",
       "      <th>330490</th>\n",
       "      <td>0_2245</td>\n",
       "      <td>2021-12-03 14:14:40.444177</td>\n",
       "      <td>s_128815</td>\n",
       "      <td>c_6189</td>\n",
       "    </tr>\n",
       "    <tr>\n",
       "      <th>335531</th>\n",
       "      <td>0_2245</td>\n",
       "      <td>2021-04-27 18:58:47.703374</td>\n",
       "      <td>s_26624</td>\n",
       "      <td>c_1595</td>\n",
       "    </tr>\n",
       "    <tr>\n",
       "      <th>336220</th>\n",
       "      <td>0_2245</td>\n",
       "      <td>2021-05-01 03:35:03.146305</td>\n",
       "      <td>s_28235</td>\n",
       "      <td>c_5714</td>\n",
       "    </tr>\n",
       "  </tbody>\n",
       "</table>\n",
       "<p>103 rows × 4 columns</p>\n",
       "</div>"
      ],
      "text/plain": [
       "       id_prod                       date session_id client_id\n",
       "6235    0_2245 2021-06-17 03:03:12.668129    s_49705    c_1533\n",
       "10802   0_2245 2021-06-16 05:53:01.627491    s_49323    c_7954\n",
       "14051   0_2245 2021-11-24 17:35:59.911427   s_124474    c_5120\n",
       "17486   0_2245 2022-02-28 18:08:49.875709   s_172304    c_4964\n",
       "21078   0_2245 2021-03-01 00:09:29.301897        s_3     c_580\n",
       "...        ...                        ...        ...       ...\n",
       "322710  0_2245 2021-04-06 19:59:19.462288    s_16936    c_4167\n",
       "329417  0_2245 2021-03-30 23:29:02.347672    s_13738    c_7790\n",
       "330490  0_2245 2021-12-03 14:14:40.444177   s_128815    c_6189\n",
       "335531  0_2245 2021-04-27 18:58:47.703374    s_26624    c_1595\n",
       "336220  0_2245 2021-05-01 03:35:03.146305    s_28235    c_5714\n",
       "\n",
       "[103 rows x 4 columns]"
      ]
     },
     "execution_count": 25,
     "metadata": {},
     "output_type": "execute_result"
    }
   ],
   "source": [
    "# Looking for the number of transactions on this product\n",
    "sales[sales[\"id_prod\"] == \"0_2245\"]"
   ]
  },
  {
   "cell_type": "markdown",
   "id": "3d9ec743",
   "metadata": {},
   "source": [
    "<font color='blue'>As there are considerable number of transactions related product 0_2245, it cannot simply be removed. I need to give it a price value.</font>"
   ]
  },
  {
   "cell_type": "code",
   "execution_count": 26,
   "id": "c82bdc86",
   "metadata": {
    "scrolled": false
   },
   "outputs": [
    {
     "data": {
      "text/html": [
       "<div>\n",
       "<style scoped>\n",
       "    .dataframe tbody tr th:only-of-type {\n",
       "        vertical-align: middle;\n",
       "    }\n",
       "\n",
       "    .dataframe tbody tr th {\n",
       "        vertical-align: top;\n",
       "    }\n",
       "\n",
       "    .dataframe thead th {\n",
       "        text-align: right;\n",
       "    }\n",
       "</style>\n",
       "<table border=\"1\" class=\"dataframe\">\n",
       "  <thead>\n",
       "    <tr style=\"text-align: right;\">\n",
       "      <th></th>\n",
       "      <th>id_prod</th>\n",
       "      <th>price</th>\n",
       "      <th>categ</th>\n",
       "    </tr>\n",
       "  </thead>\n",
       "  <tbody>\n",
       "    <tr>\n",
       "      <th>331</th>\n",
       "      <td>0_2249</td>\n",
       "      <td>2.99</td>\n",
       "      <td>0</td>\n",
       "    </tr>\n",
       "    <tr>\n",
       "      <th>388</th>\n",
       "      <td>0_2246</td>\n",
       "      <td>6.30</td>\n",
       "      <td>0</td>\n",
       "    </tr>\n",
       "    <tr>\n",
       "      <th>778</th>\n",
       "      <td>0_2247</td>\n",
       "      <td>2.99</td>\n",
       "      <td>0</td>\n",
       "    </tr>\n",
       "    <tr>\n",
       "      <th>1303</th>\n",
       "      <td>0_2242</td>\n",
       "      <td>31.79</td>\n",
       "      <td>0</td>\n",
       "    </tr>\n",
       "    <tr>\n",
       "      <th>1367</th>\n",
       "      <td>0_2250</td>\n",
       "      <td>20.77</td>\n",
       "      <td>0</td>\n",
       "    </tr>\n",
       "    <tr>\n",
       "      <th>1725</th>\n",
       "      <td>0_2244</td>\n",
       "      <td>8.37</td>\n",
       "      <td>0</td>\n",
       "    </tr>\n",
       "    <tr>\n",
       "      <th>2482</th>\n",
       "      <td>0_2241</td>\n",
       "      <td>10.99</td>\n",
       "      <td>0</td>\n",
       "    </tr>\n",
       "    <tr>\n",
       "      <th>2552</th>\n",
       "      <td>0_2240</td>\n",
       "      <td>3.67</td>\n",
       "      <td>0</td>\n",
       "    </tr>\n",
       "    <tr>\n",
       "      <th>2815</th>\n",
       "      <td>0_2243</td>\n",
       "      <td>8.99</td>\n",
       "      <td>0</td>\n",
       "    </tr>\n",
       "    <tr>\n",
       "      <th>3211</th>\n",
       "      <td>0_2248</td>\n",
       "      <td>19.58</td>\n",
       "      <td>0</td>\n",
       "    </tr>\n",
       "  </tbody>\n",
       "</table>\n",
       "</div>"
      ],
      "text/plain": [
       "     id_prod  price  categ\n",
       "331   0_2249   2.99      0\n",
       "388   0_2246   6.30      0\n",
       "778   0_2247   2.99      0\n",
       "1303  0_2242  31.79      0\n",
       "1367  0_2250  20.77      0\n",
       "1725  0_2244   8.37      0\n",
       "2482  0_2241  10.99      0\n",
       "2552  0_2240   3.67      0\n",
       "2815  0_2243   8.99      0\n",
       "3211  0_2248  19.58      0"
      ]
     },
     "execution_count": 26,
     "metadata": {},
     "output_type": "execute_result"
    }
   ],
   "source": [
    "# Looking for pricing logic amongst consecutive product id.\n",
    "products[\n",
    "    products[\"id_prod\"].isin(\n",
    "        [\n",
    "            \"0_2240\",\n",
    "            \"0_2241\",\n",
    "            \"0_2242\",\n",
    "            \"0_2243\",\n",
    "            \"0_2244\",\n",
    "            \"0_2245\",\n",
    "            \"0_2246\",\n",
    "            \"0_2247\",\n",
    "            \"0_2248\",\n",
    "            \"0_2249\",\n",
    "            \"0_2250\",\n",
    "        ]\n",
    "    )\n",
    "]"
   ]
  },
  {
   "cell_type": "markdown",
   "id": "0dd754de",
   "metadata": {},
   "source": [
    "<font color='blue'>No correlation between the order of product ids and their prices.<br>\n",
    "What about by category?</font>"
   ]
  },
  {
   "cell_type": "code",
   "execution_count": 27,
   "id": "94b9e951",
   "metadata": {
    "scrolled": true
   },
   "outputs": [
    {
     "data": {
      "text/html": [
       "<div>\n",
       "<style scoped>\n",
       "    .dataframe tbody tr th:only-of-type {\n",
       "        vertical-align: middle;\n",
       "    }\n",
       "\n",
       "    .dataframe tbody tr th {\n",
       "        vertical-align: top;\n",
       "    }\n",
       "\n",
       "    .dataframe thead th {\n",
       "        text-align: right;\n",
       "    }\n",
       "</style>\n",
       "<table border=\"1\" class=\"dataframe\">\n",
       "  <thead>\n",
       "    <tr style=\"text-align: right;\">\n",
       "      <th></th>\n",
       "      <th>price</th>\n",
       "      <th>categ</th>\n",
       "    </tr>\n",
       "  </thead>\n",
       "  <tbody>\n",
       "    <tr>\n",
       "      <th>count</th>\n",
       "      <td>2308.000000</td>\n",
       "      <td>2308.0</td>\n",
       "    </tr>\n",
       "    <tr>\n",
       "      <th>mean</th>\n",
       "      <td>11.732795</td>\n",
       "      <td>0.0</td>\n",
       "    </tr>\n",
       "    <tr>\n",
       "      <th>std</th>\n",
       "      <td>7.565755</td>\n",
       "      <td>0.0</td>\n",
       "    </tr>\n",
       "    <tr>\n",
       "      <th>min</th>\n",
       "      <td>0.620000</td>\n",
       "      <td>0.0</td>\n",
       "    </tr>\n",
       "    <tr>\n",
       "      <th>25%</th>\n",
       "      <td>5.587500</td>\n",
       "      <td>0.0</td>\n",
       "    </tr>\n",
       "    <tr>\n",
       "      <th>50%</th>\n",
       "      <td>10.320000</td>\n",
       "      <td>0.0</td>\n",
       "    </tr>\n",
       "    <tr>\n",
       "      <th>75%</th>\n",
       "      <td>16.655000</td>\n",
       "      <td>0.0</td>\n",
       "    </tr>\n",
       "    <tr>\n",
       "      <th>max</th>\n",
       "      <td>40.990000</td>\n",
       "      <td>0.0</td>\n",
       "    </tr>\n",
       "  </tbody>\n",
       "</table>\n",
       "</div>"
      ],
      "text/plain": [
       "             price   categ\n",
       "count  2308.000000  2308.0\n",
       "mean     11.732795     0.0\n",
       "std       7.565755     0.0\n",
       "min       0.620000     0.0\n",
       "25%       5.587500     0.0\n",
       "50%      10.320000     0.0\n",
       "75%      16.655000     0.0\n",
       "max      40.990000     0.0"
      ]
     },
     "execution_count": 27,
     "metadata": {},
     "output_type": "execute_result"
    }
   ],
   "source": [
    "products[products[\"categ\"] == 0].describe()"
   ]
  },
  {
   "cell_type": "code",
   "execution_count": 28,
   "id": "95454410",
   "metadata": {
    "scrolled": true
   },
   "outputs": [
    {
     "data": {
      "text/html": [
       "<div>\n",
       "<style scoped>\n",
       "    .dataframe tbody tr th:only-of-type {\n",
       "        vertical-align: middle;\n",
       "    }\n",
       "\n",
       "    .dataframe tbody tr th {\n",
       "        vertical-align: top;\n",
       "    }\n",
       "\n",
       "    .dataframe thead th {\n",
       "        text-align: right;\n",
       "    }\n",
       "</style>\n",
       "<table border=\"1\" class=\"dataframe\">\n",
       "  <thead>\n",
       "    <tr style=\"text-align: right;\">\n",
       "      <th></th>\n",
       "      <th>price</th>\n",
       "      <th>categ</th>\n",
       "    </tr>\n",
       "  </thead>\n",
       "  <tbody>\n",
       "    <tr>\n",
       "      <th>count</th>\n",
       "      <td>739.000000</td>\n",
       "      <td>739.0</td>\n",
       "    </tr>\n",
       "    <tr>\n",
       "      <th>mean</th>\n",
       "      <td>25.531421</td>\n",
       "      <td>1.0</td>\n",
       "    </tr>\n",
       "    <tr>\n",
       "      <th>std</th>\n",
       "      <td>15.425162</td>\n",
       "      <td>0.0</td>\n",
       "    </tr>\n",
       "    <tr>\n",
       "      <th>min</th>\n",
       "      <td>2.000000</td>\n",
       "      <td>1.0</td>\n",
       "    </tr>\n",
       "    <tr>\n",
       "      <th>25%</th>\n",
       "      <td>13.390000</td>\n",
       "      <td>1.0</td>\n",
       "    </tr>\n",
       "    <tr>\n",
       "      <th>50%</th>\n",
       "      <td>22.990000</td>\n",
       "      <td>1.0</td>\n",
       "    </tr>\n",
       "    <tr>\n",
       "      <th>75%</th>\n",
       "      <td>33.990000</td>\n",
       "      <td>1.0</td>\n",
       "    </tr>\n",
       "    <tr>\n",
       "      <th>max</th>\n",
       "      <td>80.990000</td>\n",
       "      <td>1.0</td>\n",
       "    </tr>\n",
       "  </tbody>\n",
       "</table>\n",
       "</div>"
      ],
      "text/plain": [
       "            price  categ\n",
       "count  739.000000  739.0\n",
       "mean    25.531421    1.0\n",
       "std     15.425162    0.0\n",
       "min      2.000000    1.0\n",
       "25%     13.390000    1.0\n",
       "50%     22.990000    1.0\n",
       "75%     33.990000    1.0\n",
       "max     80.990000    1.0"
      ]
     },
     "execution_count": 28,
     "metadata": {},
     "output_type": "execute_result"
    }
   ],
   "source": [
    "products[products[\"categ\"] == 1].describe()"
   ]
  },
  {
   "cell_type": "code",
   "execution_count": 29,
   "id": "2ac930cb",
   "metadata": {
    "scrolled": true
   },
   "outputs": [
    {
     "data": {
      "text/html": [
       "<div>\n",
       "<style scoped>\n",
       "    .dataframe tbody tr th:only-of-type {\n",
       "        vertical-align: middle;\n",
       "    }\n",
       "\n",
       "    .dataframe tbody tr th {\n",
       "        vertical-align: top;\n",
       "    }\n",
       "\n",
       "    .dataframe thead th {\n",
       "        text-align: right;\n",
       "    }\n",
       "</style>\n",
       "<table border=\"1\" class=\"dataframe\">\n",
       "  <thead>\n",
       "    <tr style=\"text-align: right;\">\n",
       "      <th></th>\n",
       "      <th>price</th>\n",
       "      <th>categ</th>\n",
       "    </tr>\n",
       "  </thead>\n",
       "  <tbody>\n",
       "    <tr>\n",
       "      <th>count</th>\n",
       "      <td>239.000000</td>\n",
       "      <td>239.0</td>\n",
       "    </tr>\n",
       "    <tr>\n",
       "      <th>mean</th>\n",
       "      <td>108.354686</td>\n",
       "      <td>2.0</td>\n",
       "    </tr>\n",
       "    <tr>\n",
       "      <th>std</th>\n",
       "      <td>49.561431</td>\n",
       "      <td>0.0</td>\n",
       "    </tr>\n",
       "    <tr>\n",
       "      <th>min</th>\n",
       "      <td>30.990000</td>\n",
       "      <td>2.0</td>\n",
       "    </tr>\n",
       "    <tr>\n",
       "      <th>25%</th>\n",
       "      <td>71.065000</td>\n",
       "      <td>2.0</td>\n",
       "    </tr>\n",
       "    <tr>\n",
       "      <th>50%</th>\n",
       "      <td>101.990000</td>\n",
       "      <td>2.0</td>\n",
       "    </tr>\n",
       "    <tr>\n",
       "      <th>75%</th>\n",
       "      <td>136.530000</td>\n",
       "      <td>2.0</td>\n",
       "    </tr>\n",
       "    <tr>\n",
       "      <th>max</th>\n",
       "      <td>300.000000</td>\n",
       "      <td>2.0</td>\n",
       "    </tr>\n",
       "  </tbody>\n",
       "</table>\n",
       "</div>"
      ],
      "text/plain": [
       "            price  categ\n",
       "count  239.000000  239.0\n",
       "mean   108.354686    2.0\n",
       "std     49.561431    0.0\n",
       "min     30.990000    2.0\n",
       "25%     71.065000    2.0\n",
       "50%    101.990000    2.0\n",
       "75%    136.530000    2.0\n",
       "max    300.000000    2.0"
      ]
     },
     "execution_count": 29,
     "metadata": {},
     "output_type": "execute_result"
    }
   ],
   "source": [
    "products[products[\"categ\"] == 2].describe()"
   ]
  },
  {
   "cell_type": "markdown",
   "id": "84ca191e",
   "metadata": {},
   "source": [
    "<font color='blue'>Product prices seem to vary per category, ie.categ 0 seem to be on the lower end of the product price range, categ 1 in the middle range, and categ 2 on the higher end.<br>\n",
    "Assigning the price mean of product categ 0 to product 0_2245, which is 11.73.</font>"
   ]
  },
  {
   "cell_type": "code",
   "execution_count": 30,
   "id": "34767a11",
   "metadata": {},
   "outputs": [],
   "source": [
    "new_prod = {\"id_prod\": \"0_2245\", \"price\": 11.73, \"categ\": 0}\n",
    "products = products.append(new_prod, ignore_index=True)"
   ]
  },
  {
   "cell_type": "code",
   "execution_count": 31,
   "id": "22cfb47f",
   "metadata": {},
   "outputs": [
    {
     "data": {
      "text/html": [
       "<div>\n",
       "<style scoped>\n",
       "    .dataframe tbody tr th:only-of-type {\n",
       "        vertical-align: middle;\n",
       "    }\n",
       "\n",
       "    .dataframe tbody tr th {\n",
       "        vertical-align: top;\n",
       "    }\n",
       "\n",
       "    .dataframe thead th {\n",
       "        text-align: right;\n",
       "    }\n",
       "</style>\n",
       "<table border=\"1\" class=\"dataframe\">\n",
       "  <thead>\n",
       "    <tr style=\"text-align: right;\">\n",
       "      <th></th>\n",
       "      <th>id_prod</th>\n",
       "      <th>price</th>\n",
       "      <th>categ</th>\n",
       "    </tr>\n",
       "  </thead>\n",
       "  <tbody>\n",
       "    <tr>\n",
       "      <th>3286</th>\n",
       "      <td>0_2245</td>\n",
       "      <td>11.73</td>\n",
       "      <td>0</td>\n",
       "    </tr>\n",
       "  </tbody>\n",
       "</table>\n",
       "</div>"
      ],
      "text/plain": [
       "     id_prod  price  categ\n",
       "3286  0_2245  11.73      0"
      ]
     },
     "execution_count": 31,
     "metadata": {},
     "output_type": "execute_result"
    }
   ],
   "source": [
    "products[products[\"id_prod\"] == \"0_2245\"]"
   ]
  },
  {
   "cell_type": "markdown",
   "id": "2bc3b30b",
   "metadata": {},
   "source": [
    "<font color='blue'>Creating new variables.</font>"
   ]
  },
  {
   "cell_type": "code",
   "execution_count": 32,
   "id": "7def1689",
   "metadata": {
    "scrolled": true
   },
   "outputs": [
    {
     "data": {
      "text/html": [
       "<div>\n",
       "<style scoped>\n",
       "    .dataframe tbody tr th:only-of-type {\n",
       "        vertical-align: middle;\n",
       "    }\n",
       "\n",
       "    .dataframe tbody tr th {\n",
       "        vertical-align: top;\n",
       "    }\n",
       "\n",
       "    .dataframe thead th {\n",
       "        text-align: right;\n",
       "    }\n",
       "</style>\n",
       "<table border=\"1\" class=\"dataframe\">\n",
       "  <thead>\n",
       "    <tr style=\"text-align: right;\">\n",
       "      <th></th>\n",
       "      <th>client_id</th>\n",
       "      <th>sex</th>\n",
       "      <th>birth</th>\n",
       "      <th>age</th>\n",
       "    </tr>\n",
       "  </thead>\n",
       "  <tbody>\n",
       "    <tr>\n",
       "      <th>0</th>\n",
       "      <td>c_4410</td>\n",
       "      <td>f</td>\n",
       "      <td>1967</td>\n",
       "      <td>55</td>\n",
       "    </tr>\n",
       "    <tr>\n",
       "      <th>1</th>\n",
       "      <td>c_7839</td>\n",
       "      <td>f</td>\n",
       "      <td>1975</td>\n",
       "      <td>47</td>\n",
       "    </tr>\n",
       "    <tr>\n",
       "      <th>2</th>\n",
       "      <td>c_1699</td>\n",
       "      <td>f</td>\n",
       "      <td>1984</td>\n",
       "      <td>38</td>\n",
       "    </tr>\n",
       "    <tr>\n",
       "      <th>3</th>\n",
       "      <td>c_5961</td>\n",
       "      <td>f</td>\n",
       "      <td>1962</td>\n",
       "      <td>60</td>\n",
       "    </tr>\n",
       "    <tr>\n",
       "      <th>4</th>\n",
       "      <td>c_5320</td>\n",
       "      <td>m</td>\n",
       "      <td>1943</td>\n",
       "      <td>79</td>\n",
       "    </tr>\n",
       "    <tr>\n",
       "      <th>...</th>\n",
       "      <td>...</td>\n",
       "      <td>...</td>\n",
       "      <td>...</td>\n",
       "      <td>...</td>\n",
       "    </tr>\n",
       "    <tr>\n",
       "      <th>8618</th>\n",
       "      <td>c_7920</td>\n",
       "      <td>m</td>\n",
       "      <td>1956</td>\n",
       "      <td>66</td>\n",
       "    </tr>\n",
       "    <tr>\n",
       "      <th>8619</th>\n",
       "      <td>c_7403</td>\n",
       "      <td>f</td>\n",
       "      <td>1970</td>\n",
       "      <td>52</td>\n",
       "    </tr>\n",
       "    <tr>\n",
       "      <th>8620</th>\n",
       "      <td>c_5119</td>\n",
       "      <td>m</td>\n",
       "      <td>1974</td>\n",
       "      <td>48</td>\n",
       "    </tr>\n",
       "    <tr>\n",
       "      <th>8621</th>\n",
       "      <td>c_5643</td>\n",
       "      <td>f</td>\n",
       "      <td>1968</td>\n",
       "      <td>54</td>\n",
       "    </tr>\n",
       "    <tr>\n",
       "      <th>8622</th>\n",
       "      <td>c_84</td>\n",
       "      <td>f</td>\n",
       "      <td>1982</td>\n",
       "      <td>40</td>\n",
       "    </tr>\n",
       "  </tbody>\n",
       "</table>\n",
       "<p>8621 rows × 4 columns</p>\n",
       "</div>"
      ],
      "text/plain": [
       "     client_id sex  birth  age\n",
       "0       c_4410   f   1967   55\n",
       "1       c_7839   f   1975   47\n",
       "2       c_1699   f   1984   38\n",
       "3       c_5961   f   1962   60\n",
       "4       c_5320   m   1943   79\n",
       "...        ...  ..    ...  ...\n",
       "8618    c_7920   m   1956   66\n",
       "8619    c_7403   f   1970   52\n",
       "8620    c_5119   m   1974   48\n",
       "8621    c_5643   f   1968   54\n",
       "8622      c_84   f   1982   40\n",
       "\n",
       "[8621 rows x 4 columns]"
      ]
     },
     "execution_count": 32,
     "metadata": {},
     "output_type": "execute_result"
    }
   ],
   "source": [
    "# Creating variable: customer's age\n",
    "customer[\"age\"] = 2022 - customer[\"birth\"]\n",
    "customer"
   ]
  },
  {
   "cell_type": "markdown",
   "id": "53afa7c9",
   "metadata": {},
   "source": [
    "<a id='task1_3'></a>"
   ]
  },
  {
   "cell_type": "markdown",
   "id": "8b98fd23",
   "metadata": {},
   "source": [
    "<font color='blue'>Creating variable: session duration</font>"
   ]
  },
  {
   "cell_type": "code",
   "execution_count": 33,
   "id": "3d1e8164",
   "metadata": {
    "scrolled": true
   },
   "outputs": [
    {
     "data": {
      "text/html": [
       "<div>\n",
       "<style scoped>\n",
       "    .dataframe tbody tr th:only-of-type {\n",
       "        vertical-align: middle;\n",
       "    }\n",
       "\n",
       "    .dataframe tbody tr th {\n",
       "        vertical-align: top;\n",
       "    }\n",
       "\n",
       "    .dataframe thead th {\n",
       "        text-align: right;\n",
       "    }\n",
       "</style>\n",
       "<table border=\"1\" class=\"dataframe\">\n",
       "  <thead>\n",
       "    <tr style=\"text-align: right;\">\n",
       "      <th></th>\n",
       "      <th>session_id</th>\n",
       "      <th>start</th>\n",
       "    </tr>\n",
       "  </thead>\n",
       "  <tbody>\n",
       "    <tr>\n",
       "      <th>0</th>\n",
       "      <td>s_1</td>\n",
       "      <td>2021-03-01 00:01:07.843138</td>\n",
       "    </tr>\n",
       "    <tr>\n",
       "      <th>1</th>\n",
       "      <td>s_10</td>\n",
       "      <td>2021-03-01 00:10:33.163037</td>\n",
       "    </tr>\n",
       "    <tr>\n",
       "      <th>2</th>\n",
       "      <td>s_100</td>\n",
       "      <td>2021-03-01 04:12:43.572994</td>\n",
       "    </tr>\n",
       "    <tr>\n",
       "      <th>3</th>\n",
       "      <td>s_1000</td>\n",
       "      <td>2021-03-03 02:38:09.568389</td>\n",
       "    </tr>\n",
       "    <tr>\n",
       "      <th>4</th>\n",
       "      <td>s_10000</td>\n",
       "      <td>2021-03-22 17:46:05.819130</td>\n",
       "    </tr>\n",
       "    <tr>\n",
       "      <th>...</th>\n",
       "      <td>...</td>\n",
       "      <td>...</td>\n",
       "    </tr>\n",
       "    <tr>\n",
       "      <th>169189</th>\n",
       "      <td>s_99994</td>\n",
       "      <td>2021-10-04 18:34:24.208113</td>\n",
       "    </tr>\n",
       "    <tr>\n",
       "      <th>169190</th>\n",
       "      <td>s_99995</td>\n",
       "      <td>2021-10-04 18:35:32.201073</td>\n",
       "    </tr>\n",
       "    <tr>\n",
       "      <th>169191</th>\n",
       "      <td>s_99996</td>\n",
       "      <td>2021-10-04 18:38:36.333661</td>\n",
       "    </tr>\n",
       "    <tr>\n",
       "      <th>169192</th>\n",
       "      <td>s_99997</td>\n",
       "      <td>2021-10-04 18:45:38.003516</td>\n",
       "    </tr>\n",
       "    <tr>\n",
       "      <th>169193</th>\n",
       "      <td>s_99998</td>\n",
       "      <td>2021-10-04 18:45:54.374885</td>\n",
       "    </tr>\n",
       "  </tbody>\n",
       "</table>\n",
       "<p>169194 rows × 2 columns</p>\n",
       "</div>"
      ],
      "text/plain": [
       "       session_id                      start\n",
       "0             s_1 2021-03-01 00:01:07.843138\n",
       "1            s_10 2021-03-01 00:10:33.163037\n",
       "2           s_100 2021-03-01 04:12:43.572994\n",
       "3          s_1000 2021-03-03 02:38:09.568389\n",
       "4         s_10000 2021-03-22 17:46:05.819130\n",
       "...           ...                        ...\n",
       "169189    s_99994 2021-10-04 18:34:24.208113\n",
       "169190    s_99995 2021-10-04 18:35:32.201073\n",
       "169191    s_99996 2021-10-04 18:38:36.333661\n",
       "169192    s_99997 2021-10-04 18:45:38.003516\n",
       "169193    s_99998 2021-10-04 18:45:54.374885\n",
       "\n",
       "[169194 rows x 2 columns]"
      ]
     },
     "execution_count": 33,
     "metadata": {},
     "output_type": "execute_result"
    }
   ],
   "source": [
    "# Create a new table with start time of each session\n",
    "duration = (\n",
    "    sales.groupby(\"session_id\")[\"date\"].min().to_frame().sort_values(by=\"session_id\")\n",
    ")\n",
    "duration.reset_index(inplace=True)\n",
    "duration = duration.rename(columns={\"date\": \"start\"})\n",
    "duration"
   ]
  },
  {
   "cell_type": "code",
   "execution_count": 34,
   "id": "a07bbf82",
   "metadata": {
    "scrolled": true
   },
   "outputs": [
    {
     "data": {
      "text/html": [
       "<div>\n",
       "<style scoped>\n",
       "    .dataframe tbody tr th:only-of-type {\n",
       "        vertical-align: middle;\n",
       "    }\n",
       "\n",
       "    .dataframe tbody tr th {\n",
       "        vertical-align: top;\n",
       "    }\n",
       "\n",
       "    .dataframe thead th {\n",
       "        text-align: right;\n",
       "    }\n",
       "</style>\n",
       "<table border=\"1\" class=\"dataframe\">\n",
       "  <thead>\n",
       "    <tr style=\"text-align: right;\">\n",
       "      <th></th>\n",
       "      <th>session_id</th>\n",
       "      <th>date</th>\n",
       "    </tr>\n",
       "  </thead>\n",
       "  <tbody>\n",
       "    <tr>\n",
       "      <th>0</th>\n",
       "      <td>s_1</td>\n",
       "      <td>2021-03-01 00:01:07.843138</td>\n",
       "    </tr>\n",
       "    <tr>\n",
       "      <th>1</th>\n",
       "      <td>s_10</td>\n",
       "      <td>2021-03-01 00:10:33.163037</td>\n",
       "    </tr>\n",
       "    <tr>\n",
       "      <th>2</th>\n",
       "      <td>s_100</td>\n",
       "      <td>2021-03-01 04:43:58.025677</td>\n",
       "    </tr>\n",
       "    <tr>\n",
       "      <th>3</th>\n",
       "      <td>s_1000</td>\n",
       "      <td>2021-03-03 03:25:12.320225</td>\n",
       "    </tr>\n",
       "    <tr>\n",
       "      <th>4</th>\n",
       "      <td>s_10000</td>\n",
       "      <td>2021-03-22 18:15:03.831240</td>\n",
       "    </tr>\n",
       "    <tr>\n",
       "      <th>...</th>\n",
       "      <td>...</td>\n",
       "      <td>...</td>\n",
       "    </tr>\n",
       "    <tr>\n",
       "      <th>169189</th>\n",
       "      <td>s_99994</td>\n",
       "      <td>2021-10-04 18:56:23.112236</td>\n",
       "    </tr>\n",
       "    <tr>\n",
       "      <th>169190</th>\n",
       "      <td>s_99995</td>\n",
       "      <td>2021-10-04 18:35:32.201073</td>\n",
       "    </tr>\n",
       "    <tr>\n",
       "      <th>169191</th>\n",
       "      <td>s_99996</td>\n",
       "      <td>2021-10-04 18:58:49.228317</td>\n",
       "    </tr>\n",
       "    <tr>\n",
       "      <th>169192</th>\n",
       "      <td>s_99997</td>\n",
       "      <td>2021-10-04 18:45:38.003516</td>\n",
       "    </tr>\n",
       "    <tr>\n",
       "      <th>169193</th>\n",
       "      <td>s_99998</td>\n",
       "      <td>2021-10-04 19:00:20.030388</td>\n",
       "    </tr>\n",
       "  </tbody>\n",
       "</table>\n",
       "<p>169194 rows × 2 columns</p>\n",
       "</div>"
      ],
      "text/plain": [
       "       session_id                       date\n",
       "0             s_1 2021-03-01 00:01:07.843138\n",
       "1            s_10 2021-03-01 00:10:33.163037\n",
       "2           s_100 2021-03-01 04:43:58.025677\n",
       "3          s_1000 2021-03-03 03:25:12.320225\n",
       "4         s_10000 2021-03-22 18:15:03.831240\n",
       "...           ...                        ...\n",
       "169189    s_99994 2021-10-04 18:56:23.112236\n",
       "169190    s_99995 2021-10-04 18:35:32.201073\n",
       "169191    s_99996 2021-10-04 18:58:49.228317\n",
       "169192    s_99997 2021-10-04 18:45:38.003516\n",
       "169193    s_99998 2021-10-04 19:00:20.030388\n",
       "\n",
       "[169194 rows x 2 columns]"
      ]
     },
     "execution_count": 34,
     "metadata": {},
     "output_type": "execute_result"
    }
   ],
   "source": [
    "# Create a new table with finish time of each session\n",
    "duration_max = sales.groupby(\"session_id\")[\"date\"].max().to_frame()\n",
    "duration_max.reset_index(inplace=True)\n",
    "duration_max"
   ]
  },
  {
   "cell_type": "code",
   "execution_count": 35,
   "id": "cab25449",
   "metadata": {
    "scrolled": true
   },
   "outputs": [
    {
     "data": {
      "text/html": [
       "<div>\n",
       "<style scoped>\n",
       "    .dataframe tbody tr th:only-of-type {\n",
       "        vertical-align: middle;\n",
       "    }\n",
       "\n",
       "    .dataframe tbody tr th {\n",
       "        vertical-align: top;\n",
       "    }\n",
       "\n",
       "    .dataframe thead th {\n",
       "        text-align: right;\n",
       "    }\n",
       "</style>\n",
       "<table border=\"1\" class=\"dataframe\">\n",
       "  <thead>\n",
       "    <tr style=\"text-align: right;\">\n",
       "      <th></th>\n",
       "      <th>session_id</th>\n",
       "      <th>start</th>\n",
       "      <th>finish</th>\n",
       "    </tr>\n",
       "  </thead>\n",
       "  <tbody>\n",
       "    <tr>\n",
       "      <th>0</th>\n",
       "      <td>s_1</td>\n",
       "      <td>2021-03-01 00:01:07.843138</td>\n",
       "      <td>2021-03-01 00:01:07.843138</td>\n",
       "    </tr>\n",
       "    <tr>\n",
       "      <th>1</th>\n",
       "      <td>s_10</td>\n",
       "      <td>2021-03-01 00:10:33.163037</td>\n",
       "      <td>2021-03-01 00:10:33.163037</td>\n",
       "    </tr>\n",
       "    <tr>\n",
       "      <th>2</th>\n",
       "      <td>s_100</td>\n",
       "      <td>2021-03-01 04:12:43.572994</td>\n",
       "      <td>2021-03-01 04:43:58.025677</td>\n",
       "    </tr>\n",
       "    <tr>\n",
       "      <th>3</th>\n",
       "      <td>s_1000</td>\n",
       "      <td>2021-03-03 02:38:09.568389</td>\n",
       "      <td>2021-03-03 03:25:12.320225</td>\n",
       "    </tr>\n",
       "    <tr>\n",
       "      <th>4</th>\n",
       "      <td>s_10000</td>\n",
       "      <td>2021-03-22 17:46:05.819130</td>\n",
       "      <td>2021-03-22 18:15:03.831240</td>\n",
       "    </tr>\n",
       "    <tr>\n",
       "      <th>...</th>\n",
       "      <td>...</td>\n",
       "      <td>...</td>\n",
       "      <td>...</td>\n",
       "    </tr>\n",
       "    <tr>\n",
       "      <th>169189</th>\n",
       "      <td>s_99994</td>\n",
       "      <td>2021-10-04 18:34:24.208113</td>\n",
       "      <td>2021-10-04 18:56:23.112236</td>\n",
       "    </tr>\n",
       "    <tr>\n",
       "      <th>169190</th>\n",
       "      <td>s_99995</td>\n",
       "      <td>2021-10-04 18:35:32.201073</td>\n",
       "      <td>2021-10-04 18:35:32.201073</td>\n",
       "    </tr>\n",
       "    <tr>\n",
       "      <th>169191</th>\n",
       "      <td>s_99996</td>\n",
       "      <td>2021-10-04 18:38:36.333661</td>\n",
       "      <td>2021-10-04 18:58:49.228317</td>\n",
       "    </tr>\n",
       "    <tr>\n",
       "      <th>169192</th>\n",
       "      <td>s_99997</td>\n",
       "      <td>2021-10-04 18:45:38.003516</td>\n",
       "      <td>2021-10-04 18:45:38.003516</td>\n",
       "    </tr>\n",
       "    <tr>\n",
       "      <th>169193</th>\n",
       "      <td>s_99998</td>\n",
       "      <td>2021-10-04 18:45:54.374885</td>\n",
       "      <td>2021-10-04 19:00:20.030388</td>\n",
       "    </tr>\n",
       "  </tbody>\n",
       "</table>\n",
       "<p>169194 rows × 3 columns</p>\n",
       "</div>"
      ],
      "text/plain": [
       "       session_id                      start                     finish\n",
       "0             s_1 2021-03-01 00:01:07.843138 2021-03-01 00:01:07.843138\n",
       "1            s_10 2021-03-01 00:10:33.163037 2021-03-01 00:10:33.163037\n",
       "2           s_100 2021-03-01 04:12:43.572994 2021-03-01 04:43:58.025677\n",
       "3          s_1000 2021-03-03 02:38:09.568389 2021-03-03 03:25:12.320225\n",
       "4         s_10000 2021-03-22 17:46:05.819130 2021-03-22 18:15:03.831240\n",
       "...           ...                        ...                        ...\n",
       "169189    s_99994 2021-10-04 18:34:24.208113 2021-10-04 18:56:23.112236\n",
       "169190    s_99995 2021-10-04 18:35:32.201073 2021-10-04 18:35:32.201073\n",
       "169191    s_99996 2021-10-04 18:38:36.333661 2021-10-04 18:58:49.228317\n",
       "169192    s_99997 2021-10-04 18:45:38.003516 2021-10-04 18:45:38.003516\n",
       "169193    s_99998 2021-10-04 18:45:54.374885 2021-10-04 19:00:20.030388\n",
       "\n",
       "[169194 rows x 3 columns]"
      ]
     },
     "execution_count": 35,
     "metadata": {},
     "output_type": "execute_result"
    }
   ],
   "source": [
    "duration[\"finish\"] = duration_max[\"date\"]\n",
    "duration"
   ]
  },
  {
   "cell_type": "code",
   "execution_count": 36,
   "id": "13a841d1",
   "metadata": {
    "scrolled": false
   },
   "outputs": [
    {
     "data": {
      "text/html": [
       "<div>\n",
       "<style scoped>\n",
       "    .dataframe tbody tr th:only-of-type {\n",
       "        vertical-align: middle;\n",
       "    }\n",
       "\n",
       "    .dataframe tbody tr th {\n",
       "        vertical-align: top;\n",
       "    }\n",
       "\n",
       "    .dataframe thead th {\n",
       "        text-align: right;\n",
       "    }\n",
       "</style>\n",
       "<table border=\"1\" class=\"dataframe\">\n",
       "  <thead>\n",
       "    <tr style=\"text-align: right;\">\n",
       "      <th></th>\n",
       "      <th>session_id</th>\n",
       "      <th>duration_minute</th>\n",
       "    </tr>\n",
       "  </thead>\n",
       "  <tbody>\n",
       "    <tr>\n",
       "      <th>0</th>\n",
       "      <td>s_1</td>\n",
       "      <td>0.000000</td>\n",
       "    </tr>\n",
       "    <tr>\n",
       "      <th>1</th>\n",
       "      <td>s_10</td>\n",
       "      <td>0.000000</td>\n",
       "    </tr>\n",
       "    <tr>\n",
       "      <th>2</th>\n",
       "      <td>s_100</td>\n",
       "      <td>31.240878</td>\n",
       "    </tr>\n",
       "    <tr>\n",
       "      <th>3</th>\n",
       "      <td>s_1000</td>\n",
       "      <td>47.045864</td>\n",
       "    </tr>\n",
       "    <tr>\n",
       "      <th>4</th>\n",
       "      <td>s_10000</td>\n",
       "      <td>28.966869</td>\n",
       "    </tr>\n",
       "    <tr>\n",
       "      <th>...</th>\n",
       "      <td>...</td>\n",
       "      <td>...</td>\n",
       "    </tr>\n",
       "    <tr>\n",
       "      <th>169189</th>\n",
       "      <td>s_99994</td>\n",
       "      <td>21.981735</td>\n",
       "    </tr>\n",
       "    <tr>\n",
       "      <th>169190</th>\n",
       "      <td>s_99995</td>\n",
       "      <td>0.000000</td>\n",
       "    </tr>\n",
       "    <tr>\n",
       "      <th>169191</th>\n",
       "      <td>s_99996</td>\n",
       "      <td>20.214911</td>\n",
       "    </tr>\n",
       "    <tr>\n",
       "      <th>169192</th>\n",
       "      <td>s_99997</td>\n",
       "      <td>0.000000</td>\n",
       "    </tr>\n",
       "    <tr>\n",
       "      <th>169193</th>\n",
       "      <td>s_99998</td>\n",
       "      <td>14.427592</td>\n",
       "    </tr>\n",
       "  </tbody>\n",
       "</table>\n",
       "<p>169194 rows × 2 columns</p>\n",
       "</div>"
      ],
      "text/plain": [
       "       session_id  duration_minute\n",
       "0             s_1         0.000000\n",
       "1            s_10         0.000000\n",
       "2           s_100        31.240878\n",
       "3          s_1000        47.045864\n",
       "4         s_10000        28.966869\n",
       "...           ...              ...\n",
       "169189    s_99994        21.981735\n",
       "169190    s_99995         0.000000\n",
       "169191    s_99996        20.214911\n",
       "169192    s_99997         0.000000\n",
       "169193    s_99998        14.427592\n",
       "\n",
       "[169194 rows x 2 columns]"
      ]
     },
     "execution_count": 36,
     "metadata": {},
     "output_type": "execute_result"
    }
   ],
   "source": [
    "duration[\"duration_minute\"] = (duration[\"finish\"] - duration[\"start\"]) / pd.Timedelta(\n",
    "    minutes=1\n",
    ")\n",
    "duration = duration.drop(columns=[\"start\", \"finish\"])\n",
    "duration"
   ]
  },
  {
   "cell_type": "code",
   "execution_count": 37,
   "id": "222b80b8",
   "metadata": {},
   "outputs": [
    {
     "data": {
      "text/html": [
       "<div>\n",
       "<style scoped>\n",
       "    .dataframe tbody tr th:only-of-type {\n",
       "        vertical-align: middle;\n",
       "    }\n",
       "\n",
       "    .dataframe tbody tr th {\n",
       "        vertical-align: top;\n",
       "    }\n",
       "\n",
       "    .dataframe thead th {\n",
       "        text-align: right;\n",
       "    }\n",
       "</style>\n",
       "<table border=\"1\" class=\"dataframe\">\n",
       "  <thead>\n",
       "    <tr style=\"text-align: right;\">\n",
       "      <th></th>\n",
       "      <th>id_prod</th>\n",
       "      <th>date</th>\n",
       "      <th>session_id</th>\n",
       "      <th>client_id</th>\n",
       "      <th>duration_minute</th>\n",
       "    </tr>\n",
       "  </thead>\n",
       "  <tbody>\n",
       "    <tr>\n",
       "      <th>0</th>\n",
       "      <td>0_1483</td>\n",
       "      <td>2021-04-10 18:37:28.723910</td>\n",
       "      <td>s_18746</td>\n",
       "      <td>c_4450</td>\n",
       "      <td>12.323415</td>\n",
       "    </tr>\n",
       "    <tr>\n",
       "      <th>1</th>\n",
       "      <td>1_685</td>\n",
       "      <td>2021-04-10 18:25:09.319011</td>\n",
       "      <td>s_18746</td>\n",
       "      <td>c_4450</td>\n",
       "      <td>12.323415</td>\n",
       "    </tr>\n",
       "    <tr>\n",
       "      <th>2</th>\n",
       "      <td>0_1395</td>\n",
       "      <td>2021-04-10 18:32:27.342375</td>\n",
       "      <td>s_18746</td>\n",
       "      <td>c_4450</td>\n",
       "      <td>12.323415</td>\n",
       "    </tr>\n",
       "    <tr>\n",
       "      <th>3</th>\n",
       "      <td>2_226</td>\n",
       "      <td>2022-02-03 01:55:53.276402</td>\n",
       "      <td>s_159142</td>\n",
       "      <td>c_277</td>\n",
       "      <td>46.287874</td>\n",
       "    </tr>\n",
       "    <tr>\n",
       "      <th>4</th>\n",
       "      <td>2_236</td>\n",
       "      <td>2022-02-03 02:42:10.548862</td>\n",
       "      <td>s_159142</td>\n",
       "      <td>c_277</td>\n",
       "      <td>46.287874</td>\n",
       "    </tr>\n",
       "    <tr>\n",
       "      <th>...</th>\n",
       "      <td>...</td>\n",
       "      <td>...</td>\n",
       "      <td>...</td>\n",
       "      <td>...</td>\n",
       "      <td>...</td>\n",
       "    </tr>\n",
       "    <tr>\n",
       "      <th>336811</th>\n",
       "      <td>0_153</td>\n",
       "      <td>2021-10-17 12:47:22.803642</td>\n",
       "      <td>s_106129</td>\n",
       "      <td>c_682</td>\n",
       "      <td>0.000000</td>\n",
       "    </tr>\n",
       "    <tr>\n",
       "      <th>336812</th>\n",
       "      <td>1_282</td>\n",
       "      <td>2021-06-01 12:14:28.924898</td>\n",
       "      <td>s_42561</td>\n",
       "      <td>c_2945</td>\n",
       "      <td>0.000000</td>\n",
       "    </tr>\n",
       "    <tr>\n",
       "      <th>336813</th>\n",
       "      <td>1_671</td>\n",
       "      <td>2021-05-28 12:35:46.214839</td>\n",
       "      <td>s_40720</td>\n",
       "      <td>c_3454</td>\n",
       "      <td>0.000000</td>\n",
       "    </tr>\n",
       "    <tr>\n",
       "      <th>336814</th>\n",
       "      <td>0_1256</td>\n",
       "      <td>2021-03-16 17:31:59.442007</td>\n",
       "      <td>s_7219</td>\n",
       "      <td>c_4137</td>\n",
       "      <td>0.000000</td>\n",
       "    </tr>\n",
       "    <tr>\n",
       "      <th>336815</th>\n",
       "      <td>2_227</td>\n",
       "      <td>2021-10-30 16:50:15.997750</td>\n",
       "      <td>s_112349</td>\n",
       "      <td>c_5</td>\n",
       "      <td>0.000000</td>\n",
       "    </tr>\n",
       "  </tbody>\n",
       "</table>\n",
       "<p>336816 rows × 5 columns</p>\n",
       "</div>"
      ],
      "text/plain": [
       "       id_prod                       date session_id client_id  \\\n",
       "0       0_1483 2021-04-10 18:37:28.723910    s_18746    c_4450   \n",
       "1        1_685 2021-04-10 18:25:09.319011    s_18746    c_4450   \n",
       "2       0_1395 2021-04-10 18:32:27.342375    s_18746    c_4450   \n",
       "3        2_226 2022-02-03 01:55:53.276402   s_159142     c_277   \n",
       "4        2_236 2022-02-03 02:42:10.548862   s_159142     c_277   \n",
       "...        ...                        ...        ...       ...   \n",
       "336811   0_153 2021-10-17 12:47:22.803642   s_106129     c_682   \n",
       "336812   1_282 2021-06-01 12:14:28.924898    s_42561    c_2945   \n",
       "336813   1_671 2021-05-28 12:35:46.214839    s_40720    c_3454   \n",
       "336814  0_1256 2021-03-16 17:31:59.442007     s_7219    c_4137   \n",
       "336815   2_227 2021-10-30 16:50:15.997750   s_112349       c_5   \n",
       "\n",
       "        duration_minute  \n",
       "0             12.323415  \n",
       "1             12.323415  \n",
       "2             12.323415  \n",
       "3             46.287874  \n",
       "4             46.287874  \n",
       "...                 ...  \n",
       "336811         0.000000  \n",
       "336812         0.000000  \n",
       "336813         0.000000  \n",
       "336814         0.000000  \n",
       "336815         0.000000  \n",
       "\n",
       "[336816 rows x 5 columns]"
      ]
     },
     "execution_count": 37,
     "metadata": {},
     "output_type": "execute_result"
    }
   ],
   "source": [
    "sales = sales.merge(duration, on=\"session_id\")\n",
    "sales"
   ]
  },
  {
   "cell_type": "code",
   "execution_count": 38,
   "id": "d4e966d4",
   "metadata": {
    "scrolled": true
   },
   "outputs": [
    {
     "data": {
      "text/html": [
       "<div>\n",
       "<style scoped>\n",
       "    .dataframe tbody tr th:only-of-type {\n",
       "        vertical-align: middle;\n",
       "    }\n",
       "\n",
       "    .dataframe tbody tr th {\n",
       "        vertical-align: top;\n",
       "    }\n",
       "\n",
       "    .dataframe thead th {\n",
       "        text-align: right;\n",
       "    }\n",
       "</style>\n",
       "<table border=\"1\" class=\"dataframe\">\n",
       "  <thead>\n",
       "    <tr style=\"text-align: right;\">\n",
       "      <th></th>\n",
       "      <th>id_prod</th>\n",
       "      <th>date</th>\n",
       "      <th>session_id</th>\n",
       "      <th>client_id</th>\n",
       "      <th>duration_minute</th>\n",
       "      <th>date_no_time</th>\n",
       "      <th>weekday</th>\n",
       "      <th>month</th>\n",
       "      <th>day_of_month</th>\n",
       "    </tr>\n",
       "  </thead>\n",
       "  <tbody>\n",
       "    <tr>\n",
       "      <th>0</th>\n",
       "      <td>0_1483</td>\n",
       "      <td>2021-04-10 18:37:28.723910</td>\n",
       "      <td>s_18746</td>\n",
       "      <td>c_4450</td>\n",
       "      <td>12.323415</td>\n",
       "      <td>2021-04-10</td>\n",
       "      <td>Saturday</td>\n",
       "      <td>2021-04</td>\n",
       "      <td>10</td>\n",
       "    </tr>\n",
       "    <tr>\n",
       "      <th>1</th>\n",
       "      <td>1_685</td>\n",
       "      <td>2021-04-10 18:25:09.319011</td>\n",
       "      <td>s_18746</td>\n",
       "      <td>c_4450</td>\n",
       "      <td>12.323415</td>\n",
       "      <td>2021-04-10</td>\n",
       "      <td>Saturday</td>\n",
       "      <td>2021-04</td>\n",
       "      <td>10</td>\n",
       "    </tr>\n",
       "    <tr>\n",
       "      <th>2</th>\n",
       "      <td>0_1395</td>\n",
       "      <td>2021-04-10 18:32:27.342375</td>\n",
       "      <td>s_18746</td>\n",
       "      <td>c_4450</td>\n",
       "      <td>12.323415</td>\n",
       "      <td>2021-04-10</td>\n",
       "      <td>Saturday</td>\n",
       "      <td>2021-04</td>\n",
       "      <td>10</td>\n",
       "    </tr>\n",
       "    <tr>\n",
       "      <th>3</th>\n",
       "      <td>2_226</td>\n",
       "      <td>2022-02-03 01:55:53.276402</td>\n",
       "      <td>s_159142</td>\n",
       "      <td>c_277</td>\n",
       "      <td>46.287874</td>\n",
       "      <td>2022-02-03</td>\n",
       "      <td>Thursday</td>\n",
       "      <td>2022-02</td>\n",
       "      <td>3</td>\n",
       "    </tr>\n",
       "    <tr>\n",
       "      <th>4</th>\n",
       "      <td>2_236</td>\n",
       "      <td>2022-02-03 02:42:10.548862</td>\n",
       "      <td>s_159142</td>\n",
       "      <td>c_277</td>\n",
       "      <td>46.287874</td>\n",
       "      <td>2022-02-03</td>\n",
       "      <td>Thursday</td>\n",
       "      <td>2022-02</td>\n",
       "      <td>3</td>\n",
       "    </tr>\n",
       "    <tr>\n",
       "      <th>...</th>\n",
       "      <td>...</td>\n",
       "      <td>...</td>\n",
       "      <td>...</td>\n",
       "      <td>...</td>\n",
       "      <td>...</td>\n",
       "      <td>...</td>\n",
       "      <td>...</td>\n",
       "      <td>...</td>\n",
       "      <td>...</td>\n",
       "    </tr>\n",
       "    <tr>\n",
       "      <th>336811</th>\n",
       "      <td>0_153</td>\n",
       "      <td>2021-10-17 12:47:22.803642</td>\n",
       "      <td>s_106129</td>\n",
       "      <td>c_682</td>\n",
       "      <td>0.000000</td>\n",
       "      <td>2021-10-17</td>\n",
       "      <td>Sunday</td>\n",
       "      <td>2021-10</td>\n",
       "      <td>17</td>\n",
       "    </tr>\n",
       "    <tr>\n",
       "      <th>336812</th>\n",
       "      <td>1_282</td>\n",
       "      <td>2021-06-01 12:14:28.924898</td>\n",
       "      <td>s_42561</td>\n",
       "      <td>c_2945</td>\n",
       "      <td>0.000000</td>\n",
       "      <td>2021-06-01</td>\n",
       "      <td>Tuesday</td>\n",
       "      <td>2021-06</td>\n",
       "      <td>1</td>\n",
       "    </tr>\n",
       "    <tr>\n",
       "      <th>336813</th>\n",
       "      <td>1_671</td>\n",
       "      <td>2021-05-28 12:35:46.214839</td>\n",
       "      <td>s_40720</td>\n",
       "      <td>c_3454</td>\n",
       "      <td>0.000000</td>\n",
       "      <td>2021-05-28</td>\n",
       "      <td>Friday</td>\n",
       "      <td>2021-05</td>\n",
       "      <td>28</td>\n",
       "    </tr>\n",
       "    <tr>\n",
       "      <th>336814</th>\n",
       "      <td>0_1256</td>\n",
       "      <td>2021-03-16 17:31:59.442007</td>\n",
       "      <td>s_7219</td>\n",
       "      <td>c_4137</td>\n",
       "      <td>0.000000</td>\n",
       "      <td>2021-03-16</td>\n",
       "      <td>Tuesday</td>\n",
       "      <td>2021-03</td>\n",
       "      <td>16</td>\n",
       "    </tr>\n",
       "    <tr>\n",
       "      <th>336815</th>\n",
       "      <td>2_227</td>\n",
       "      <td>2021-10-30 16:50:15.997750</td>\n",
       "      <td>s_112349</td>\n",
       "      <td>c_5</td>\n",
       "      <td>0.000000</td>\n",
       "      <td>2021-10-30</td>\n",
       "      <td>Saturday</td>\n",
       "      <td>2021-10</td>\n",
       "      <td>30</td>\n",
       "    </tr>\n",
       "  </tbody>\n",
       "</table>\n",
       "<p>336816 rows × 9 columns</p>\n",
       "</div>"
      ],
      "text/plain": [
       "       id_prod                       date session_id client_id  \\\n",
       "0       0_1483 2021-04-10 18:37:28.723910    s_18746    c_4450   \n",
       "1        1_685 2021-04-10 18:25:09.319011    s_18746    c_4450   \n",
       "2       0_1395 2021-04-10 18:32:27.342375    s_18746    c_4450   \n",
       "3        2_226 2022-02-03 01:55:53.276402   s_159142     c_277   \n",
       "4        2_236 2022-02-03 02:42:10.548862   s_159142     c_277   \n",
       "...        ...                        ...        ...       ...   \n",
       "336811   0_153 2021-10-17 12:47:22.803642   s_106129     c_682   \n",
       "336812   1_282 2021-06-01 12:14:28.924898    s_42561    c_2945   \n",
       "336813   1_671 2021-05-28 12:35:46.214839    s_40720    c_3454   \n",
       "336814  0_1256 2021-03-16 17:31:59.442007     s_7219    c_4137   \n",
       "336815   2_227 2021-10-30 16:50:15.997750   s_112349       c_5   \n",
       "\n",
       "        duration_minute date_no_time   weekday    month  day_of_month  \n",
       "0             12.323415   2021-04-10  Saturday  2021-04            10  \n",
       "1             12.323415   2021-04-10  Saturday  2021-04            10  \n",
       "2             12.323415   2021-04-10  Saturday  2021-04            10  \n",
       "3             46.287874   2022-02-03  Thursday  2022-02             3  \n",
       "4             46.287874   2022-02-03  Thursday  2022-02             3  \n",
       "...                 ...          ...       ...      ...           ...  \n",
       "336811         0.000000   2021-10-17    Sunday  2021-10            17  \n",
       "336812         0.000000   2021-06-01   Tuesday  2021-06             1  \n",
       "336813         0.000000   2021-05-28    Friday  2021-05            28  \n",
       "336814         0.000000   2021-03-16   Tuesday  2021-03            16  \n",
       "336815         0.000000   2021-10-30  Saturday  2021-10            30  \n",
       "\n",
       "[336816 rows x 9 columns]"
      ]
     },
     "execution_count": 38,
     "metadata": {},
     "output_type": "execute_result"
    }
   ],
   "source": [
    "# Creating variables:\n",
    "# - Day of the week\n",
    "# - Day of the month\n",
    "# - Month of the year\n",
    "sales[\"date_no_time\"] = sales.date.dt.date\n",
    "sales[\"weekday\"] = sales.date.dt.day_name()\n",
    "sales[\"month\"] = sales.date.dt.to_period(\"M\")\n",
    "sales[\"day_of_month\"] = sales.date.dt.day\n",
    "sales"
   ]
  },
  {
   "cell_type": "markdown",
   "id": "57ebba93",
   "metadata": {},
   "source": [
    "<a id='task1_4'></a>"
   ]
  },
  {
   "cell_type": "markdown",
   "id": "32cb4c91",
   "metadata": {},
   "source": [
    "<font color='blue'>Joinning the three tables, customer/product/sales, to create the main table used for analysis.</font>"
   ]
  },
  {
   "cell_type": "code",
   "execution_count": 39,
   "id": "f0b39d27",
   "metadata": {
    "scrolled": true
   },
   "outputs": [
    {
     "data": {
      "text/html": [
       "<div>\n",
       "<style scoped>\n",
       "    .dataframe tbody tr th:only-of-type {\n",
       "        vertical-align: middle;\n",
       "    }\n",
       "\n",
       "    .dataframe tbody tr th {\n",
       "        vertical-align: top;\n",
       "    }\n",
       "\n",
       "    .dataframe thead th {\n",
       "        text-align: right;\n",
       "    }\n",
       "</style>\n",
       "<table border=\"1\" class=\"dataframe\">\n",
       "  <thead>\n",
       "    <tr style=\"text-align: right;\">\n",
       "      <th></th>\n",
       "      <th>id_prod</th>\n",
       "      <th>date</th>\n",
       "      <th>session_id</th>\n",
       "      <th>client_id</th>\n",
       "      <th>duration_minute</th>\n",
       "      <th>date_no_time</th>\n",
       "      <th>weekday</th>\n",
       "      <th>month</th>\n",
       "      <th>day_of_month</th>\n",
       "      <th>price</th>\n",
       "      <th>categ</th>\n",
       "      <th>sex</th>\n",
       "      <th>birth</th>\n",
       "      <th>age</th>\n",
       "    </tr>\n",
       "  </thead>\n",
       "  <tbody>\n",
       "    <tr>\n",
       "      <th>0</th>\n",
       "      <td>0_1483</td>\n",
       "      <td>2021-04-10 18:37:28.723910</td>\n",
       "      <td>s_18746</td>\n",
       "      <td>c_4450</td>\n",
       "      <td>12.323415</td>\n",
       "      <td>2021-04-10</td>\n",
       "      <td>Saturday</td>\n",
       "      <td>2021-04</td>\n",
       "      <td>10</td>\n",
       "      <td>4.99</td>\n",
       "      <td>0</td>\n",
       "      <td>f</td>\n",
       "      <td>1977</td>\n",
       "      <td>45</td>\n",
       "    </tr>\n",
       "    <tr>\n",
       "      <th>1</th>\n",
       "      <td>1_685</td>\n",
       "      <td>2021-04-10 18:25:09.319011</td>\n",
       "      <td>s_18746</td>\n",
       "      <td>c_4450</td>\n",
       "      <td>12.323415</td>\n",
       "      <td>2021-04-10</td>\n",
       "      <td>Saturday</td>\n",
       "      <td>2021-04</td>\n",
       "      <td>10</td>\n",
       "      <td>15.99</td>\n",
       "      <td>1</td>\n",
       "      <td>f</td>\n",
       "      <td>1977</td>\n",
       "      <td>45</td>\n",
       "    </tr>\n",
       "    <tr>\n",
       "      <th>2</th>\n",
       "      <td>1_685</td>\n",
       "      <td>2022-01-08 17:01:39.106131</td>\n",
       "      <td>s_146917</td>\n",
       "      <td>c_4450</td>\n",
       "      <td>35.715387</td>\n",
       "      <td>2022-01-08</td>\n",
       "      <td>Saturday</td>\n",
       "      <td>2022-01</td>\n",
       "      <td>8</td>\n",
       "      <td>15.99</td>\n",
       "      <td>1</td>\n",
       "      <td>f</td>\n",
       "      <td>1977</td>\n",
       "      <td>45</td>\n",
       "    </tr>\n",
       "    <tr>\n",
       "      <th>3</th>\n",
       "      <td>0_1395</td>\n",
       "      <td>2021-04-10 18:32:27.342375</td>\n",
       "      <td>s_18746</td>\n",
       "      <td>c_4450</td>\n",
       "      <td>12.323415</td>\n",
       "      <td>2021-04-10</td>\n",
       "      <td>Saturday</td>\n",
       "      <td>2021-04</td>\n",
       "      <td>10</td>\n",
       "      <td>3.99</td>\n",
       "      <td>0</td>\n",
       "      <td>f</td>\n",
       "      <td>1977</td>\n",
       "      <td>45</td>\n",
       "    </tr>\n",
       "    <tr>\n",
       "      <th>4</th>\n",
       "      <td>0_1085</td>\n",
       "      <td>2021-09-29 11:14:59.793823</td>\n",
       "      <td>s_97382</td>\n",
       "      <td>c_4450</td>\n",
       "      <td>13.260697</td>\n",
       "      <td>2021-09-29</td>\n",
       "      <td>Wednesday</td>\n",
       "      <td>2021-09</td>\n",
       "      <td>29</td>\n",
       "      <td>3.99</td>\n",
       "      <td>0</td>\n",
       "      <td>f</td>\n",
       "      <td>1977</td>\n",
       "      <td>45</td>\n",
       "    </tr>\n",
       "    <tr>\n",
       "      <th>...</th>\n",
       "      <td>...</td>\n",
       "      <td>...</td>\n",
       "      <td>...</td>\n",
       "      <td>...</td>\n",
       "      <td>...</td>\n",
       "      <td>...</td>\n",
       "      <td>...</td>\n",
       "      <td>...</td>\n",
       "      <td>...</td>\n",
       "      <td>...</td>\n",
       "      <td>...</td>\n",
       "      <td>...</td>\n",
       "      <td>...</td>\n",
       "      <td>...</td>\n",
       "    </tr>\n",
       "    <tr>\n",
       "      <th>336811</th>\n",
       "      <td>2_147</td>\n",
       "      <td>2021-07-23 07:01:38.963669</td>\n",
       "      <td>s_65994</td>\n",
       "      <td>c_4391</td>\n",
       "      <td>0.000000</td>\n",
       "      <td>2021-07-23</td>\n",
       "      <td>Friday</td>\n",
       "      <td>2021-07</td>\n",
       "      <td>23</td>\n",
       "      <td>181.99</td>\n",
       "      <td>2</td>\n",
       "      <td>f</td>\n",
       "      <td>2001</td>\n",
       "      <td>21</td>\n",
       "    </tr>\n",
       "    <tr>\n",
       "      <th>336812</th>\n",
       "      <td>2_147</td>\n",
       "      <td>2021-12-05 00:31:15.530765</td>\n",
       "      <td>s_129519</td>\n",
       "      <td>c_4540</td>\n",
       "      <td>0.000000</td>\n",
       "      <td>2021-12-05</td>\n",
       "      <td>Sunday</td>\n",
       "      <td>2021-12</td>\n",
       "      <td>5</td>\n",
       "      <td>181.99</td>\n",
       "      <td>2</td>\n",
       "      <td>m</td>\n",
       "      <td>2003</td>\n",
       "      <td>19</td>\n",
       "    </tr>\n",
       "    <tr>\n",
       "      <th>336813</th>\n",
       "      <td>1_607</td>\n",
       "      <td>2021-09-25 07:26:00.224331</td>\n",
       "      <td>s_95185</td>\n",
       "      <td>c_4786</td>\n",
       "      <td>0.000000</td>\n",
       "      <td>2021-09-25</td>\n",
       "      <td>Saturday</td>\n",
       "      <td>2021-09</td>\n",
       "      <td>25</td>\n",
       "      <td>26.99</td>\n",
       "      <td>1</td>\n",
       "      <td>f</td>\n",
       "      <td>1967</td>\n",
       "      <td>55</td>\n",
       "    </tr>\n",
       "    <tr>\n",
       "      <th>336814</th>\n",
       "      <td>0_1692</td>\n",
       "      <td>2021-09-15 19:42:08.596375</td>\n",
       "      <td>s_90430</td>\n",
       "      <td>c_4478</td>\n",
       "      <td>0.000000</td>\n",
       "      <td>2021-09-15</td>\n",
       "      <td>Wednesday</td>\n",
       "      <td>2021-09</td>\n",
       "      <td>15</td>\n",
       "      <td>13.36</td>\n",
       "      <td>0</td>\n",
       "      <td>f</td>\n",
       "      <td>1970</td>\n",
       "      <td>52</td>\n",
       "    </tr>\n",
       "    <tr>\n",
       "      <th>336815</th>\n",
       "      <td>0_142</td>\n",
       "      <td>2021-09-25 18:07:25.880052</td>\n",
       "      <td>s_95415</td>\n",
       "      <td>c_1232</td>\n",
       "      <td>0.000000</td>\n",
       "      <td>2021-09-25</td>\n",
       "      <td>Saturday</td>\n",
       "      <td>2021-09</td>\n",
       "      <td>25</td>\n",
       "      <td>19.85</td>\n",
       "      <td>0</td>\n",
       "      <td>f</td>\n",
       "      <td>1960</td>\n",
       "      <td>62</td>\n",
       "    </tr>\n",
       "  </tbody>\n",
       "</table>\n",
       "<p>336816 rows × 14 columns</p>\n",
       "</div>"
      ],
      "text/plain": [
       "       id_prod                       date session_id client_id  \\\n",
       "0       0_1483 2021-04-10 18:37:28.723910    s_18746    c_4450   \n",
       "1        1_685 2021-04-10 18:25:09.319011    s_18746    c_4450   \n",
       "2        1_685 2022-01-08 17:01:39.106131   s_146917    c_4450   \n",
       "3       0_1395 2021-04-10 18:32:27.342375    s_18746    c_4450   \n",
       "4       0_1085 2021-09-29 11:14:59.793823    s_97382    c_4450   \n",
       "...        ...                        ...        ...       ...   \n",
       "336811   2_147 2021-07-23 07:01:38.963669    s_65994    c_4391   \n",
       "336812   2_147 2021-12-05 00:31:15.530765   s_129519    c_4540   \n",
       "336813   1_607 2021-09-25 07:26:00.224331    s_95185    c_4786   \n",
       "336814  0_1692 2021-09-15 19:42:08.596375    s_90430    c_4478   \n",
       "336815   0_142 2021-09-25 18:07:25.880052    s_95415    c_1232   \n",
       "\n",
       "        duration_minute date_no_time    weekday    month  day_of_month  \\\n",
       "0             12.323415   2021-04-10   Saturday  2021-04            10   \n",
       "1             12.323415   2021-04-10   Saturday  2021-04            10   \n",
       "2             35.715387   2022-01-08   Saturday  2022-01             8   \n",
       "3             12.323415   2021-04-10   Saturday  2021-04            10   \n",
       "4             13.260697   2021-09-29  Wednesday  2021-09            29   \n",
       "...                 ...          ...        ...      ...           ...   \n",
       "336811         0.000000   2021-07-23     Friday  2021-07            23   \n",
       "336812         0.000000   2021-12-05     Sunday  2021-12             5   \n",
       "336813         0.000000   2021-09-25   Saturday  2021-09            25   \n",
       "336814         0.000000   2021-09-15  Wednesday  2021-09            15   \n",
       "336815         0.000000   2021-09-25   Saturday  2021-09            25   \n",
       "\n",
       "         price  categ sex  birth  age  \n",
       "0         4.99      0   f   1977   45  \n",
       "1        15.99      1   f   1977   45  \n",
       "2        15.99      1   f   1977   45  \n",
       "3         3.99      0   f   1977   45  \n",
       "4         3.99      0   f   1977   45  \n",
       "...        ...    ...  ..    ...  ...  \n",
       "336811  181.99      2   f   2001   21  \n",
       "336812  181.99      2   m   2003   19  \n",
       "336813   26.99      1   f   1967   55  \n",
       "336814   13.36      0   f   1970   52  \n",
       "336815   19.85      0   f   1960   62  \n",
       "\n",
       "[336816 rows x 14 columns]"
      ]
     },
     "execution_count": 39,
     "metadata": {},
     "output_type": "execute_result"
    }
   ],
   "source": [
    "data = pd.merge(pd.merge(sales, products, on=\"id_prod\"), customer, on=\"client_id\")\n",
    "data"
   ]
  },
  {
   "cell_type": "markdown",
   "id": "d84add8a",
   "metadata": {},
   "source": [
    "<font color='blue'>Create new variable: total purchase per session</font>"
   ]
  },
  {
   "cell_type": "code",
   "execution_count": 40,
   "id": "0d1f2bf4",
   "metadata": {},
   "outputs": [
    {
     "data": {
      "text/html": [
       "<div>\n",
       "<style scoped>\n",
       "    .dataframe tbody tr th:only-of-type {\n",
       "        vertical-align: middle;\n",
       "    }\n",
       "\n",
       "    .dataframe tbody tr th {\n",
       "        vertical-align: top;\n",
       "    }\n",
       "\n",
       "    .dataframe thead th {\n",
       "        text-align: right;\n",
       "    }\n",
       "</style>\n",
       "<table border=\"1\" class=\"dataframe\">\n",
       "  <thead>\n",
       "    <tr style=\"text-align: right;\">\n",
       "      <th></th>\n",
       "      <th>session_id</th>\n",
       "      <th>price</th>\n",
       "    </tr>\n",
       "  </thead>\n",
       "  <tbody>\n",
       "    <tr>\n",
       "      <th>0</th>\n",
       "      <td>s_1</td>\n",
       "      <td>11.99</td>\n",
       "    </tr>\n",
       "    <tr>\n",
       "      <th>1</th>\n",
       "      <td>s_10</td>\n",
       "      <td>26.99</td>\n",
       "    </tr>\n",
       "    <tr>\n",
       "      <th>2</th>\n",
       "      <td>s_100</td>\n",
       "      <td>33.72</td>\n",
       "    </tr>\n",
       "    <tr>\n",
       "      <th>3</th>\n",
       "      <td>s_1000</td>\n",
       "      <td>39.22</td>\n",
       "    </tr>\n",
       "    <tr>\n",
       "      <th>4</th>\n",
       "      <td>s_10000</td>\n",
       "      <td>41.49</td>\n",
       "    </tr>\n",
       "    <tr>\n",
       "      <th>...</th>\n",
       "      <td>...</td>\n",
       "      <td>...</td>\n",
       "    </tr>\n",
       "    <tr>\n",
       "      <th>169189</th>\n",
       "      <td>s_99994</td>\n",
       "      <td>28.92</td>\n",
       "    </tr>\n",
       "    <tr>\n",
       "      <th>169190</th>\n",
       "      <td>s_99995</td>\n",
       "      <td>19.84</td>\n",
       "    </tr>\n",
       "    <tr>\n",
       "      <th>169191</th>\n",
       "      <td>s_99996</td>\n",
       "      <td>56.27</td>\n",
       "    </tr>\n",
       "    <tr>\n",
       "      <th>169192</th>\n",
       "      <td>s_99997</td>\n",
       "      <td>6.99</td>\n",
       "    </tr>\n",
       "    <tr>\n",
       "      <th>169193</th>\n",
       "      <td>s_99998</td>\n",
       "      <td>35.11</td>\n",
       "    </tr>\n",
       "  </tbody>\n",
       "</table>\n",
       "<p>169194 rows × 2 columns</p>\n",
       "</div>"
      ],
      "text/plain": [
       "       session_id  price\n",
       "0             s_1  11.99\n",
       "1            s_10  26.99\n",
       "2           s_100  33.72\n",
       "3          s_1000  39.22\n",
       "4         s_10000  41.49\n",
       "...           ...    ...\n",
       "169189    s_99994  28.92\n",
       "169190    s_99995  19.84\n",
       "169191    s_99996  56.27\n",
       "169192    s_99997   6.99\n",
       "169193    s_99998  35.11\n",
       "\n",
       "[169194 rows x 2 columns]"
      ]
     },
     "execution_count": 40,
     "metadata": {},
     "output_type": "execute_result"
    }
   ],
   "source": [
    "# Using groupby&sum to get total sum of purchase per session\n",
    "total_purchase = data.groupby(\"session_id\")[\"price\"].sum().to_frame()\n",
    "total_purchase.reset_index(inplace=True)\n",
    "total_purchase"
   ]
  },
  {
   "cell_type": "code",
   "execution_count": 41,
   "id": "e221f29b",
   "metadata": {},
   "outputs": [
    {
     "data": {
      "text/html": [
       "<div>\n",
       "<style scoped>\n",
       "    .dataframe tbody tr th:only-of-type {\n",
       "        vertical-align: middle;\n",
       "    }\n",
       "\n",
       "    .dataframe tbody tr th {\n",
       "        vertical-align: top;\n",
       "    }\n",
       "\n",
       "    .dataframe thead th {\n",
       "        text-align: right;\n",
       "    }\n",
       "</style>\n",
       "<table border=\"1\" class=\"dataframe\">\n",
       "  <thead>\n",
       "    <tr style=\"text-align: right;\">\n",
       "      <th></th>\n",
       "      <th>session_id</th>\n",
       "      <th>total_purchase_per_session</th>\n",
       "    </tr>\n",
       "  </thead>\n",
       "  <tbody>\n",
       "    <tr>\n",
       "      <th>0</th>\n",
       "      <td>s_1</td>\n",
       "      <td>11.99</td>\n",
       "    </tr>\n",
       "    <tr>\n",
       "      <th>1</th>\n",
       "      <td>s_10</td>\n",
       "      <td>26.99</td>\n",
       "    </tr>\n",
       "    <tr>\n",
       "      <th>2</th>\n",
       "      <td>s_100</td>\n",
       "      <td>33.72</td>\n",
       "    </tr>\n",
       "    <tr>\n",
       "      <th>3</th>\n",
       "      <td>s_1000</td>\n",
       "      <td>39.22</td>\n",
       "    </tr>\n",
       "    <tr>\n",
       "      <th>4</th>\n",
       "      <td>s_10000</td>\n",
       "      <td>41.49</td>\n",
       "    </tr>\n",
       "    <tr>\n",
       "      <th>...</th>\n",
       "      <td>...</td>\n",
       "      <td>...</td>\n",
       "    </tr>\n",
       "    <tr>\n",
       "      <th>169189</th>\n",
       "      <td>s_99994</td>\n",
       "      <td>28.92</td>\n",
       "    </tr>\n",
       "    <tr>\n",
       "      <th>169190</th>\n",
       "      <td>s_99995</td>\n",
       "      <td>19.84</td>\n",
       "    </tr>\n",
       "    <tr>\n",
       "      <th>169191</th>\n",
       "      <td>s_99996</td>\n",
       "      <td>56.27</td>\n",
       "    </tr>\n",
       "    <tr>\n",
       "      <th>169192</th>\n",
       "      <td>s_99997</td>\n",
       "      <td>6.99</td>\n",
       "    </tr>\n",
       "    <tr>\n",
       "      <th>169193</th>\n",
       "      <td>s_99998</td>\n",
       "      <td>35.11</td>\n",
       "    </tr>\n",
       "  </tbody>\n",
       "</table>\n",
       "<p>169194 rows × 2 columns</p>\n",
       "</div>"
      ],
      "text/plain": [
       "       session_id  total_purchase_per_session\n",
       "0             s_1                       11.99\n",
       "1            s_10                       26.99\n",
       "2           s_100                       33.72\n",
       "3          s_1000                       39.22\n",
       "4         s_10000                       41.49\n",
       "...           ...                         ...\n",
       "169189    s_99994                       28.92\n",
       "169190    s_99995                       19.84\n",
       "169191    s_99996                       56.27\n",
       "169192    s_99997                        6.99\n",
       "169193    s_99998                       35.11\n",
       "\n",
       "[169194 rows x 2 columns]"
      ]
     },
     "execution_count": 41,
     "metadata": {},
     "output_type": "execute_result"
    }
   ],
   "source": [
    "# Rename a column for later table join\n",
    "total_purchase = total_purchase.rename(columns={\"price\": \"total_purchase_per_session\"})\n",
    "total_purchase"
   ]
  },
  {
   "cell_type": "code",
   "execution_count": 42,
   "id": "79d7e910",
   "metadata": {},
   "outputs": [
    {
     "data": {
      "text/html": [
       "<div>\n",
       "<style scoped>\n",
       "    .dataframe tbody tr th:only-of-type {\n",
       "        vertical-align: middle;\n",
       "    }\n",
       "\n",
       "    .dataframe tbody tr th {\n",
       "        vertical-align: top;\n",
       "    }\n",
       "\n",
       "    .dataframe thead th {\n",
       "        text-align: right;\n",
       "    }\n",
       "</style>\n",
       "<table border=\"1\" class=\"dataframe\">\n",
       "  <thead>\n",
       "    <tr style=\"text-align: right;\">\n",
       "      <th></th>\n",
       "      <th>id_prod</th>\n",
       "      <th>date</th>\n",
       "      <th>session_id</th>\n",
       "      <th>client_id</th>\n",
       "      <th>duration_minute</th>\n",
       "      <th>date_no_time</th>\n",
       "      <th>weekday</th>\n",
       "      <th>month</th>\n",
       "      <th>day_of_month</th>\n",
       "      <th>price</th>\n",
       "      <th>categ</th>\n",
       "      <th>sex</th>\n",
       "      <th>birth</th>\n",
       "      <th>age</th>\n",
       "      <th>total_purchase_per_session</th>\n",
       "    </tr>\n",
       "  </thead>\n",
       "  <tbody>\n",
       "    <tr>\n",
       "      <th>0</th>\n",
       "      <td>0_1483</td>\n",
       "      <td>2021-04-10 18:37:28.723910</td>\n",
       "      <td>s_18746</td>\n",
       "      <td>c_4450</td>\n",
       "      <td>12.323415</td>\n",
       "      <td>2021-04-10</td>\n",
       "      <td>Saturday</td>\n",
       "      <td>2021-04</td>\n",
       "      <td>10</td>\n",
       "      <td>4.99</td>\n",
       "      <td>0</td>\n",
       "      <td>f</td>\n",
       "      <td>1977</td>\n",
       "      <td>45</td>\n",
       "      <td>24.97</td>\n",
       "    </tr>\n",
       "    <tr>\n",
       "      <th>1</th>\n",
       "      <td>1_685</td>\n",
       "      <td>2021-04-10 18:25:09.319011</td>\n",
       "      <td>s_18746</td>\n",
       "      <td>c_4450</td>\n",
       "      <td>12.323415</td>\n",
       "      <td>2021-04-10</td>\n",
       "      <td>Saturday</td>\n",
       "      <td>2021-04</td>\n",
       "      <td>10</td>\n",
       "      <td>15.99</td>\n",
       "      <td>1</td>\n",
       "      <td>f</td>\n",
       "      <td>1977</td>\n",
       "      <td>45</td>\n",
       "      <td>24.97</td>\n",
       "    </tr>\n",
       "    <tr>\n",
       "      <th>2</th>\n",
       "      <td>0_1395</td>\n",
       "      <td>2021-04-10 18:32:27.342375</td>\n",
       "      <td>s_18746</td>\n",
       "      <td>c_4450</td>\n",
       "      <td>12.323415</td>\n",
       "      <td>2021-04-10</td>\n",
       "      <td>Saturday</td>\n",
       "      <td>2021-04</td>\n",
       "      <td>10</td>\n",
       "      <td>3.99</td>\n",
       "      <td>0</td>\n",
       "      <td>f</td>\n",
       "      <td>1977</td>\n",
       "      <td>45</td>\n",
       "      <td>24.97</td>\n",
       "    </tr>\n",
       "    <tr>\n",
       "      <th>3</th>\n",
       "      <td>1_685</td>\n",
       "      <td>2022-01-08 17:01:39.106131</td>\n",
       "      <td>s_146917</td>\n",
       "      <td>c_4450</td>\n",
       "      <td>35.715387</td>\n",
       "      <td>2022-01-08</td>\n",
       "      <td>Saturday</td>\n",
       "      <td>2022-01</td>\n",
       "      <td>8</td>\n",
       "      <td>15.99</td>\n",
       "      <td>1</td>\n",
       "      <td>f</td>\n",
       "      <td>1977</td>\n",
       "      <td>45</td>\n",
       "      <td>57.66</td>\n",
       "    </tr>\n",
       "    <tr>\n",
       "      <th>4</th>\n",
       "      <td>0_1152</td>\n",
       "      <td>2022-01-08 17:33:13.386306</td>\n",
       "      <td>s_146917</td>\n",
       "      <td>c_4450</td>\n",
       "      <td>35.715387</td>\n",
       "      <td>2022-01-08</td>\n",
       "      <td>Saturday</td>\n",
       "      <td>2022-01</td>\n",
       "      <td>8</td>\n",
       "      <td>10.70</td>\n",
       "      <td>0</td>\n",
       "      <td>f</td>\n",
       "      <td>1977</td>\n",
       "      <td>45</td>\n",
       "      <td>57.66</td>\n",
       "    </tr>\n",
       "    <tr>\n",
       "      <th>...</th>\n",
       "      <td>...</td>\n",
       "      <td>...</td>\n",
       "      <td>...</td>\n",
       "      <td>...</td>\n",
       "      <td>...</td>\n",
       "      <td>...</td>\n",
       "      <td>...</td>\n",
       "      <td>...</td>\n",
       "      <td>...</td>\n",
       "      <td>...</td>\n",
       "      <td>...</td>\n",
       "      <td>...</td>\n",
       "      <td>...</td>\n",
       "      <td>...</td>\n",
       "      <td>...</td>\n",
       "    </tr>\n",
       "    <tr>\n",
       "      <th>336811</th>\n",
       "      <td>2_147</td>\n",
       "      <td>2021-07-23 07:01:38.963669</td>\n",
       "      <td>s_65994</td>\n",
       "      <td>c_4391</td>\n",
       "      <td>0.000000</td>\n",
       "      <td>2021-07-23</td>\n",
       "      <td>Friday</td>\n",
       "      <td>2021-07</td>\n",
       "      <td>23</td>\n",
       "      <td>181.99</td>\n",
       "      <td>2</td>\n",
       "      <td>f</td>\n",
       "      <td>2001</td>\n",
       "      <td>21</td>\n",
       "      <td>181.99</td>\n",
       "    </tr>\n",
       "    <tr>\n",
       "      <th>336812</th>\n",
       "      <td>2_147</td>\n",
       "      <td>2021-12-05 00:31:15.530765</td>\n",
       "      <td>s_129519</td>\n",
       "      <td>c_4540</td>\n",
       "      <td>0.000000</td>\n",
       "      <td>2021-12-05</td>\n",
       "      <td>Sunday</td>\n",
       "      <td>2021-12</td>\n",
       "      <td>5</td>\n",
       "      <td>181.99</td>\n",
       "      <td>2</td>\n",
       "      <td>m</td>\n",
       "      <td>2003</td>\n",
       "      <td>19</td>\n",
       "      <td>181.99</td>\n",
       "    </tr>\n",
       "    <tr>\n",
       "      <th>336813</th>\n",
       "      <td>1_607</td>\n",
       "      <td>2021-09-25 07:26:00.224331</td>\n",
       "      <td>s_95185</td>\n",
       "      <td>c_4786</td>\n",
       "      <td>0.000000</td>\n",
       "      <td>2021-09-25</td>\n",
       "      <td>Saturday</td>\n",
       "      <td>2021-09</td>\n",
       "      <td>25</td>\n",
       "      <td>26.99</td>\n",
       "      <td>1</td>\n",
       "      <td>f</td>\n",
       "      <td>1967</td>\n",
       "      <td>55</td>\n",
       "      <td>26.99</td>\n",
       "    </tr>\n",
       "    <tr>\n",
       "      <th>336814</th>\n",
       "      <td>0_1692</td>\n",
       "      <td>2021-09-15 19:42:08.596375</td>\n",
       "      <td>s_90430</td>\n",
       "      <td>c_4478</td>\n",
       "      <td>0.000000</td>\n",
       "      <td>2021-09-15</td>\n",
       "      <td>Wednesday</td>\n",
       "      <td>2021-09</td>\n",
       "      <td>15</td>\n",
       "      <td>13.36</td>\n",
       "      <td>0</td>\n",
       "      <td>f</td>\n",
       "      <td>1970</td>\n",
       "      <td>52</td>\n",
       "      <td>13.36</td>\n",
       "    </tr>\n",
       "    <tr>\n",
       "      <th>336815</th>\n",
       "      <td>0_142</td>\n",
       "      <td>2021-09-25 18:07:25.880052</td>\n",
       "      <td>s_95415</td>\n",
       "      <td>c_1232</td>\n",
       "      <td>0.000000</td>\n",
       "      <td>2021-09-25</td>\n",
       "      <td>Saturday</td>\n",
       "      <td>2021-09</td>\n",
       "      <td>25</td>\n",
       "      <td>19.85</td>\n",
       "      <td>0</td>\n",
       "      <td>f</td>\n",
       "      <td>1960</td>\n",
       "      <td>62</td>\n",
       "      <td>19.85</td>\n",
       "    </tr>\n",
       "  </tbody>\n",
       "</table>\n",
       "<p>336816 rows × 15 columns</p>\n",
       "</div>"
      ],
      "text/plain": [
       "       id_prod                       date session_id client_id  \\\n",
       "0       0_1483 2021-04-10 18:37:28.723910    s_18746    c_4450   \n",
       "1        1_685 2021-04-10 18:25:09.319011    s_18746    c_4450   \n",
       "2       0_1395 2021-04-10 18:32:27.342375    s_18746    c_4450   \n",
       "3        1_685 2022-01-08 17:01:39.106131   s_146917    c_4450   \n",
       "4       0_1152 2022-01-08 17:33:13.386306   s_146917    c_4450   \n",
       "...        ...                        ...        ...       ...   \n",
       "336811   2_147 2021-07-23 07:01:38.963669    s_65994    c_4391   \n",
       "336812   2_147 2021-12-05 00:31:15.530765   s_129519    c_4540   \n",
       "336813   1_607 2021-09-25 07:26:00.224331    s_95185    c_4786   \n",
       "336814  0_1692 2021-09-15 19:42:08.596375    s_90430    c_4478   \n",
       "336815   0_142 2021-09-25 18:07:25.880052    s_95415    c_1232   \n",
       "\n",
       "        duration_minute date_no_time    weekday    month  day_of_month  \\\n",
       "0             12.323415   2021-04-10   Saturday  2021-04            10   \n",
       "1             12.323415   2021-04-10   Saturday  2021-04            10   \n",
       "2             12.323415   2021-04-10   Saturday  2021-04            10   \n",
       "3             35.715387   2022-01-08   Saturday  2022-01             8   \n",
       "4             35.715387   2022-01-08   Saturday  2022-01             8   \n",
       "...                 ...          ...        ...      ...           ...   \n",
       "336811         0.000000   2021-07-23     Friday  2021-07            23   \n",
       "336812         0.000000   2021-12-05     Sunday  2021-12             5   \n",
       "336813         0.000000   2021-09-25   Saturday  2021-09            25   \n",
       "336814         0.000000   2021-09-15  Wednesday  2021-09            15   \n",
       "336815         0.000000   2021-09-25   Saturday  2021-09            25   \n",
       "\n",
       "         price  categ sex  birth  age  total_purchase_per_session  \n",
       "0         4.99      0   f   1977   45                       24.97  \n",
       "1        15.99      1   f   1977   45                       24.97  \n",
       "2         3.99      0   f   1977   45                       24.97  \n",
       "3        15.99      1   f   1977   45                       57.66  \n",
       "4        10.70      0   f   1977   45                       57.66  \n",
       "...        ...    ...  ..    ...  ...                         ...  \n",
       "336811  181.99      2   f   2001   21                      181.99  \n",
       "336812  181.99      2   m   2003   19                      181.99  \n",
       "336813   26.99      1   f   1967   55                       26.99  \n",
       "336814   13.36      0   f   1970   52                       13.36  \n",
       "336815   19.85      0   f   1960   62                       19.85  \n",
       "\n",
       "[336816 rows x 15 columns]"
      ]
     },
     "execution_count": 42,
     "metadata": {},
     "output_type": "execute_result"
    }
   ],
   "source": [
    "data = data.astype({\"session_id\": \"str\"})\n",
    "total_purchase = total_purchase.astype({\"session_id\": \"str\"})\n",
    "data = data.merge(total_purchase, on=\"session_id\", how=\"inner\")\n",
    "data"
   ]
  },
  {
   "cell_type": "code",
   "execution_count": 43,
   "id": "bc5dbd2a",
   "metadata": {},
   "outputs": [
    {
     "data": {
      "text/plain": [
       "Index(['id_prod', 'date', 'session_id', 'client_id', 'duration_minute',\n",
       "       'date_no_time', 'weekday', 'month', 'day_of_month', 'price', 'categ',\n",
       "       'sex', 'birth', 'age', 'total_purchase_per_session'],\n",
       "      dtype='object')"
      ]
     },
     "execution_count": 43,
     "metadata": {},
     "output_type": "execute_result"
    }
   ],
   "source": [
    "data.columns"
   ]
  },
  {
   "cell_type": "code",
   "execution_count": 44,
   "id": "7cec5397",
   "metadata": {},
   "outputs": [],
   "source": [
    "# Rename columns with more descriptive names\n",
    "data.columns = [\n",
    "    \"id_prod\",\n",
    "    \"purchase_date\",\n",
    "    \"session_id\",\n",
    "    \"client_id\",\n",
    "    \"session_duration_minute\",\n",
    "    \"session_date\",\n",
    "    \"session_weekday\",\n",
    "    \"session_month\",\n",
    "    \"session_day_of_month\",\n",
    "    \"product_price\",\n",
    "    \"product_categ\",\n",
    "    \"client_sex\",\n",
    "    \"client_birth\",\n",
    "    \"client_age\",\n",
    "    \"total_purchase_per_session\",\n",
    "]"
   ]
  },
  {
   "cell_type": "markdown",
   "id": "8a40c4ca",
   "metadata": {},
   "source": [
    "[Back to task overview](#task_1)"
   ]
  },
  {
   "cell_type": "markdown",
   "id": "a0dacae2",
   "metadata": {},
   "source": [
    "[Back to top](#top)"
   ]
  },
  {
   "cell_type": "markdown",
   "id": "d1e18395",
   "metadata": {},
   "source": [
    "<a id='task_2'></a>"
   ]
  },
  {
   "cell_type": "markdown",
   "id": "1662c6e0",
   "metadata": {},
   "source": [
    "# EDA\n",
    "<hr style=\"border:1.5px solid blalck\"> </hr>"
   ]
  },
  {
   "cell_type": "markdown",
   "id": "cba3e0e9",
   "metadata": {},
   "source": [
    "## Overview<br>\n",
    "Now you can analyze your data. Your manager has given you a high degree of freedom on this task, so it’s is up to you to find the most relevant information. <br>\n",
    "\n",
    "To test your skills, your manager want you to use at least:\n",
    "<br>\n",
    "- Indicators of central tendency and dispersion.<br>\n",
    ">    <font color='blue'>Analysis of central tendency and dispersion for session duration (minute):  [See script](#task2_1_1)</font>\n",
    "| Mean | Median | Mode | Variance | Standard deviation |\n",
    "|:---:|:---:|:---:|:---:|:---:\n",
    "| 26.24 | 23.68 | 0, 41.69 |  313.97 | 17.72 |\n",
    "<br>\n",
    "\n",
    ">    <font color='blue'>The average session duration is at 26 minutes, with 17 minutes of variations toward both longer and shorter ends of the spectrum.<br></font> \n",
    "<br>\n",
    ">    <font color='blue'>Additionally, by looking at a histogram of the client age distribution, we can see that the majority clients are under 60 years old. [See script](#task2_1_2)<br></font> \n",
    "    \n",
    "    \n",
    "\n",
    "- A concentration analysis, using a Lorenz curve and a Gini coefficient.<br>\n",
    "    <font color='blue'>The Gini coefficient for number of client vs total purchase per client is 0.48. This tells that client purchase amount is not venly distributed amongst clients, indicating potential outliers (clients who buy way more than the others). [See script](#task2_2) </font>\n",
    "<br>\n",
    "<br>\n",
    "- Graphic representations, including at least one histogram, a representation with boxplots, and a time series graph (i.e a graph in which the abscissa axis represents dates).<br>\n",
    "- Bivariate analyses.\n",
    ">    <font color='blue'>Analysis of monthly revenue. The time series graph reveals that there was a peak of revenue in September 2021, followed immediately by a sharp drop in October 2021. Analysis indicates that \n",
    ">    - a).the peak in September sales is possibly caused by sudden sales increase of product category 0; \n",
    ">    - b).the drop in sales are caused by absence of revenue from category 1 productsfrom 2 to 27 October. [See script](#task_2_4) </font>"
   ]
  },
  {
   "cell_type": "markdown",
   "id": "0b9d08ed",
   "metadata": {},
   "source": [
    "<hr style=\"border:1.5px solid blalck\"> </hr>"
   ]
  },
  {
   "cell_type": "code",
   "execution_count": 45,
   "id": "26557934",
   "metadata": {
    "scrolled": true
   },
   "outputs": [
    {
     "data": {
      "text/html": [
       "<div>\n",
       "<style scoped>\n",
       "    .dataframe tbody tr th:only-of-type {\n",
       "        vertical-align: middle;\n",
       "    }\n",
       "\n",
       "    .dataframe tbody tr th {\n",
       "        vertical-align: top;\n",
       "    }\n",
       "\n",
       "    .dataframe thead th {\n",
       "        text-align: right;\n",
       "    }\n",
       "</style>\n",
       "<table border=\"1\" class=\"dataframe\">\n",
       "  <thead>\n",
       "    <tr style=\"text-align: right;\">\n",
       "      <th></th>\n",
       "      <th>id_prod</th>\n",
       "      <th>purchase_date</th>\n",
       "      <th>session_id</th>\n",
       "      <th>client_id</th>\n",
       "      <th>session_duration_minute</th>\n",
       "      <th>session_date</th>\n",
       "      <th>session_weekday</th>\n",
       "      <th>session_month</th>\n",
       "      <th>session_day_of_month</th>\n",
       "      <th>product_price</th>\n",
       "      <th>product_categ</th>\n",
       "      <th>client_sex</th>\n",
       "      <th>client_birth</th>\n",
       "      <th>client_age</th>\n",
       "      <th>total_purchase_per_session</th>\n",
       "    </tr>\n",
       "  </thead>\n",
       "  <tbody>\n",
       "    <tr>\n",
       "      <th>0</th>\n",
       "      <td>0_1483</td>\n",
       "      <td>2021-04-10 18:37:28.723910</td>\n",
       "      <td>s_18746</td>\n",
       "      <td>c_4450</td>\n",
       "      <td>12.323415</td>\n",
       "      <td>2021-04-10</td>\n",
       "      <td>Saturday</td>\n",
       "      <td>2021-04</td>\n",
       "      <td>10</td>\n",
       "      <td>4.99</td>\n",
       "      <td>0</td>\n",
       "      <td>f</td>\n",
       "      <td>1977</td>\n",
       "      <td>45</td>\n",
       "      <td>24.97</td>\n",
       "    </tr>\n",
       "    <tr>\n",
       "      <th>1</th>\n",
       "      <td>1_685</td>\n",
       "      <td>2021-04-10 18:25:09.319011</td>\n",
       "      <td>s_18746</td>\n",
       "      <td>c_4450</td>\n",
       "      <td>12.323415</td>\n",
       "      <td>2021-04-10</td>\n",
       "      <td>Saturday</td>\n",
       "      <td>2021-04</td>\n",
       "      <td>10</td>\n",
       "      <td>15.99</td>\n",
       "      <td>1</td>\n",
       "      <td>f</td>\n",
       "      <td>1977</td>\n",
       "      <td>45</td>\n",
       "      <td>24.97</td>\n",
       "    </tr>\n",
       "    <tr>\n",
       "      <th>2</th>\n",
       "      <td>0_1395</td>\n",
       "      <td>2021-04-10 18:32:27.342375</td>\n",
       "      <td>s_18746</td>\n",
       "      <td>c_4450</td>\n",
       "      <td>12.323415</td>\n",
       "      <td>2021-04-10</td>\n",
       "      <td>Saturday</td>\n",
       "      <td>2021-04</td>\n",
       "      <td>10</td>\n",
       "      <td>3.99</td>\n",
       "      <td>0</td>\n",
       "      <td>f</td>\n",
       "      <td>1977</td>\n",
       "      <td>45</td>\n",
       "      <td>24.97</td>\n",
       "    </tr>\n",
       "    <tr>\n",
       "      <th>3</th>\n",
       "      <td>1_685</td>\n",
       "      <td>2022-01-08 17:01:39.106131</td>\n",
       "      <td>s_146917</td>\n",
       "      <td>c_4450</td>\n",
       "      <td>35.715387</td>\n",
       "      <td>2022-01-08</td>\n",
       "      <td>Saturday</td>\n",
       "      <td>2022-01</td>\n",
       "      <td>8</td>\n",
       "      <td>15.99</td>\n",
       "      <td>1</td>\n",
       "      <td>f</td>\n",
       "      <td>1977</td>\n",
       "      <td>45</td>\n",
       "      <td>57.66</td>\n",
       "    </tr>\n",
       "    <tr>\n",
       "      <th>4</th>\n",
       "      <td>0_1152</td>\n",
       "      <td>2022-01-08 17:33:13.386306</td>\n",
       "      <td>s_146917</td>\n",
       "      <td>c_4450</td>\n",
       "      <td>35.715387</td>\n",
       "      <td>2022-01-08</td>\n",
       "      <td>Saturday</td>\n",
       "      <td>2022-01</td>\n",
       "      <td>8</td>\n",
       "      <td>10.70</td>\n",
       "      <td>0</td>\n",
       "      <td>f</td>\n",
       "      <td>1977</td>\n",
       "      <td>45</td>\n",
       "      <td>57.66</td>\n",
       "    </tr>\n",
       "  </tbody>\n",
       "</table>\n",
       "</div>"
      ],
      "text/plain": [
       "  id_prod              purchase_date session_id client_id  \\\n",
       "0  0_1483 2021-04-10 18:37:28.723910    s_18746    c_4450   \n",
       "1   1_685 2021-04-10 18:25:09.319011    s_18746    c_4450   \n",
       "2  0_1395 2021-04-10 18:32:27.342375    s_18746    c_4450   \n",
       "3   1_685 2022-01-08 17:01:39.106131   s_146917    c_4450   \n",
       "4  0_1152 2022-01-08 17:33:13.386306   s_146917    c_4450   \n",
       "\n",
       "   session_duration_minute session_date session_weekday session_month  \\\n",
       "0                12.323415   2021-04-10        Saturday       2021-04   \n",
       "1                12.323415   2021-04-10        Saturday       2021-04   \n",
       "2                12.323415   2021-04-10        Saturday       2021-04   \n",
       "3                35.715387   2022-01-08        Saturday       2022-01   \n",
       "4                35.715387   2022-01-08        Saturday       2022-01   \n",
       "\n",
       "   session_day_of_month  product_price  product_categ client_sex  \\\n",
       "0                    10           4.99              0          f   \n",
       "1                    10          15.99              1          f   \n",
       "2                    10           3.99              0          f   \n",
       "3                     8          15.99              1          f   \n",
       "4                     8          10.70              0          f   \n",
       "\n",
       "   client_birth  client_age  total_purchase_per_session  \n",
       "0          1977          45                       24.97  \n",
       "1          1977          45                       24.97  \n",
       "2          1977          45                       24.97  \n",
       "3          1977          45                       57.66  \n",
       "4          1977          45                       57.66  "
      ]
     },
     "execution_count": 45,
     "metadata": {},
     "output_type": "execute_result"
    }
   ],
   "source": [
    "data.head()"
   ]
  },
  {
   "cell_type": "markdown",
   "id": "54aa5f87",
   "metadata": {},
   "source": [
    "<a id=\"task2_1_1\"></a>\n",
    "<font color='blue'>Indicators of central tendency and dispersion.</font>"
   ]
  },
  {
   "cell_type": "code",
   "execution_count": 46,
   "id": "005192e1",
   "metadata": {
    "scrolled": false
   },
   "outputs": [
    {
     "name": "stdout",
     "output_type": "stream",
     "text": [
      "──────────────────────────────────────────────────\n",
      "Central tendency for session duration (minute)\n",
      "mean:\n",
      " 26.23767580160266\n",
      "median:\n",
      " 23.677146116666666\n",
      "mode:\n",
      " 0    41.69309\n",
      "dtype: float64\n",
      "variance:\n",
      " 313.9365104387783\n",
      "standard diviation:\n",
      " 17.7182535944934\n"
     ]
    },
    {
     "data": {
      "image/png": "[encoded data removed]",
      "text/plain": [
       "<Figure size 432x288 with 1 Axes>"
      ]
     },
     "metadata": {},
     "output_type": "display_data"
    },
    {
     "data": {
      "image/png": "[encoded data removed]",
      "text/plain": [
       "<Figure size 432x288 with 1 Axes>"
      ]
     },
     "metadata": {},
     "output_type": "display_data"
    }
   ],
   "source": [
    "data_sub1 = data.drop_duplicates(subset=[\"session_id\"])\n",
    "data_sub1 = data_sub1[\n",
    "    data_sub1[\"session_duration_minute\"] > 0\n",
    "]  # excluding session duration that are 0 minuite.\n",
    "print(u\"\\u2500\" * 50)\n",
    "print(\"Central tendency for session duration (minute)\")\n",
    "print(\"mean:\\n\", data_sub1[\"session_duration_minute\"].mean())\n",
    "print(\"median:\\n\", data_sub1[\"session_duration_minute\"].median())\n",
    "print(\"mode:\\n\", data_sub1[\"session_duration_minute\"].mode())\n",
    "print(\"variance:\\n\", data_sub1[\"session_duration_minute\"].var(ddof=0))\n",
    "print(\"standard diviation:\\n\", data_sub1[\"session_duration_minute\"].std(ddof=0))\n",
    "sns.set_style(\"white\")\n",
    "sns.boxplot(\n",
    "    x=data_sub1[\"session_duration_minute\"], data=data_sub1, color=\"#B3058A\", fliersize=3\n",
    ")\n",
    "plt.box(False)\n",
    "plt.show()\n",
    "\n",
    "sns.histplot(data=data_sub1, x=\"session_duration_minute\", kde=False)\n",
    "plt.box(False)\n",
    "plt.show()"
   ]
  },
  {
   "cell_type": "markdown",
   "id": "b50e1912",
   "metadata": {},
   "source": [
    "<font color='blue'>Most sessions last between 15 and 38 minutes. The median sits at 23min. Spreads 17min towards both directions.</font>"
   ]
  },
  {
   "cell_type": "markdown",
   "id": "2730b3f4",
   "metadata": {},
   "source": [
    "<a id=\"task2_1.2\"></a>"
   ]
  },
  {
   "cell_type": "markdown",
   "id": "891f934a",
   "metadata": {},
   "source": [
    "<hr style=\"border:1.5px solid blalck\"> </hr>"
   ]
  },
  {
   "cell_type": "markdown",
   "id": "941c08e4",
   "metadata": {},
   "source": [
    "<font color='blue'>A concentration analysis, using a Lorenz curve and a Gini coefficient for the cumulative number of client and their purchase amount, to verify whether the sales are evenly spread between all clients or rather concentrated between just a few clients.</font>\n",
    "<a id='task2_2'></a>"
   ]
  },
  {
   "cell_type": "code",
   "execution_count": 47,
   "id": "5edda34b",
   "metadata": {
    "scrolled": false
   },
   "outputs": [
    {
     "data": {
      "text/html": [
       "<div>\n",
       "<style scoped>\n",
       "    .dataframe tbody tr th:only-of-type {\n",
       "        vertical-align: middle;\n",
       "    }\n",
       "\n",
       "    .dataframe tbody tr th {\n",
       "        vertical-align: top;\n",
       "    }\n",
       "\n",
       "    .dataframe thead th {\n",
       "        text-align: right;\n",
       "    }\n",
       "</style>\n",
       "<table border=\"1\" class=\"dataframe\">\n",
       "  <thead>\n",
       "    <tr style=\"text-align: right;\">\n",
       "      <th></th>\n",
       "      <th>id_prod</th>\n",
       "      <th>purchase_date</th>\n",
       "      <th>session_id</th>\n",
       "      <th>client_id</th>\n",
       "      <th>session_duration_minute</th>\n",
       "      <th>session_date</th>\n",
       "      <th>session_weekday</th>\n",
       "      <th>session_month</th>\n",
       "      <th>session_day_of_month</th>\n",
       "      <th>product_price</th>\n",
       "      <th>product_categ</th>\n",
       "      <th>client_sex</th>\n",
       "      <th>client_birth</th>\n",
       "      <th>client_age</th>\n",
       "      <th>total_purchase_per_session</th>\n",
       "    </tr>\n",
       "  </thead>\n",
       "  <tbody>\n",
       "    <tr>\n",
       "      <th>0</th>\n",
       "      <td>0_1483</td>\n",
       "      <td>2021-04-10 18:37:28.723910</td>\n",
       "      <td>s_18746</td>\n",
       "      <td>c_4450</td>\n",
       "      <td>12.323415</td>\n",
       "      <td>2021-04-10</td>\n",
       "      <td>Saturday</td>\n",
       "      <td>2021-04</td>\n",
       "      <td>10</td>\n",
       "      <td>4.99</td>\n",
       "      <td>0</td>\n",
       "      <td>f</td>\n",
       "      <td>1977</td>\n",
       "      <td>45</td>\n",
       "      <td>24.97</td>\n",
       "    </tr>\n",
       "    <tr>\n",
       "      <th>1</th>\n",
       "      <td>1_685</td>\n",
       "      <td>2021-04-10 18:25:09.319011</td>\n",
       "      <td>s_18746</td>\n",
       "      <td>c_4450</td>\n",
       "      <td>12.323415</td>\n",
       "      <td>2021-04-10</td>\n",
       "      <td>Saturday</td>\n",
       "      <td>2021-04</td>\n",
       "      <td>10</td>\n",
       "      <td>15.99</td>\n",
       "      <td>1</td>\n",
       "      <td>f</td>\n",
       "      <td>1977</td>\n",
       "      <td>45</td>\n",
       "      <td>24.97</td>\n",
       "    </tr>\n",
       "    <tr>\n",
       "      <th>2</th>\n",
       "      <td>0_1395</td>\n",
       "      <td>2021-04-10 18:32:27.342375</td>\n",
       "      <td>s_18746</td>\n",
       "      <td>c_4450</td>\n",
       "      <td>12.323415</td>\n",
       "      <td>2021-04-10</td>\n",
       "      <td>Saturday</td>\n",
       "      <td>2021-04</td>\n",
       "      <td>10</td>\n",
       "      <td>3.99</td>\n",
       "      <td>0</td>\n",
       "      <td>f</td>\n",
       "      <td>1977</td>\n",
       "      <td>45</td>\n",
       "      <td>24.97</td>\n",
       "    </tr>\n",
       "    <tr>\n",
       "      <th>3</th>\n",
       "      <td>1_685</td>\n",
       "      <td>2022-01-08 17:01:39.106131</td>\n",
       "      <td>s_146917</td>\n",
       "      <td>c_4450</td>\n",
       "      <td>35.715387</td>\n",
       "      <td>2022-01-08</td>\n",
       "      <td>Saturday</td>\n",
       "      <td>2022-01</td>\n",
       "      <td>8</td>\n",
       "      <td>15.99</td>\n",
       "      <td>1</td>\n",
       "      <td>f</td>\n",
       "      <td>1977</td>\n",
       "      <td>45</td>\n",
       "      <td>57.66</td>\n",
       "    </tr>\n",
       "    <tr>\n",
       "      <th>4</th>\n",
       "      <td>0_1152</td>\n",
       "      <td>2022-01-08 17:33:13.386306</td>\n",
       "      <td>s_146917</td>\n",
       "      <td>c_4450</td>\n",
       "      <td>35.715387</td>\n",
       "      <td>2022-01-08</td>\n",
       "      <td>Saturday</td>\n",
       "      <td>2022-01</td>\n",
       "      <td>8</td>\n",
       "      <td>10.70</td>\n",
       "      <td>0</td>\n",
       "      <td>f</td>\n",
       "      <td>1977</td>\n",
       "      <td>45</td>\n",
       "      <td>57.66</td>\n",
       "    </tr>\n",
       "  </tbody>\n",
       "</table>\n",
       "</div>"
      ],
      "text/plain": [
       "  id_prod              purchase_date session_id client_id  \\\n",
       "0  0_1483 2021-04-10 18:37:28.723910    s_18746    c_4450   \n",
       "1   1_685 2021-04-10 18:25:09.319011    s_18746    c_4450   \n",
       "2  0_1395 2021-04-10 18:32:27.342375    s_18746    c_4450   \n",
       "3   1_685 2022-01-08 17:01:39.106131   s_146917    c_4450   \n",
       "4  0_1152 2022-01-08 17:33:13.386306   s_146917    c_4450   \n",
       "\n",
       "   session_duration_minute session_date session_weekday session_month  \\\n",
       "0                12.323415   2021-04-10        Saturday       2021-04   \n",
       "1                12.323415   2021-04-10        Saturday       2021-04   \n",
       "2                12.323415   2021-04-10        Saturday       2021-04   \n",
       "3                35.715387   2022-01-08        Saturday       2022-01   \n",
       "4                35.715387   2022-01-08        Saturday       2022-01   \n",
       "\n",
       "   session_day_of_month  product_price  product_categ client_sex  \\\n",
       "0                    10           4.99              0          f   \n",
       "1                    10          15.99              1          f   \n",
       "2                    10           3.99              0          f   \n",
       "3                     8          15.99              1          f   \n",
       "4                     8          10.70              0          f   \n",
       "\n",
       "   client_birth  client_age  total_purchase_per_session  \n",
       "0          1977          45                       24.97  \n",
       "1          1977          45                       24.97  \n",
       "2          1977          45                       24.97  \n",
       "3          1977          45                       57.66  \n",
       "4          1977          45                       57.66  "
      ]
     },
     "execution_count": 47,
     "metadata": {},
     "output_type": "execute_result"
    }
   ],
   "source": [
    "data.head()"
   ]
  },
  {
   "cell_type": "code",
   "execution_count": 48,
   "id": "11d4f606",
   "metadata": {
    "scrolled": false
   },
   "outputs": [
    {
     "data": {
      "text/html": [
       "<div>\n",
       "<style scoped>\n",
       "    .dataframe tbody tr th:only-of-type {\n",
       "        vertical-align: middle;\n",
       "    }\n",
       "\n",
       "    .dataframe tbody tr th {\n",
       "        vertical-align: top;\n",
       "    }\n",
       "\n",
       "    .dataframe thead th {\n",
       "        text-align: right;\n",
       "    }\n",
       "</style>\n",
       "<table border=\"1\" class=\"dataframe\">\n",
       "  <thead>\n",
       "    <tr style=\"text-align: right;\">\n",
       "      <th></th>\n",
       "      <th>client_id</th>\n",
       "      <th>total_purchase_per_client</th>\n",
       "    </tr>\n",
       "  </thead>\n",
       "  <tbody>\n",
       "    <tr>\n",
       "      <th>0</th>\n",
       "      <td>c_1</td>\n",
       "      <td>715.42</td>\n",
       "    </tr>\n",
       "    <tr>\n",
       "      <th>1</th>\n",
       "      <td>c_10</td>\n",
       "      <td>1360.18</td>\n",
       "    </tr>\n",
       "    <tr>\n",
       "      <th>2</th>\n",
       "      <td>c_100</td>\n",
       "      <td>486.11</td>\n",
       "    </tr>\n",
       "    <tr>\n",
       "      <th>3</th>\n",
       "      <td>c_1000</td>\n",
       "      <td>1958.82</td>\n",
       "    </tr>\n",
       "    <tr>\n",
       "      <th>4</th>\n",
       "      <td>c_1001</td>\n",
       "      <td>4359.66</td>\n",
       "    </tr>\n",
       "    <tr>\n",
       "      <th>...</th>\n",
       "      <td>...</td>\n",
       "      <td>...</td>\n",
       "    </tr>\n",
       "    <tr>\n",
       "      <th>8595</th>\n",
       "      <td>c_995</td>\n",
       "      <td>198.18</td>\n",
       "    </tr>\n",
       "    <tr>\n",
       "      <th>8596</th>\n",
       "      <td>c_996</td>\n",
       "      <td>960.70</td>\n",
       "    </tr>\n",
       "    <tr>\n",
       "      <th>8597</th>\n",
       "      <td>c_997</td>\n",
       "      <td>1402.37</td>\n",
       "    </tr>\n",
       "    <tr>\n",
       "      <th>8598</th>\n",
       "      <td>c_998</td>\n",
       "      <td>3705.35</td>\n",
       "    </tr>\n",
       "    <tr>\n",
       "      <th>8599</th>\n",
       "      <td>c_999</td>\n",
       "      <td>350.98</td>\n",
       "    </tr>\n",
       "  </tbody>\n",
       "</table>\n",
       "<p>8600 rows × 2 columns</p>\n",
       "</div>"
      ],
      "text/plain": [
       "     client_id  total_purchase_per_client\n",
       "0          c_1                     715.42\n",
       "1         c_10                    1360.18\n",
       "2        c_100                     486.11\n",
       "3       c_1000                    1958.82\n",
       "4       c_1001                    4359.66\n",
       "...        ...                        ...\n",
       "8595     c_995                     198.18\n",
       "8596     c_996                     960.70\n",
       "8597     c_997                    1402.37\n",
       "8598     c_998                    3705.35\n",
       "8599     c_999                     350.98\n",
       "\n",
       "[8600 rows x 2 columns]"
      ]
     },
     "execution_count": 48,
     "metadata": {},
     "output_type": "execute_result"
    }
   ],
   "source": [
    "# Creating the subset\n",
    "lorenz_subset = data.groupby(\"client_id\")[\"total_purchase_per_session\"].sum().to_frame()\n",
    "lorenz_subset.reset_index(inplace=True)\n",
    "lorenz_subset.columns = [\"client_id\", \"total_purchase_per_client\"]\n",
    "lorenz_subset"
   ]
  },
  {
   "cell_type": "code",
   "execution_count": 49,
   "id": "cf920525",
   "metadata": {
    "scrolled": true
   },
   "outputs": [
    {
     "data": {
      "image/png": "[encoded data removed]",
      "text/plain": [
       "<Figure size 432x288 with 1 Axes>"
      ]
     },
     "metadata": {},
     "output_type": "display_data"
    }
   ],
   "source": [
    "n = len(lorenz_subset[\"total_purchase_per_client\"].values)\n",
    "lorenz_y = (\n",
    "    np.cumsum(lorenz_subset[\"total_purchase_per_client\"].sort_values())\n",
    "    / lorenz_subset[\"total_purchase_per_client\"].sum()\n",
    ")\n",
    "lorenz_y = np.append([0], lorenz_y)\n",
    "\n",
    "sns.set_style(\"white\")\n",
    "xaxis = np.linspace(0 - 1 / n, 1 + 1 / n, n + 1)\n",
    "plt.plot(xaxis, lorenz_y, drawstyle=\"steps-post\")\n",
    "plt.plot([0, 1], [0, 1])\n",
    "plt.xlabel(\"Number of client\")\n",
    "plt.ylabel(\"Purchase per client\")\n",
    "plt.box(False)\n",
    "plt.show()"
   ]
  },
  {
   "cell_type": "markdown",
   "id": "a4d0c3f1",
   "metadata": {},
   "source": [
    "<font color='blue'>This graph indicates that the revenues are not very evenly distributed amongst clients. There might be a few clients who is buying much more than the rest.</font>"
   ]
  },
  {
   "cell_type": "code",
   "execution_count": 50,
   "id": "59abe30f",
   "metadata": {},
   "outputs": [
    {
     "data": {
      "text/plain": [
       "0.4815092376913095"
      ]
     },
     "execution_count": 50,
     "metadata": {},
     "output_type": "execute_result"
    }
   ],
   "source": [
    "def gini(arr):\n",
    "    sorted_arr = arr.copy()\n",
    "    sorted_arr.sort()\n",
    "    n = arr.size\n",
    "    coef_ = 2.0 / n\n",
    "    const_ = (n + 1.0) / n\n",
    "    weighted_sum = sum([(i + 1) * yi for i, yi in enumerate(sorted_arr)])\n",
    "    return coef_ * weighted_sum / (sorted_arr.sum()) - const_\n",
    "\n",
    "\n",
    "gini(lorenz_subset[\"total_purchase_per_client\"].values)"
   ]
  },
  {
   "cell_type": "markdown",
   "id": "97d36aeb",
   "metadata": {},
   "source": [
    "<font color='blue'>The gini coefficient again indicates that the revenue is spread not equaly among clients.</font>"
   ]
  },
  {
   "cell_type": "markdown",
   "id": "2f34f032",
   "metadata": {},
   "source": [
    "<font color='blue'>Let's find out who are buying more than the rest.</font>"
   ]
  },
  {
   "cell_type": "code",
   "execution_count": 51,
   "id": "5caa3388",
   "metadata": {
    "scrolled": false
   },
   "outputs": [
    {
     "data": {
      "text/plain": [
       "client_id\n",
       "c_1609    471910.33\n",
       "c_6714    310894.70\n",
       "c_4958    234834.56\n",
       "c_3454     77933.83\n",
       "c_3263      8985.83\n",
       "c_7319      8695.03\n",
       "c_3725      8682.62\n",
       "c_6775      8413.23\n",
       "c_4023      8218.01\n",
       "c_2140      8128.43\n",
       "Name: total_purchase_per_session, dtype: float64"
      ]
     },
     "execution_count": 51,
     "metadata": {},
     "output_type": "execute_result"
    }
   ],
   "source": [
    "# Identify top clients\n",
    "data.groupby(\"client_id\")[\"total_purchase_per_session\"].sum().sort_values(\n",
    "    ascending=False\n",
    ").head(10)"
   ]
  },
  {
   "cell_type": "markdown",
   "id": "a215d650",
   "metadata": {},
   "source": [
    "<font color='blue'>Top 4 clients are buying much more than the rest.</font>"
   ]
  },
  {
   "cell_type": "code",
   "execution_count": 52,
   "id": "50d40f1b",
   "metadata": {},
   "outputs": [],
   "source": [
    "# Creating a variable of top 4 client for possible future use.\n",
    "top_4_client = [\"c_1609\", \"c_6714\", \"c_4958\", \"c_3454\"]"
   ]
  },
  {
   "cell_type": "code",
   "execution_count": 53,
   "id": "f47e8628",
   "metadata": {},
   "outputs": [
    {
     "name": "stdout",
     "output_type": "stream",
     "text": [
      "Revenue from top 4 clients: 1095573.42\n",
      "Total revenue: 14866209.35\n"
     ]
    }
   ],
   "source": [
    "top_4_client_purchase = (\n",
    "    data[data[\"client_id\"].isin(top_4_client)][\"total_purchase_per_session\"]\n",
    "    .sum()\n",
    "    .round(2)\n",
    ")\n",
    "total_revenue = data[\"total_purchase_per_session\"].sum().round(2)\n",
    "print(\"Revenue from top 4 clients:\", top_4_client_purchase)\n",
    "print(\"Total revenue:\", total_revenue)"
   ]
  },
  {
   "cell_type": "code",
   "execution_count": 54,
   "id": "02a35c49",
   "metadata": {},
   "outputs": [
    {
     "data": {
      "text/plain": [
       "0.07369554633643041"
      ]
     },
     "execution_count": 54,
     "metadata": {},
     "output_type": "execute_result"
    }
   ],
   "source": [
    "# Percentage of revenue from top 4 clients\n",
    "top_4_client_purchase / total_revenue"
   ]
  },
  {
   "cell_type": "markdown",
   "id": "478f1435",
   "metadata": {},
   "source": [
    "<font color='blue'>Analysis of monthly revenue represented in time series graph</font>\n",
    "<a id='task_2_4'></a>"
   ]
  },
  {
   "cell_type": "code",
   "execution_count": 55,
   "id": "727ede6d",
   "metadata": {
    "scrolled": false
   },
   "outputs": [
    {
     "data": {
      "text/plain": [
       "Text(0.5, 1.0, 'Monthly Revenue')"
      ]
     },
     "execution_count": 55,
     "metadata": {},
     "output_type": "execute_result"
    },
    {
     "data": {
      "image/png": "[encoded data removed]",
      "text/plain": [
       "<Figure size 720x360 with 1 Axes>"
      ]
     },
     "metadata": {},
     "output_type": "display_data"
    }
   ],
   "source": [
    "month = data[\"session_month\"].astype(str).sort_values().unique()\n",
    "revenue = data.groupby(\"session_month\")[\"total_purchase_per_session\"].sum()\n",
    "\n",
    "fig, ax = plt.subplots(figsize=(10, 5))\n",
    "plt.box(False)\n",
    "ax.plot(month, revenue)\n",
    "ax.set_xlabel(\"Month\")\n",
    "ax.set_ylabel(\"Revenue (million)\")\n",
    "ax.set_title(\"Monthly Revenue\")"
   ]
  },
  {
   "cell_type": "markdown",
   "id": "bfebe2ac",
   "metadata": {},
   "source": [
    "<font color='blue'>Investigation of the sudden peak and drop in revenue in September and October 2021</font>"
   ]
  },
  {
   "cell_type": "code",
   "execution_count": 56,
   "id": "4f6f11ff",
   "metadata": {},
   "outputs": [
    {
     "data": {
      "text/html": [
       "<div>\n",
       "<style scoped>\n",
       "    .dataframe tbody tr th:only-of-type {\n",
       "        vertical-align: middle;\n",
       "    }\n",
       "\n",
       "    .dataframe tbody tr th {\n",
       "        vertical-align: top;\n",
       "    }\n",
       "\n",
       "    .dataframe thead th {\n",
       "        text-align: right;\n",
       "    }\n",
       "</style>\n",
       "<table border=\"1\" class=\"dataframe\">\n",
       "  <thead>\n",
       "    <tr style=\"text-align: right;\">\n",
       "      <th></th>\n",
       "      <th>session_day_of_month</th>\n",
       "      <th>product_categ</th>\n",
       "      <th>total_purchase_per_session</th>\n",
       "    </tr>\n",
       "  </thead>\n",
       "  <tbody>\n",
       "    <tr>\n",
       "      <th>0</th>\n",
       "      <td>1</td>\n",
       "      <td>0</td>\n",
       "      <td>28086.97</td>\n",
       "    </tr>\n",
       "    <tr>\n",
       "      <th>1</th>\n",
       "      <td>1</td>\n",
       "      <td>1</td>\n",
       "      <td>16307.29</td>\n",
       "    </tr>\n",
       "    <tr>\n",
       "      <th>2</th>\n",
       "      <td>1</td>\n",
       "      <td>2</td>\n",
       "      <td>4530.71</td>\n",
       "    </tr>\n",
       "    <tr>\n",
       "      <th>3</th>\n",
       "      <td>2</td>\n",
       "      <td>0</td>\n",
       "      <td>20324.19</td>\n",
       "    </tr>\n",
       "    <tr>\n",
       "      <th>4</th>\n",
       "      <td>2</td>\n",
       "      <td>2</td>\n",
       "      <td>2394.71</td>\n",
       "    </tr>\n",
       "    <tr>\n",
       "      <th>...</th>\n",
       "      <td>...</td>\n",
       "      <td>...</td>\n",
       "      <td>...</td>\n",
       "    </tr>\n",
       "    <tr>\n",
       "      <th>62</th>\n",
       "      <td>30</td>\n",
       "      <td>1</td>\n",
       "      <td>15284.39</td>\n",
       "    </tr>\n",
       "    <tr>\n",
       "      <th>63</th>\n",
       "      <td>30</td>\n",
       "      <td>2</td>\n",
       "      <td>4100.47</td>\n",
       "    </tr>\n",
       "    <tr>\n",
       "      <th>64</th>\n",
       "      <td>31</td>\n",
       "      <td>0</td>\n",
       "      <td>22741.59</td>\n",
       "    </tr>\n",
       "    <tr>\n",
       "      <th>65</th>\n",
       "      <td>31</td>\n",
       "      <td>1</td>\n",
       "      <td>16637.40</td>\n",
       "    </tr>\n",
       "    <tr>\n",
       "      <th>66</th>\n",
       "      <td>31</td>\n",
       "      <td>2</td>\n",
       "      <td>4391.65</td>\n",
       "    </tr>\n",
       "  </tbody>\n",
       "</table>\n",
       "<p>67 rows × 3 columns</p>\n",
       "</div>"
      ],
      "text/plain": [
       "    session_day_of_month  product_categ  total_purchase_per_session\n",
       "0                      1              0                    28086.97\n",
       "1                      1              1                    16307.29\n",
       "2                      1              2                     4530.71\n",
       "3                      2              0                    20324.19\n",
       "4                      2              2                     2394.71\n",
       "..                   ...            ...                         ...\n",
       "62                    30              1                    15284.39\n",
       "63                    30              2                     4100.47\n",
       "64                    31              0                    22741.59\n",
       "65                    31              1                    16637.40\n",
       "66                    31              2                     4391.65\n",
       "\n",
       "[67 rows x 3 columns]"
      ]
     },
     "execution_count": 56,
     "metadata": {},
     "output_type": "execute_result"
    }
   ],
   "source": [
    "# Creating subset with data of only interested time period: September and October\n",
    "data_oct = data[data[\"session_month\"] == \"2021-10\"]\n",
    "\n",
    "daily_sales_oct = (\n",
    "    data_oct.groupby([\"session_day_of_month\", \"product_categ\"])[\n",
    "        \"total_purchase_per_session\"\n",
    "    ]\n",
    "    .sum()\n",
    "    .to_frame()\n",
    ")\n",
    "daily_sales_oct.reset_index(inplace=True)\n",
    "daily_sales_oct"
   ]
  },
  {
   "cell_type": "code",
   "execution_count": 57,
   "id": "db9fcf53",
   "metadata": {
    "scrolled": false
   },
   "outputs": [
    {
     "data": {
      "image/png": "[encoded data removed]",
      "text/plain": [
       "<Figure size 864x432 with 1 Axes>"
      ]
     },
     "metadata": {},
     "output_type": "display_data"
    }
   ],
   "source": [
    "# Visualizing daily revenue movement per product category\n",
    "colors_1 = [\"#98b3af\", \"#fd2c02\", \"#98b3af\"]\n",
    "sns.set_palette(sns.color_palette(colors_1))\n",
    "\n",
    "sns.catplot(\n",
    "    x=\"session_day_of_month\",\n",
    "    y=\"total_purchase_per_session\",\n",
    "    hue=\"product_categ\",\n",
    "    data=daily_sales_oct,\n",
    "    kind=\"bar\",\n",
    ").set(\n",
    "    title=\"October daily reveue per product categ\",\n",
    "    xlabel=\"Day of the month\",\n",
    "    ylabel=\"Revenue\",\n",
    ")\n",
    "plt.gcf().set_size_inches(12, 6)\n",
    "plt.show()"
   ]
  },
  {
   "cell_type": "markdown",
   "id": "adc6416c",
   "metadata": {},
   "source": [
    "<font color='blue'>Notably products in category 1 is absent from 2-27 October transactions.</font>"
   ]
  },
  {
   "cell_type": "code",
   "execution_count": 58,
   "id": "c9b7e527",
   "metadata": {
    "scrolled": false
   },
   "outputs": [
    {
     "data": {
      "text/html": [
       "<div>\n",
       "<style scoped>\n",
       "    .dataframe tbody tr th:only-of-type {\n",
       "        vertical-align: middle;\n",
       "    }\n",
       "\n",
       "    .dataframe tbody tr th {\n",
       "        vertical-align: top;\n",
       "    }\n",
       "\n",
       "    .dataframe thead th {\n",
       "        text-align: right;\n",
       "    }\n",
       "</style>\n",
       "<table border=\"1\" class=\"dataframe\">\n",
       "  <thead>\n",
       "    <tr style=\"text-align: right;\">\n",
       "      <th></th>\n",
       "      <th>session_month</th>\n",
       "      <th>product_categ</th>\n",
       "      <th>total_purchase_per_session</th>\n",
       "    </tr>\n",
       "  </thead>\n",
       "  <tbody>\n",
       "    <tr>\n",
       "      <th>0</th>\n",
       "      <td>2021-03</td>\n",
       "      <td>0</td>\n",
       "      <td>701550.49</td>\n",
       "    </tr>\n",
       "    <tr>\n",
       "      <th>1</th>\n",
       "      <td>2021-03</td>\n",
       "      <td>1</td>\n",
       "      <td>405150.59</td>\n",
       "    </tr>\n",
       "    <tr>\n",
       "      <th>2</th>\n",
       "      <td>2021-03</td>\n",
       "      <td>2</td>\n",
       "      <td>139316.83</td>\n",
       "    </tr>\n",
       "    <tr>\n",
       "      <th>3</th>\n",
       "      <td>2021-04</td>\n",
       "      <td>0</td>\n",
       "      <td>730682.77</td>\n",
       "    </tr>\n",
       "    <tr>\n",
       "      <th>4</th>\n",
       "      <td>2021-04</td>\n",
       "      <td>1</td>\n",
       "      <td>335370.06</td>\n",
       "    </tr>\n",
       "    <tr>\n",
       "      <th>5</th>\n",
       "      <td>2021-04</td>\n",
       "      <td>2</td>\n",
       "      <td>159678.11</td>\n",
       "    </tr>\n",
       "    <tr>\n",
       "      <th>6</th>\n",
       "      <td>2021-05</td>\n",
       "      <td>0</td>\n",
       "      <td>686205.94</td>\n",
       "    </tr>\n",
       "    <tr>\n",
       "      <th>7</th>\n",
       "      <td>2021-05</td>\n",
       "      <td>1</td>\n",
       "      <td>354900.96</td>\n",
       "    </tr>\n",
       "    <tr>\n",
       "      <th>8</th>\n",
       "      <td>2021-05</td>\n",
       "      <td>2</td>\n",
       "      <td>185340.36</td>\n",
       "    </tr>\n",
       "    <tr>\n",
       "      <th>9</th>\n",
       "      <td>2021-06</td>\n",
       "      <td>0</td>\n",
       "      <td>586829.04</td>\n",
       "    </tr>\n",
       "    <tr>\n",
       "      <th>10</th>\n",
       "      <td>2021-06</td>\n",
       "      <td>1</td>\n",
       "      <td>411105.87</td>\n",
       "    </tr>\n",
       "    <tr>\n",
       "      <th>11</th>\n",
       "      <td>2021-06</td>\n",
       "      <td>2</td>\n",
       "      <td>189720.78</td>\n",
       "    </tr>\n",
       "    <tr>\n",
       "      <th>12</th>\n",
       "      <td>2021-07</td>\n",
       "      <td>0</td>\n",
       "      <td>490529.70</td>\n",
       "    </tr>\n",
       "    <tr>\n",
       "      <th>13</th>\n",
       "      <td>2021-07</td>\n",
       "      <td>1</td>\n",
       "      <td>407321.73</td>\n",
       "    </tr>\n",
       "    <tr>\n",
       "      <th>14</th>\n",
       "      <td>2021-07</td>\n",
       "      <td>2</td>\n",
       "      <td>227550.17</td>\n",
       "    </tr>\n",
       "    <tr>\n",
       "      <th>15</th>\n",
       "      <td>2021-08</td>\n",
       "      <td>0</td>\n",
       "      <td>559653.56</td>\n",
       "    </tr>\n",
       "    <tr>\n",
       "      <th>16</th>\n",
       "      <td>2021-08</td>\n",
       "      <td>1</td>\n",
       "      <td>342070.40</td>\n",
       "    </tr>\n",
       "    <tr>\n",
       "      <th>17</th>\n",
       "      <td>2021-08</td>\n",
       "      <td>2</td>\n",
       "      <td>230792.32</td>\n",
       "    </tr>\n",
       "    <tr>\n",
       "      <th>18</th>\n",
       "      <td>2021-09</td>\n",
       "      <td>0</td>\n",
       "      <td>966860.87</td>\n",
       "    </tr>\n",
       "    <tr>\n",
       "      <th>19</th>\n",
       "      <td>2021-09</td>\n",
       "      <td>1</td>\n",
       "      <td>430051.22</td>\n",
       "    </tr>\n",
       "    <tr>\n",
       "      <th>20</th>\n",
       "      <td>2021-09</td>\n",
       "      <td>2</td>\n",
       "      <td>87854.94</td>\n",
       "    </tr>\n",
       "    <tr>\n",
       "      <th>21</th>\n",
       "      <td>2021-10</td>\n",
       "      <td>0</td>\n",
       "      <td>557796.76</td>\n",
       "    </tr>\n",
       "    <tr>\n",
       "      <th>22</th>\n",
       "      <td>2021-10</td>\n",
       "      <td>1</td>\n",
       "      <td>75668.18</td>\n",
       "    </tr>\n",
       "    <tr>\n",
       "      <th>23</th>\n",
       "      <td>2021-10</td>\n",
       "      <td>2</td>\n",
       "      <td>112349.04</td>\n",
       "    </tr>\n",
       "    <tr>\n",
       "      <th>24</th>\n",
       "      <td>2021-11</td>\n",
       "      <td>0</td>\n",
       "      <td>571492.22</td>\n",
       "    </tr>\n",
       "    <tr>\n",
       "      <th>25</th>\n",
       "      <td>2021-11</td>\n",
       "      <td>1</td>\n",
       "      <td>571299.96</td>\n",
       "    </tr>\n",
       "    <tr>\n",
       "      <th>26</th>\n",
       "      <td>2021-11</td>\n",
       "      <td>2</td>\n",
       "      <td>152259.76</td>\n",
       "    </tr>\n",
       "    <tr>\n",
       "      <th>27</th>\n",
       "      <td>2021-12</td>\n",
       "      <td>0</td>\n",
       "      <td>793845.40</td>\n",
       "    </tr>\n",
       "    <tr>\n",
       "      <th>28</th>\n",
       "      <td>2021-12</td>\n",
       "      <td>1</td>\n",
       "      <td>566836.44</td>\n",
       "    </tr>\n",
       "    <tr>\n",
       "      <th>29</th>\n",
       "      <td>2021-12</td>\n",
       "      <td>2</td>\n",
       "      <td>90037.45</td>\n",
       "    </tr>\n",
       "    <tr>\n",
       "      <th>30</th>\n",
       "      <td>2022-01</td>\n",
       "      <td>0</td>\n",
       "      <td>597016.35</td>\n",
       "    </tr>\n",
       "    <tr>\n",
       "      <th>31</th>\n",
       "      <td>2022-01</td>\n",
       "      <td>1</td>\n",
       "      <td>588066.01</td>\n",
       "    </tr>\n",
       "    <tr>\n",
       "      <th>32</th>\n",
       "      <td>2022-01</td>\n",
       "      <td>2</td>\n",
       "      <td>147730.25</td>\n",
       "    </tr>\n",
       "    <tr>\n",
       "      <th>33</th>\n",
       "      <td>2022-02</td>\n",
       "      <td>0</td>\n",
       "      <td>701931.27</td>\n",
       "    </tr>\n",
       "    <tr>\n",
       "      <th>34</th>\n",
       "      <td>2022-02</td>\n",
       "      <td>1</td>\n",
       "      <td>499634.79</td>\n",
       "    </tr>\n",
       "    <tr>\n",
       "      <th>35</th>\n",
       "      <td>2022-02</td>\n",
       "      <td>2</td>\n",
       "      <td>211708.76</td>\n",
       "    </tr>\n",
       "  </tbody>\n",
       "</table>\n",
       "</div>"
      ],
      "text/plain": [
       "   session_month  product_categ  total_purchase_per_session\n",
       "0        2021-03              0                   701550.49\n",
       "1        2021-03              1                   405150.59\n",
       "2        2021-03              2                   139316.83\n",
       "3        2021-04              0                   730682.77\n",
       "4        2021-04              1                   335370.06\n",
       "5        2021-04              2                   159678.11\n",
       "6        2021-05              0                   686205.94\n",
       "7        2021-05              1                   354900.96\n",
       "8        2021-05              2                   185340.36\n",
       "9        2021-06              0                   586829.04\n",
       "10       2021-06              1                   411105.87\n",
       "11       2021-06              2                   189720.78\n",
       "12       2021-07              0                   490529.70\n",
       "13       2021-07              1                   407321.73\n",
       "14       2021-07              2                   227550.17\n",
       "15       2021-08              0                   559653.56\n",
       "16       2021-08              1                   342070.40\n",
       "17       2021-08              2                   230792.32\n",
       "18       2021-09              0                   966860.87\n",
       "19       2021-09              1                   430051.22\n",
       "20       2021-09              2                    87854.94\n",
       "21       2021-10              0                   557796.76\n",
       "22       2021-10              1                    75668.18\n",
       "23       2021-10              2                   112349.04\n",
       "24       2021-11              0                   571492.22\n",
       "25       2021-11              1                   571299.96\n",
       "26       2021-11              2                   152259.76\n",
       "27       2021-12              0                   793845.40\n",
       "28       2021-12              1                   566836.44\n",
       "29       2021-12              2                    90037.45\n",
       "30       2022-01              0                   597016.35\n",
       "31       2022-01              1                   588066.01\n",
       "32       2022-01              2                   147730.25\n",
       "33       2022-02              0                   701931.27\n",
       "34       2022-02              1                   499634.79\n",
       "35       2022-02              2                   211708.76"
      ]
     },
     "execution_count": 58,
     "metadata": {},
     "output_type": "execute_result"
    }
   ],
   "source": [
    "# Investigate yearly revenue per product category.\n",
    "revenue_per_product_categ = (\n",
    "    data.groupby([\"session_month\", \"product_categ\"])[\"total_purchase_per_session\"]\n",
    "    .sum()\n",
    "    .to_frame()\n",
    ")\n",
    "revenue_per_product_categ.reset_index(inplace=True)\n",
    "revenue_per_product_categ"
   ]
  },
  {
   "cell_type": "code",
   "execution_count": 59,
   "id": "9ab831b9",
   "metadata": {
    "scrolled": false
   },
   "outputs": [
    {
     "data": {
      "image/png": "[encoded data removed]",
      "text/plain": [
       "<Figure size 864x432 with 1 Axes>"
      ]
     },
     "metadata": {},
     "output_type": "display_data"
    }
   ],
   "source": [
    "# Visualization\n",
    "colors_2 = [\"#02d3fd\", \"#fd2c02\", \"#98b3af\"]\n",
    "sns.set_palette(sns.color_palette(colors_2))\n",
    "\n",
    "sns.catplot(\n",
    "    x=\"session_month\",\n",
    "    y=\"total_purchase_per_session\",\n",
    "    hue=\"product_categ\",\n",
    "    data=revenue_per_product_categ,\n",
    "    kind=\"bar\",\n",
    ").set(title=\"Monthly reveue per product category\", xlabel=\"Month\", ylabel=\"Revenue\")\n",
    "plt.gcf().set_size_inches(12, 6)\n",
    "plt.show()"
   ]
  },
  {
   "cell_type": "markdown",
   "id": "bef8c641",
   "metadata": {},
   "source": [
    "<font color='blue'>Sudden increase in revenue from product category 0 in September, possible explination for revenue peak in that month. Low revenue from product category 1 in October, possible explanation for revenue drop in that month.</font>"
   ]
  },
  {
   "cell_type": "markdown",
   "id": "66f1883a",
   "metadata": {},
   "source": [
    "<font color='blue'>Bivariate analyses of weekday and number of purchases.\n",
    "</font>"
   ]
  },
  {
   "cell_type": "code",
   "execution_count": 60,
   "id": "3d780168",
   "metadata": {
    "scrolled": true
   },
   "outputs": [
    {
     "data": {
      "text/html": [
       "<div>\n",
       "<style scoped>\n",
       "    .dataframe tbody tr th:only-of-type {\n",
       "        vertical-align: middle;\n",
       "    }\n",
       "\n",
       "    .dataframe tbody tr th {\n",
       "        vertical-align: top;\n",
       "    }\n",
       "\n",
       "    .dataframe thead th {\n",
       "        text-align: right;\n",
       "    }\n",
       "</style>\n",
       "<table border=\"1\" class=\"dataframe\">\n",
       "  <thead>\n",
       "    <tr style=\"text-align: right;\">\n",
       "      <th></th>\n",
       "      <th>id_prod</th>\n",
       "      <th>purchase_date</th>\n",
       "      <th>session_id</th>\n",
       "      <th>client_id</th>\n",
       "      <th>session_duration_minute</th>\n",
       "      <th>session_date</th>\n",
       "      <th>session_weekday</th>\n",
       "      <th>session_month</th>\n",
       "      <th>session_day_of_month</th>\n",
       "      <th>product_price</th>\n",
       "      <th>product_categ</th>\n",
       "      <th>client_sex</th>\n",
       "      <th>client_birth</th>\n",
       "      <th>client_age</th>\n",
       "      <th>total_purchase_per_session</th>\n",
       "    </tr>\n",
       "  </thead>\n",
       "  <tbody>\n",
       "    <tr>\n",
       "      <th>0</th>\n",
       "      <td>0_1483</td>\n",
       "      <td>2021-04-10 18:37:28.723910</td>\n",
       "      <td>s_18746</td>\n",
       "      <td>c_4450</td>\n",
       "      <td>12.323415</td>\n",
       "      <td>2021-04-10</td>\n",
       "      <td>Saturday</td>\n",
       "      <td>2021-04</td>\n",
       "      <td>10</td>\n",
       "      <td>4.99</td>\n",
       "      <td>0</td>\n",
       "      <td>f</td>\n",
       "      <td>1977</td>\n",
       "      <td>45</td>\n",
       "      <td>24.97</td>\n",
       "    </tr>\n",
       "    <tr>\n",
       "      <th>1</th>\n",
       "      <td>1_685</td>\n",
       "      <td>2021-04-10 18:25:09.319011</td>\n",
       "      <td>s_18746</td>\n",
       "      <td>c_4450</td>\n",
       "      <td>12.323415</td>\n",
       "      <td>2021-04-10</td>\n",
       "      <td>Saturday</td>\n",
       "      <td>2021-04</td>\n",
       "      <td>10</td>\n",
       "      <td>15.99</td>\n",
       "      <td>1</td>\n",
       "      <td>f</td>\n",
       "      <td>1977</td>\n",
       "      <td>45</td>\n",
       "      <td>24.97</td>\n",
       "    </tr>\n",
       "    <tr>\n",
       "      <th>2</th>\n",
       "      <td>0_1395</td>\n",
       "      <td>2021-04-10 18:32:27.342375</td>\n",
       "      <td>s_18746</td>\n",
       "      <td>c_4450</td>\n",
       "      <td>12.323415</td>\n",
       "      <td>2021-04-10</td>\n",
       "      <td>Saturday</td>\n",
       "      <td>2021-04</td>\n",
       "      <td>10</td>\n",
       "      <td>3.99</td>\n",
       "      <td>0</td>\n",
       "      <td>f</td>\n",
       "      <td>1977</td>\n",
       "      <td>45</td>\n",
       "      <td>24.97</td>\n",
       "    </tr>\n",
       "    <tr>\n",
       "      <th>3</th>\n",
       "      <td>1_685</td>\n",
       "      <td>2022-01-08 17:01:39.106131</td>\n",
       "      <td>s_146917</td>\n",
       "      <td>c_4450</td>\n",
       "      <td>35.715387</td>\n",
       "      <td>2022-01-08</td>\n",
       "      <td>Saturday</td>\n",
       "      <td>2022-01</td>\n",
       "      <td>8</td>\n",
       "      <td>15.99</td>\n",
       "      <td>1</td>\n",
       "      <td>f</td>\n",
       "      <td>1977</td>\n",
       "      <td>45</td>\n",
       "      <td>57.66</td>\n",
       "    </tr>\n",
       "    <tr>\n",
       "      <th>4</th>\n",
       "      <td>0_1152</td>\n",
       "      <td>2022-01-08 17:33:13.386306</td>\n",
       "      <td>s_146917</td>\n",
       "      <td>c_4450</td>\n",
       "      <td>35.715387</td>\n",
       "      <td>2022-01-08</td>\n",
       "      <td>Saturday</td>\n",
       "      <td>2022-01</td>\n",
       "      <td>8</td>\n",
       "      <td>10.70</td>\n",
       "      <td>0</td>\n",
       "      <td>f</td>\n",
       "      <td>1977</td>\n",
       "      <td>45</td>\n",
       "      <td>57.66</td>\n",
       "    </tr>\n",
       "  </tbody>\n",
       "</table>\n",
       "</div>"
      ],
      "text/plain": [
       "  id_prod              purchase_date session_id client_id  \\\n",
       "0  0_1483 2021-04-10 18:37:28.723910    s_18746    c_4450   \n",
       "1   1_685 2021-04-10 18:25:09.319011    s_18746    c_4450   \n",
       "2  0_1395 2021-04-10 18:32:27.342375    s_18746    c_4450   \n",
       "3   1_685 2022-01-08 17:01:39.106131   s_146917    c_4450   \n",
       "4  0_1152 2022-01-08 17:33:13.386306   s_146917    c_4450   \n",
       "\n",
       "   session_duration_minute session_date session_weekday session_month  \\\n",
       "0                12.323415   2021-04-10        Saturday       2021-04   \n",
       "1                12.323415   2021-04-10        Saturday       2021-04   \n",
       "2                12.323415   2021-04-10        Saturday       2021-04   \n",
       "3                35.715387   2022-01-08        Saturday       2022-01   \n",
       "4                35.715387   2022-01-08        Saturday       2022-01   \n",
       "\n",
       "   session_day_of_month  product_price  product_categ client_sex  \\\n",
       "0                    10           4.99              0          f   \n",
       "1                    10          15.99              1          f   \n",
       "2                    10           3.99              0          f   \n",
       "3                     8          15.99              1          f   \n",
       "4                     8          10.70              0          f   \n",
       "\n",
       "   client_birth  client_age  total_purchase_per_session  \n",
       "0          1977          45                       24.97  \n",
       "1          1977          45                       24.97  \n",
       "2          1977          45                       24.97  \n",
       "3          1977          45                       57.66  \n",
       "4          1977          45                       57.66  "
      ]
     },
     "execution_count": 60,
     "metadata": {},
     "output_type": "execute_result"
    }
   ],
   "source": [
    "data.head()"
   ]
  },
  {
   "cell_type": "code",
   "execution_count": 61,
   "id": "bee86f15",
   "metadata": {
    "scrolled": false
   },
   "outputs": [
    {
     "data": {
      "text/html": [
       "<div>\n",
       "<style scoped>\n",
       "    .dataframe tbody tr th:only-of-type {\n",
       "        vertical-align: middle;\n",
       "    }\n",
       "\n",
       "    .dataframe tbody tr th {\n",
       "        vertical-align: top;\n",
       "    }\n",
       "\n",
       "    .dataframe thead th {\n",
       "        text-align: right;\n",
       "    }\n",
       "</style>\n",
       "<table border=\"1\" class=\"dataframe\">\n",
       "  <thead>\n",
       "    <tr style=\"text-align: right;\">\n",
       "      <th></th>\n",
       "      <th>session_weekday</th>\n",
       "      <th>session_id</th>\n",
       "    </tr>\n",
       "  </thead>\n",
       "  <tbody>\n",
       "    <tr>\n",
       "      <th>0</th>\n",
       "      <td>Friday</td>\n",
       "      <td>24608</td>\n",
       "    </tr>\n",
       "    <tr>\n",
       "      <th>1</th>\n",
       "      <td>Monday</td>\n",
       "      <td>24735</td>\n",
       "    </tr>\n",
       "    <tr>\n",
       "      <th>2</th>\n",
       "      <td>Saturday</td>\n",
       "      <td>24214</td>\n",
       "    </tr>\n",
       "    <tr>\n",
       "      <th>3</th>\n",
       "      <td>Sunday</td>\n",
       "      <td>24289</td>\n",
       "    </tr>\n",
       "    <tr>\n",
       "      <th>4</th>\n",
       "      <td>Thursday</td>\n",
       "      <td>24403</td>\n",
       "    </tr>\n",
       "    <tr>\n",
       "      <th>5</th>\n",
       "      <td>Tuesday</td>\n",
       "      <td>24326</td>\n",
       "    </tr>\n",
       "    <tr>\n",
       "      <th>6</th>\n",
       "      <td>Wednesday</td>\n",
       "      <td>24206</td>\n",
       "    </tr>\n",
       "  </tbody>\n",
       "</table>\n",
       "</div>"
      ],
      "text/plain": [
       "  session_weekday  session_id\n",
       "0          Friday       24608\n",
       "1          Monday       24735\n",
       "2        Saturday       24214\n",
       "3          Sunday       24289\n",
       "4        Thursday       24403\n",
       "5         Tuesday       24326\n",
       "6       Wednesday       24206"
      ]
     },
     "execution_count": 61,
     "metadata": {},
     "output_type": "execute_result"
    }
   ],
   "source": [
    "weekday_qty_session = data.groupby(\"session_weekday\")[\"session_id\"].nunique().to_frame()\n",
    "weekday_qty_session.reset_index(inplace=True)\n",
    "weekday_qty_session"
   ]
  },
  {
   "cell_type": "code",
   "execution_count": 62,
   "id": "1a422d84",
   "metadata": {
    "scrolled": true
   },
   "outputs": [
    {
     "data": {
      "image/png": "[encoded data removed]",
      "text/plain": [
       "<Figure size 504x360 with 1 Axes>"
      ]
     },
     "metadata": {},
     "output_type": "display_data"
    }
   ],
   "source": [
    "plt.figure(figsize=(7, 5))\n",
    "sns.barplot(\n",
    "    x=weekday_qty_session[\"session_weekday\"],\n",
    "    y=weekday_qty_session[\"session_id\"],\n",
    "    data=weekday_qty_session,\n",
    "    ci=None,\n",
    "    palette=\"Blues\",\n",
    ")\n",
    "plt.xlabel(\"Weekday\")\n",
    "plt.ylabel(\"Number of transactions\")\n",
    "plt.box(False)\n",
    "plt.show()"
   ]
  },
  {
   "cell_type": "markdown",
   "id": "fc08e9cd",
   "metadata": {},
   "source": [
    "<font color='blue'>No noticable difference between weekday and revenue.</font>"
   ]
  },
  {
   "cell_type": "markdown",
   "id": "d54a7947",
   "metadata": {},
   "source": [
    "[Back to task overview](#task_2)<br>\n",
    "[Back to top](#top)"
   ]
  },
  {
   "cell_type": "markdown",
   "id": "a6daa027",
   "metadata": {},
   "source": [
    "<a id='task_3'></a>"
   ]
  },
  {
   "cell_type": "markdown",
   "id": "c77a6d91",
   "metadata": {},
   "source": [
    "# Correlation analysis\n",
    "<hr style=\"border:1.5px solid blalck\"> </hr>"
   ]
  },
  {
   "cell_type": "code",
   "execution_count": 63,
   "id": "d3f0a7b9",
   "metadata": {
    "scrolled": false
   },
   "outputs": [
    {
     "data": {
      "text/html": [
       "<div>\n",
       "<style scoped>\n",
       "    .dataframe tbody tr th:only-of-type {\n",
       "        vertical-align: middle;\n",
       "    }\n",
       "\n",
       "    .dataframe tbody tr th {\n",
       "        vertical-align: top;\n",
       "    }\n",
       "\n",
       "    .dataframe thead th {\n",
       "        text-align: right;\n",
       "    }\n",
       "</style>\n",
       "<table border=\"1\" class=\"dataframe\">\n",
       "  <thead>\n",
       "    <tr style=\"text-align: right;\">\n",
       "      <th></th>\n",
       "      <th>id_prod</th>\n",
       "      <th>purchase_date</th>\n",
       "      <th>session_id</th>\n",
       "      <th>client_id</th>\n",
       "      <th>session_duration_minute</th>\n",
       "      <th>session_date</th>\n",
       "      <th>session_weekday</th>\n",
       "      <th>session_month</th>\n",
       "      <th>session_day_of_month</th>\n",
       "      <th>product_price</th>\n",
       "      <th>product_categ</th>\n",
       "      <th>client_sex</th>\n",
       "      <th>client_birth</th>\n",
       "      <th>client_age</th>\n",
       "      <th>total_purchase_per_session</th>\n",
       "    </tr>\n",
       "  </thead>\n",
       "  <tbody>\n",
       "    <tr>\n",
       "      <th>0</th>\n",
       "      <td>0_1483</td>\n",
       "      <td>2021-04-10 18:37:28.723910</td>\n",
       "      <td>s_18746</td>\n",
       "      <td>c_4450</td>\n",
       "      <td>12.323415</td>\n",
       "      <td>2021-04-10</td>\n",
       "      <td>Saturday</td>\n",
       "      <td>2021-04</td>\n",
       "      <td>10</td>\n",
       "      <td>4.99</td>\n",
       "      <td>0</td>\n",
       "      <td>f</td>\n",
       "      <td>1977</td>\n",
       "      <td>45</td>\n",
       "      <td>24.97</td>\n",
       "    </tr>\n",
       "    <tr>\n",
       "      <th>1</th>\n",
       "      <td>1_685</td>\n",
       "      <td>2021-04-10 18:25:09.319011</td>\n",
       "      <td>s_18746</td>\n",
       "      <td>c_4450</td>\n",
       "      <td>12.323415</td>\n",
       "      <td>2021-04-10</td>\n",
       "      <td>Saturday</td>\n",
       "      <td>2021-04</td>\n",
       "      <td>10</td>\n",
       "      <td>15.99</td>\n",
       "      <td>1</td>\n",
       "      <td>f</td>\n",
       "      <td>1977</td>\n",
       "      <td>45</td>\n",
       "      <td>24.97</td>\n",
       "    </tr>\n",
       "    <tr>\n",
       "      <th>2</th>\n",
       "      <td>0_1395</td>\n",
       "      <td>2021-04-10 18:32:27.342375</td>\n",
       "      <td>s_18746</td>\n",
       "      <td>c_4450</td>\n",
       "      <td>12.323415</td>\n",
       "      <td>2021-04-10</td>\n",
       "      <td>Saturday</td>\n",
       "      <td>2021-04</td>\n",
       "      <td>10</td>\n",
       "      <td>3.99</td>\n",
       "      <td>0</td>\n",
       "      <td>f</td>\n",
       "      <td>1977</td>\n",
       "      <td>45</td>\n",
       "      <td>24.97</td>\n",
       "    </tr>\n",
       "    <tr>\n",
       "      <th>3</th>\n",
       "      <td>1_685</td>\n",
       "      <td>2022-01-08 17:01:39.106131</td>\n",
       "      <td>s_146917</td>\n",
       "      <td>c_4450</td>\n",
       "      <td>35.715387</td>\n",
       "      <td>2022-01-08</td>\n",
       "      <td>Saturday</td>\n",
       "      <td>2022-01</td>\n",
       "      <td>8</td>\n",
       "      <td>15.99</td>\n",
       "      <td>1</td>\n",
       "      <td>f</td>\n",
       "      <td>1977</td>\n",
       "      <td>45</td>\n",
       "      <td>57.66</td>\n",
       "    </tr>\n",
       "    <tr>\n",
       "      <th>4</th>\n",
       "      <td>0_1152</td>\n",
       "      <td>2022-01-08 17:33:13.386306</td>\n",
       "      <td>s_146917</td>\n",
       "      <td>c_4450</td>\n",
       "      <td>35.715387</td>\n",
       "      <td>2022-01-08</td>\n",
       "      <td>Saturday</td>\n",
       "      <td>2022-01</td>\n",
       "      <td>8</td>\n",
       "      <td>10.70</td>\n",
       "      <td>0</td>\n",
       "      <td>f</td>\n",
       "      <td>1977</td>\n",
       "      <td>45</td>\n",
       "      <td>57.66</td>\n",
       "    </tr>\n",
       "  </tbody>\n",
       "</table>\n",
       "</div>"
      ],
      "text/plain": [
       "  id_prod              purchase_date session_id client_id  \\\n",
       "0  0_1483 2021-04-10 18:37:28.723910    s_18746    c_4450   \n",
       "1   1_685 2021-04-10 18:25:09.319011    s_18746    c_4450   \n",
       "2  0_1395 2021-04-10 18:32:27.342375    s_18746    c_4450   \n",
       "3   1_685 2022-01-08 17:01:39.106131   s_146917    c_4450   \n",
       "4  0_1152 2022-01-08 17:33:13.386306   s_146917    c_4450   \n",
       "\n",
       "   session_duration_minute session_date session_weekday session_month  \\\n",
       "0                12.323415   2021-04-10        Saturday       2021-04   \n",
       "1                12.323415   2021-04-10        Saturday       2021-04   \n",
       "2                12.323415   2021-04-10        Saturday       2021-04   \n",
       "3                35.715387   2022-01-08        Saturday       2022-01   \n",
       "4                35.715387   2022-01-08        Saturday       2022-01   \n",
       "\n",
       "   session_day_of_month  product_price  product_categ client_sex  \\\n",
       "0                    10           4.99              0          f   \n",
       "1                    10          15.99              1          f   \n",
       "2                    10           3.99              0          f   \n",
       "3                     8          15.99              1          f   \n",
       "4                     8          10.70              0          f   \n",
       "\n",
       "   client_birth  client_age  total_purchase_per_session  \n",
       "0          1977          45                       24.97  \n",
       "1          1977          45                       24.97  \n",
       "2          1977          45                       24.97  \n",
       "3          1977          45                       57.66  \n",
       "4          1977          45                       57.66  "
      ]
     },
     "execution_count": 63,
     "metadata": {},
     "output_type": "execute_result"
    }
   ],
   "source": [
    "data.head()"
   ]
  },
  {
   "cell_type": "markdown",
   "id": "947f42e2",
   "metadata": {},
   "source": [
    "<font color='blue'>Before performing analysis, outliers need to be taken out as they will affect greatly the result.</font>"
   ]
  },
  {
   "cell_type": "code",
   "execution_count": 64,
   "id": "4db54075",
   "metadata": {},
   "outputs": [],
   "source": [
    "data = data[~data[\"client_id\"].isin(top_4_client)]"
   ]
  },
  {
   "cell_type": "markdown",
   "id": "42397fe4",
   "metadata": {},
   "source": [
    "<hr style=\"border:1.5px solid blalck\"> </hr>\n",
    "Correlation between gender and categories of products purchased<br>\n",
    "<font color='blue'>\n",
    "A contingency table.<br>\n",
    "Chi square test of independence.\n",
    "</font>\n",
    "<a id='task_3_1'></a>"
   ]
  },
  {
   "cell_type": "code",
   "execution_count": 65,
   "id": "77847202",
   "metadata": {
    "scrolled": false
   },
   "outputs": [
    {
     "data": {
      "text/html": [
       "<div>\n",
       "<style scoped>\n",
       "    .dataframe tbody tr th:only-of-type {\n",
       "        vertical-align: middle;\n",
       "    }\n",
       "\n",
       "    .dataframe tbody tr th {\n",
       "        vertical-align: top;\n",
       "    }\n",
       "\n",
       "    .dataframe thead th {\n",
       "        text-align: right;\n",
       "    }\n",
       "</style>\n",
       "<table border=\"1\" class=\"dataframe\">\n",
       "  <thead>\n",
       "    <tr style=\"text-align: right;\">\n",
       "      <th>product_categ</th>\n",
       "      <th>0</th>\n",
       "      <th>1</th>\n",
       "      <th>2</th>\n",
       "      <th>Total</th>\n",
       "    </tr>\n",
       "    <tr>\n",
       "      <th>client_sex</th>\n",
       "      <th></th>\n",
       "      <th></th>\n",
       "      <th></th>\n",
       "      <th></th>\n",
       "    </tr>\n",
       "  </thead>\n",
       "  <tbody>\n",
       "    <tr>\n",
       "      <th>f</th>\n",
       "      <td>101206</td>\n",
       "      <td>53774</td>\n",
       "      <td>8122</td>\n",
       "      <td>163102</td>\n",
       "    </tr>\n",
       "    <tr>\n",
       "      <th>m</th>\n",
       "      <td>94064</td>\n",
       "      <td>48851</td>\n",
       "      <td>7634</td>\n",
       "      <td>150549</td>\n",
       "    </tr>\n",
       "    <tr>\n",
       "      <th>Total</th>\n",
       "      <td>195270</td>\n",
       "      <td>102625</td>\n",
       "      <td>15756</td>\n",
       "      <td>313651</td>\n",
       "    </tr>\n",
       "  </tbody>\n",
       "</table>\n",
       "</div>"
      ],
      "text/plain": [
       "product_categ       0       1      2   Total\n",
       "client_sex                                  \n",
       "f              101206   53774   8122  163102\n",
       "m               94064   48851   7634  150549\n",
       "Total          195270  102625  15756  313651"
      ]
     },
     "execution_count": 65,
     "metadata": {},
     "output_type": "execute_result"
    }
   ],
   "source": [
    "# Generating a contingency table\n",
    "gender = \"client_sex\"\n",
    "categ = \"product_categ\"\n",
    "\n",
    "contingency_gender_categ = data[[gender, categ]].pivot_table(\n",
    "    index=gender, columns=categ, aggfunc=len, margins=True, margins_name=\"Total\"\n",
    ")\n",
    "contingency_gender_categ"
   ]
  },
  {
   "cell_type": "markdown",
   "id": "cc06740c",
   "metadata": {},
   "source": [
    "<font color='blue'>Calculating degrees of freedom.</font>"
   ]
  },
  {
   "cell_type": "code",
   "execution_count": 66,
   "id": "a806ef9f",
   "metadata": {},
   "outputs": [
    {
     "data": {
      "text/plain": [
       "2"
      ]
     },
     "execution_count": 66,
     "metadata": {},
     "output_type": "execute_result"
    }
   ],
   "source": [
    "degree_freedom = (len(contingency_gender_categ.index) - 2) * (\n",
    "    len(contingency_gender_categ.columns) - 2\n",
    ")\n",
    "degree_freedom"
   ]
  },
  {
   "cell_type": "markdown",
   "id": "96dbc6cf",
   "metadata": {},
   "source": [
    " <font color='blue'>Calculating chi_square statistics.</font>"
   ]
  },
  {
   "cell_type": "code",
   "execution_count": 67,
   "id": "887e0305",
   "metadata": {
    "scrolled": false
   },
   "outputs": [],
   "source": [
    "expected_ratio = (\n",
    "    contingency_gender_categ[\"Total\"] / contingency_gender_categ[\"Total\"].max()\n",
    ")"
   ]
  },
  {
   "cell_type": "code",
   "execution_count": 68,
   "id": "a61c1379",
   "metadata": {},
   "outputs": [],
   "source": [
    "contingency_gender_categ[\"expected_categ_0\"] = (\n",
    "    contingency_gender_categ.loc[\"Total\", 0] * expected_ratio\n",
    ")\n",
    "contingency_gender_categ[\"expected_categ_1\"] = (\n",
    "    contingency_gender_categ.loc[\"Total\", 1] * expected_ratio\n",
    ")\n",
    "contingency_gender_categ[\"expected_categ_2\"] = (\n",
    "    contingency_gender_categ.loc[\"Total\", 2] * expected_ratio\n",
    ")"
   ]
  },
  {
   "cell_type": "code",
   "execution_count": 69,
   "id": "1ff77c1d",
   "metadata": {
    "scrolled": true
   },
   "outputs": [
    {
     "data": {
      "text/html": [
       "<div>\n",
       "<style scoped>\n",
       "    .dataframe tbody tr th:only-of-type {\n",
       "        vertical-align: middle;\n",
       "    }\n",
       "\n",
       "    .dataframe tbody tr th {\n",
       "        vertical-align: top;\n",
       "    }\n",
       "\n",
       "    .dataframe thead th {\n",
       "        text-align: right;\n",
       "    }\n",
       "</style>\n",
       "<table border=\"1\" class=\"dataframe\">\n",
       "  <thead>\n",
       "    <tr style=\"text-align: right;\">\n",
       "      <th>product_categ</th>\n",
       "      <th>0</th>\n",
       "      <th>1</th>\n",
       "      <th>2</th>\n",
       "      <th>Total</th>\n",
       "      <th>expected_categ_0</th>\n",
       "      <th>expected_categ_1</th>\n",
       "      <th>expected_categ_2</th>\n",
       "    </tr>\n",
       "    <tr>\n",
       "      <th>client_sex</th>\n",
       "      <th></th>\n",
       "      <th></th>\n",
       "      <th></th>\n",
       "      <th></th>\n",
       "      <th></th>\n",
       "      <th></th>\n",
       "      <th></th>\n",
       "    </tr>\n",
       "  </thead>\n",
       "  <tbody>\n",
       "    <tr>\n",
       "      <th>f</th>\n",
       "      <td>101206</td>\n",
       "      <td>53774</td>\n",
       "      <td>8122</td>\n",
       "      <td>163102</td>\n",
       "      <td>101542.566547</td>\n",
       "      <td>53366.138638</td>\n",
       "      <td>8193.294815</td>\n",
       "    </tr>\n",
       "    <tr>\n",
       "      <th>m</th>\n",
       "      <td>94064</td>\n",
       "      <td>48851</td>\n",
       "      <td>7634</td>\n",
       "      <td>150549</td>\n",
       "      <td>93727.433453</td>\n",
       "      <td>49258.861362</td>\n",
       "      <td>7562.705185</td>\n",
       "    </tr>\n",
       "    <tr>\n",
       "      <th>Total</th>\n",
       "      <td>195270</td>\n",
       "      <td>102625</td>\n",
       "      <td>15756</td>\n",
       "      <td>313651</td>\n",
       "      <td>195270.000000</td>\n",
       "      <td>102625.000000</td>\n",
       "      <td>15756.000000</td>\n",
       "    </tr>\n",
       "  </tbody>\n",
       "</table>\n",
       "</div>"
      ],
      "text/plain": [
       "product_categ       0       1      2   Total  expected_categ_0  \\\n",
       "client_sex                                                       \n",
       "f              101206   53774   8122  163102     101542.566547   \n",
       "m               94064   48851   7634  150549      93727.433453   \n",
       "Total          195270  102625  15756  313651     195270.000000   \n",
       "\n",
       "product_categ  expected_categ_1  expected_categ_2  \n",
       "client_sex                                         \n",
       "f                  53366.138638       8193.294815  \n",
       "m                  49258.861362       7562.705185  \n",
       "Total             102625.000000      15756.000000  "
      ]
     },
     "execution_count": 69,
     "metadata": {},
     "output_type": "execute_result"
    }
   ],
   "source": [
    "# Contingency table with expected values\n",
    "contingency_gender_categ"
   ]
  },
  {
   "cell_type": "markdown",
   "id": "48344b8d",
   "metadata": {},
   "source": [
    "<font color='blue'>\n",
    "    $ chi² = \\sum((observed - expected)² / expected) $ \n",
    "</font>"
   ]
  },
  {
   "cell_type": "code",
   "execution_count": 70,
   "id": "8ceb4e36",
   "metadata": {},
   "outputs": [],
   "source": [
    "chi_square_statistics = (\n",
    "    (\n",
    "        (\n",
    "            contingency_gender_categ.loc[:, 0]\n",
    "            - contingency_gender_categ.loc[:, \"expected_categ_0\"]\n",
    "        )\n",
    "        ** 2\n",
    "        / contingency_gender_categ.loc[:, \"expected_categ_0\"]\n",
    "    )\n",
    "    + (\n",
    "        (\n",
    "            contingency_gender_categ.loc[:, 1]\n",
    "            - contingency_gender_categ.loc[:, \"expected_categ_1\"]\n",
    "        )\n",
    "        ** 2\n",
    "        / contingency_gender_categ.loc[:, \"expected_categ_1\"]\n",
    "    )\n",
    "    + (\n",
    "        (\n",
    "            contingency_gender_categ.loc[:, 2]\n",
    "            - contingency_gender_categ.loc[:, \"expected_categ_2\"]\n",
    "        )\n",
    "        ** 2\n",
    "        / contingency_gender_categ.loc[:, \"expected_categ_2\"]\n",
    "    )\n",
    ").sum()"
   ]
  },
  {
   "cell_type": "code",
   "execution_count": 71,
   "id": "b06b2bf9",
   "metadata": {},
   "outputs": [
    {
     "data": {
      "text/plain": [
       "10.110865513726555"
      ]
     },
     "execution_count": 71,
     "metadata": {},
     "output_type": "execute_result"
    }
   ],
   "source": [
    "chi_square_statistics"
   ]
  },
  {
   "cell_type": "markdown",
   "id": "4b7df8db",
   "metadata": {},
   "source": [
    "<font color='blue'>A much quicker way to do this...</font>"
   ]
  },
  {
   "cell_type": "code",
   "execution_count": 72,
   "id": "5da1c7b9",
   "metadata": {
    "scrolled": false
   },
   "outputs": [
    {
     "data": {
      "text/html": [
       "<div>\n",
       "<style scoped>\n",
       "    .dataframe tbody tr th:only-of-type {\n",
       "        vertical-align: middle;\n",
       "    }\n",
       "\n",
       "    .dataframe tbody tr th {\n",
       "        vertical-align: top;\n",
       "    }\n",
       "\n",
       "    .dataframe thead th {\n",
       "        text-align: right;\n",
       "    }\n",
       "</style>\n",
       "<table border=\"1\" class=\"dataframe\">\n",
       "  <thead>\n",
       "    <tr style=\"text-align: right;\">\n",
       "      <th>product_categ</th>\n",
       "      <th>0</th>\n",
       "      <th>1</th>\n",
       "      <th>2</th>\n",
       "    </tr>\n",
       "    <tr>\n",
       "      <th>client_sex</th>\n",
       "      <th></th>\n",
       "      <th></th>\n",
       "      <th></th>\n",
       "    </tr>\n",
       "  </thead>\n",
       "  <tbody>\n",
       "    <tr>\n",
       "      <th>f</th>\n",
       "      <td>101206</td>\n",
       "      <td>53774</td>\n",
       "      <td>8122</td>\n",
       "    </tr>\n",
       "    <tr>\n",
       "      <th>m</th>\n",
       "      <td>94064</td>\n",
       "      <td>48851</td>\n",
       "      <td>7634</td>\n",
       "    </tr>\n",
       "  </tbody>\n",
       "</table>\n",
       "</div>"
      ],
      "text/plain": [
       "product_categ       0      1     2\n",
       "client_sex                        \n",
       "f              101206  53774  8122\n",
       "m               94064  48851  7634"
      ]
     },
     "execution_count": 72,
     "metadata": {},
     "output_type": "execute_result"
    }
   ],
   "source": [
    "gender = data[\"client_sex\"]\n",
    "categ = data[\"product_categ\"]\n",
    "crosstable_1 = pd.crosstab(gender, categ)\n",
    "crosstable_1"
   ]
  },
  {
   "cell_type": "code",
   "execution_count": 73,
   "id": "4f61346f",
   "metadata": {
    "scrolled": false
   },
   "outputs": [
    {
     "data": {
      "text/plain": [
       "(10.11,\n",
       " 0.006374607510181767,\n",
       " 2,\n",
       " array([[101542.56654689,  53366.13863817,   8193.29481494],\n",
       "        [ 93727.43345311,  49258.86136183,   7562.70518506]]))"
      ]
     },
     "execution_count": 73,
     "metadata": {},
     "output_type": "execute_result"
    }
   ],
   "source": [
    "from scipy.stats import chi2_contingency\n",
    "\n",
    "chiVal, pVal, df, exp = chi2_contingency(crosstable_1)\n",
    "chiVal.round(2), pVal, df, exp"
   ]
  },
  {
   "cell_type": "markdown",
   "id": "319e8e38",
   "metadata": {},
   "source": [
    "<font color='blue'>With 2 degrees of freedom and 0.05 as alpha value, critical value cut off is 5.99. Our chi square statistics is greater than 5.99. Null hypothesis is then rejected. Meaning there appears to be a correlation between clients' gender and category of product purchased.</font>"
   ]
  },
  {
   "cell_type": "markdown",
   "id": "db1e3875",
   "metadata": {},
   "source": [
    "<font color='blue'>Out of curiosity, what is the porpotion of revenue between male and female clients.</font>"
   ]
  },
  {
   "cell_type": "code",
   "execution_count": 74,
   "id": "f1a454d5",
   "metadata": {},
   "outputs": [
    {
     "data": {
      "image/png": "[encoded data removed]",
      "text/plain": [
       "<Figure size 432x288 with 1 Axes>"
      ]
     },
     "metadata": {},
     "output_type": "display_data"
    }
   ],
   "source": [
    "revenue_gender = (\n",
    "    data.groupby(\"client_sex\")[\"total_purchase_per_session\"].sum().to_frame()\n",
    ")\n",
    "revenue_gender.reset_index(inplace=True)\n",
    "\n",
    "colors = [\"#fd94d4\", \"#6780bd\"]\n",
    "sns.set_palette(sns.color_palette(colors))\n",
    "\n",
    "sns.barplot(x=\"client_sex\", y=\"total_purchase_per_session\", data=revenue_gender)\n",
    "plt.xlabel(\"Gender\")\n",
    "plt.ylabel(\"Revenue\")\n",
    "plt.box(False)\n",
    "plt.show()"
   ]
  },
  {
   "cell_type": "markdown",
   "id": "dbd2cd0e",
   "metadata": {},
   "source": [
    "[Back to task overview](#task_3)"
   ]
  },
  {
   "cell_type": "markdown",
   "id": "d6e08b85",
   "metadata": {},
   "source": [
    "<hr style=\"border:1.5px solid blalck\"> </hr>\n",
    "Correlation between age and  the total amount of purchases<br>\n",
    "<a id='task_3_2'></a>"
   ]
  },
  {
   "cell_type": "code",
   "execution_count": 75,
   "id": "e040b524",
   "metadata": {},
   "outputs": [
    {
     "data": {
      "text/html": [
       "<div>\n",
       "<style scoped>\n",
       "    .dataframe tbody tr th:only-of-type {\n",
       "        vertical-align: middle;\n",
       "    }\n",
       "\n",
       "    .dataframe tbody tr th {\n",
       "        vertical-align: top;\n",
       "    }\n",
       "\n",
       "    .dataframe thead th {\n",
       "        text-align: right;\n",
       "    }\n",
       "</style>\n",
       "<table border=\"1\" class=\"dataframe\">\n",
       "  <thead>\n",
       "    <tr style=\"text-align: right;\">\n",
       "      <th></th>\n",
       "      <th>client_id</th>\n",
       "      <th>client_age</th>\n",
       "      <th>purchase_per_client</th>\n",
       "    </tr>\n",
       "  </thead>\n",
       "  <tbody>\n",
       "    <tr>\n",
       "      <th>0</th>\n",
       "      <td>c_1</td>\n",
       "      <td>67</td>\n",
       "      <td>715.42</td>\n",
       "    </tr>\n",
       "    <tr>\n",
       "      <th>1</th>\n",
       "      <td>c_10</td>\n",
       "      <td>66</td>\n",
       "      <td>1360.18</td>\n",
       "    </tr>\n",
       "    <tr>\n",
       "      <th>2</th>\n",
       "      <td>c_100</td>\n",
       "      <td>30</td>\n",
       "      <td>486.11</td>\n",
       "    </tr>\n",
       "    <tr>\n",
       "      <th>3</th>\n",
       "      <td>c_1000</td>\n",
       "      <td>56</td>\n",
       "      <td>1958.82</td>\n",
       "    </tr>\n",
       "    <tr>\n",
       "      <th>4</th>\n",
       "      <td>c_1001</td>\n",
       "      <td>40</td>\n",
       "      <td>4359.66</td>\n",
       "    </tr>\n",
       "    <tr>\n",
       "      <th>...</th>\n",
       "      <td>...</td>\n",
       "      <td>...</td>\n",
       "      <td>...</td>\n",
       "    </tr>\n",
       "    <tr>\n",
       "      <th>8591</th>\n",
       "      <td>c_995</td>\n",
       "      <td>67</td>\n",
       "      <td>198.18</td>\n",
       "    </tr>\n",
       "    <tr>\n",
       "      <th>8592</th>\n",
       "      <td>c_996</td>\n",
       "      <td>52</td>\n",
       "      <td>960.70</td>\n",
       "    </tr>\n",
       "    <tr>\n",
       "      <th>8593</th>\n",
       "      <td>c_997</td>\n",
       "      <td>28</td>\n",
       "      <td>1402.37</td>\n",
       "    </tr>\n",
       "    <tr>\n",
       "      <th>8594</th>\n",
       "      <td>c_998</td>\n",
       "      <td>21</td>\n",
       "      <td>3705.35</td>\n",
       "    </tr>\n",
       "    <tr>\n",
       "      <th>8595</th>\n",
       "      <td>c_999</td>\n",
       "      <td>58</td>\n",
       "      <td>350.98</td>\n",
       "    </tr>\n",
       "  </tbody>\n",
       "</table>\n",
       "<p>8596 rows × 3 columns</p>\n",
       "</div>"
      ],
      "text/plain": [
       "     client_id  client_age  purchase_per_client\n",
       "0          c_1          67               715.42\n",
       "1         c_10          66              1360.18\n",
       "2        c_100          30               486.11\n",
       "3       c_1000          56              1958.82\n",
       "4       c_1001          40              4359.66\n",
       "...        ...         ...                  ...\n",
       "8591     c_995          67               198.18\n",
       "8592     c_996          52               960.70\n",
       "8593     c_997          28              1402.37\n",
       "8594     c_998          21              3705.35\n",
       "8595     c_999          58               350.98\n",
       "\n",
       "[8596 rows x 3 columns]"
      ]
     },
     "execution_count": 75,
     "metadata": {},
     "output_type": "execute_result"
    }
   ],
   "source": [
    "# Create a subset groupped by client, age and their total purchase amount\n",
    "age_purchase = (\n",
    "    data.groupby([\"client_id\", \"client_age\"])[\"total_purchase_per_session\"]\n",
    "    .sum()\n",
    "    .to_frame()\n",
    ")\n",
    "age_purchase.reset_index(inplace=True)\n",
    "age_purchase.rename(\n",
    "    columns={\"total_purchase_per_session\": \"purchase_per_client\"}, inplace=True\n",
    ")\n",
    "age_purchase"
   ]
  },
  {
   "cell_type": "code",
   "execution_count": 76,
   "id": "af0f20b8",
   "metadata": {
    "scrolled": false
   },
   "outputs": [
    {
     "data": {
      "text/plain": [
       "Text(0, 0.5, 'Total purchase per client')"
      ]
     },
     "execution_count": 76,
     "metadata": {},
     "output_type": "execute_result"
    },
    {
     "data": {
      "image/png": "[encoded data removed]",
      "text/plain": [
       "<Figure size 504x360 with 1 Axes>"
      ]
     },
     "metadata": {},
     "output_type": "display_data"
    }
   ],
   "source": [
    "# Looking at how data is spread using a scatter plot\n",
    "plt.figure(figsize=(7, 5))\n",
    "ax = sns.scatterplot(x=\"client_age\", y=\"purchase_per_client\", data=age_purchase)\n",
    "ax.set_xlabel(\"Client age\")\n",
    "ax.set_ylabel(\"Total purchase per client\")"
   ]
  },
  {
   "cell_type": "markdown",
   "id": "6788bba5",
   "metadata": {},
   "source": [
    "<font color='blue'>This graph suggest a non-linear association. Applying the Spearman correlation.</font>"
   ]
  },
  {
   "cell_type": "code",
   "execution_count": 77,
   "id": "520f3ba3",
   "metadata": {},
   "outputs": [
    {
     "data": {
      "text/html": [
       "<div>\n",
       "<style scoped>\n",
       "    .dataframe tbody tr th:only-of-type {\n",
       "        vertical-align: middle;\n",
       "    }\n",
       "\n",
       "    .dataframe tbody tr th {\n",
       "        vertical-align: top;\n",
       "    }\n",
       "\n",
       "    .dataframe thead th {\n",
       "        text-align: right;\n",
       "    }\n",
       "</style>\n",
       "<table border=\"1\" class=\"dataframe\">\n",
       "  <thead>\n",
       "    <tr style=\"text-align: right;\">\n",
       "      <th></th>\n",
       "      <th>client_age</th>\n",
       "      <th>avg_purchase_total</th>\n",
       "    </tr>\n",
       "  </thead>\n",
       "  <tbody>\n",
       "    <tr>\n",
       "      <th>0</th>\n",
       "      <td>18</td>\n",
       "      <td>1365.051854</td>\n",
       "    </tr>\n",
       "    <tr>\n",
       "      <th>1</th>\n",
       "      <td>19</td>\n",
       "      <td>1214.935172</td>\n",
       "    </tr>\n",
       "    <tr>\n",
       "      <th>2</th>\n",
       "      <td>20</td>\n",
       "      <td>1243.581517</td>\n",
       "    </tr>\n",
       "    <tr>\n",
       "      <th>3</th>\n",
       "      <td>21</td>\n",
       "      <td>1364.131040</td>\n",
       "    </tr>\n",
       "    <tr>\n",
       "      <th>4</th>\n",
       "      <td>22</td>\n",
       "      <td>1272.062426</td>\n",
       "    </tr>\n",
       "    <tr>\n",
       "      <th>...</th>\n",
       "      <td>...</td>\n",
       "      <td>...</td>\n",
       "    </tr>\n",
       "    <tr>\n",
       "      <th>71</th>\n",
       "      <td>89</td>\n",
       "      <td>591.527500</td>\n",
       "    </tr>\n",
       "    <tr>\n",
       "      <th>72</th>\n",
       "      <td>90</td>\n",
       "      <td>993.600000</td>\n",
       "    </tr>\n",
       "    <tr>\n",
       "      <th>73</th>\n",
       "      <td>91</td>\n",
       "      <td>906.655000</td>\n",
       "    </tr>\n",
       "    <tr>\n",
       "      <th>74</th>\n",
       "      <td>92</td>\n",
       "      <td>1330.525000</td>\n",
       "    </tr>\n",
       "    <tr>\n",
       "      <th>75</th>\n",
       "      <td>93</td>\n",
       "      <td>833.136667</td>\n",
       "    </tr>\n",
       "  </tbody>\n",
       "</table>\n",
       "<p>76 rows × 2 columns</p>\n",
       "</div>"
      ],
      "text/plain": [
       "    client_age  avg_purchase_total\n",
       "0           18         1365.051854\n",
       "1           19         1214.935172\n",
       "2           20         1243.581517\n",
       "3           21         1364.131040\n",
       "4           22         1272.062426\n",
       "..         ...                 ...\n",
       "71          89          591.527500\n",
       "72          90          993.600000\n",
       "73          91          906.655000\n",
       "74          92         1330.525000\n",
       "75          93          833.136667\n",
       "\n",
       "[76 rows x 2 columns]"
      ]
     },
     "execution_count": 77,
     "metadata": {},
     "output_type": "execute_result"
    }
   ],
   "source": [
    "# First organizing data by age (discrete interger) and the average purchase amount for each age.\n",
    "age_purchase = (\n",
    "    age_purchase.groupby(\"client_age\")[\"purchase_per_client\"].mean().to_frame()\n",
    ")\n",
    "age_purchase.reset_index(inplace=True)\n",
    "age_purchase.rename(columns={\"purchase_per_client\": \"avg_purchase_total\"}, inplace=True)\n",
    "age_purchase"
   ]
  },
  {
   "cell_type": "code",
   "execution_count": 78,
   "id": "6fb7b450",
   "metadata": {
    "scrolled": true
   },
   "outputs": [
    {
     "data": {
      "text/html": [
       "<div>\n",
       "<style scoped>\n",
       "    .dataframe tbody tr th:only-of-type {\n",
       "        vertical-align: middle;\n",
       "    }\n",
       "\n",
       "    .dataframe tbody tr th {\n",
       "        vertical-align: top;\n",
       "    }\n",
       "\n",
       "    .dataframe thead th {\n",
       "        text-align: right;\n",
       "    }\n",
       "</style>\n",
       "<table border=\"1\" class=\"dataframe\">\n",
       "  <thead>\n",
       "    <tr style=\"text-align: right;\">\n",
       "      <th></th>\n",
       "      <th>client_age</th>\n",
       "      <th>avg_purchase_total</th>\n",
       "      <th>age_ranked</th>\n",
       "      <th>purchase_total_ranked</th>\n",
       "    </tr>\n",
       "  </thead>\n",
       "  <tbody>\n",
       "    <tr>\n",
       "      <th>0</th>\n",
       "      <td>18</td>\n",
       "      <td>1365.051854</td>\n",
       "      <td>1.0</td>\n",
       "      <td>54.0</td>\n",
       "    </tr>\n",
       "    <tr>\n",
       "      <th>1</th>\n",
       "      <td>19</td>\n",
       "      <td>1214.935172</td>\n",
       "      <td>2.0</td>\n",
       "      <td>42.0</td>\n",
       "    </tr>\n",
       "    <tr>\n",
       "      <th>2</th>\n",
       "      <td>20</td>\n",
       "      <td>1243.581517</td>\n",
       "      <td>3.0</td>\n",
       "      <td>45.0</td>\n",
       "    </tr>\n",
       "    <tr>\n",
       "      <th>3</th>\n",
       "      <td>21</td>\n",
       "      <td>1364.131040</td>\n",
       "      <td>4.0</td>\n",
       "      <td>53.0</td>\n",
       "    </tr>\n",
       "    <tr>\n",
       "      <th>4</th>\n",
       "      <td>22</td>\n",
       "      <td>1272.062426</td>\n",
       "      <td>5.0</td>\n",
       "      <td>47.0</td>\n",
       "    </tr>\n",
       "    <tr>\n",
       "      <th>...</th>\n",
       "      <td>...</td>\n",
       "      <td>...</td>\n",
       "      <td>...</td>\n",
       "      <td>...</td>\n",
       "    </tr>\n",
       "    <tr>\n",
       "      <th>71</th>\n",
       "      <td>89</td>\n",
       "      <td>591.527500</td>\n",
       "      <td>72.0</td>\n",
       "      <td>2.0</td>\n",
       "    </tr>\n",
       "    <tr>\n",
       "      <th>72</th>\n",
       "      <td>90</td>\n",
       "      <td>993.600000</td>\n",
       "      <td>73.0</td>\n",
       "      <td>30.0</td>\n",
       "    </tr>\n",
       "    <tr>\n",
       "      <th>73</th>\n",
       "      <td>91</td>\n",
       "      <td>906.655000</td>\n",
       "      <td>74.0</td>\n",
       "      <td>16.0</td>\n",
       "    </tr>\n",
       "    <tr>\n",
       "      <th>74</th>\n",
       "      <td>92</td>\n",
       "      <td>1330.525000</td>\n",
       "      <td>75.0</td>\n",
       "      <td>52.0</td>\n",
       "    </tr>\n",
       "    <tr>\n",
       "      <th>75</th>\n",
       "      <td>93</td>\n",
       "      <td>833.136667</td>\n",
       "      <td>76.0</td>\n",
       "      <td>9.0</td>\n",
       "    </tr>\n",
       "  </tbody>\n",
       "</table>\n",
       "<p>76 rows × 4 columns</p>\n",
       "</div>"
      ],
      "text/plain": [
       "    client_age  avg_purchase_total  age_ranked  purchase_total_ranked\n",
       "0           18         1365.051854         1.0                   54.0\n",
       "1           19         1214.935172         2.0                   42.0\n",
       "2           20         1243.581517         3.0                   45.0\n",
       "3           21         1364.131040         4.0                   53.0\n",
       "4           22         1272.062426         5.0                   47.0\n",
       "..         ...                 ...         ...                    ...\n",
       "71          89          591.527500        72.0                    2.0\n",
       "72          90          993.600000        73.0                   30.0\n",
       "73          91          906.655000        74.0                   16.0\n",
       "74          92         1330.525000        75.0                   52.0\n",
       "75          93          833.136667        76.0                    9.0\n",
       "\n",
       "[76 rows x 4 columns]"
      ]
     },
     "execution_count": 78,
     "metadata": {},
     "output_type": "execute_result"
    }
   ],
   "source": [
    "# Ranking the two variables\n",
    "age_purchase[\"age_ranked\"] = age_purchase[\"client_age\"].rank()\n",
    "age_purchase[\"purchase_total_ranked\"] = age_purchase[\"avg_purchase_total\"].rank()\n",
    "age_purchase"
   ]
  },
  {
   "cell_type": "markdown",
   "id": "da1e7224",
   "metadata": {},
   "source": [
    "<font color='blue'>Calculating the r value for the ranked variables\n",
    "    r value =\n",
    "$\\sum((agerank - \\bar{agerank})(purchaserank - \\bar{purchaserank})) / \\sqrt{\\sum(agerank-\\bar{agerank})²} \\sqrt{\\sum(purchaserank - \\bar{purchaserank})²}$\n",
    "</font>"
   ]
  },
  {
   "cell_type": "code",
   "execution_count": 79,
   "id": "ba5e13f1",
   "metadata": {},
   "outputs": [
    {
     "data": {
      "text/plain": [
       "-0.6825427204374572"
      ]
     },
     "execution_count": 79,
     "metadata": {},
     "output_type": "execute_result"
    }
   ],
   "source": [
    "age_mean = age_purchase[\"age_ranked\"].mean()\n",
    "purchase_mean = age_purchase[\"purchase_total_ranked\"].mean()\n",
    "\n",
    "age_purchase_spearman_r = (\n",
    "    (age_purchase[\"age_ranked\"] - age_mean)\n",
    "    * (age_purchase[\"purchase_total_ranked\"] - purchase_mean)\n",
    ").sum() / (\n",
    "    np.sqrt(((age_purchase[\"age_ranked\"] - age_mean) ** 2).sum())\n",
    "    * np.sqrt(((age_purchase[\"purchase_total_ranked\"] - purchase_mean) ** 2).sum())\n",
    ")\n",
    "age_purchase_spearman_r"
   ]
  },
  {
   "cell_type": "markdown",
   "id": "8c0eb3b9",
   "metadata": {},
   "source": [
    "<font color='blue'>Or simply use .pearsonr function on the ranked columns to get the Spearman R...</font>"
   ]
  },
  {
   "cell_type": "code",
   "execution_count": 80,
   "id": "d933573f",
   "metadata": {
    "scrolled": true
   },
   "outputs": [
    {
     "data": {
      "text/plain": [
       "(-0.6825427204374572, 1.1181522952639332e-11)"
      ]
     },
     "execution_count": 80,
     "metadata": {},
     "output_type": "execute_result"
    }
   ],
   "source": [
    "import scipy.stats as st\n",
    "\n",
    "st.pearsonr(age_purchase[\"age_ranked\"], age_purchase[\"purchase_total_ranked\"])"
   ]
  },
  {
   "cell_type": "markdown",
   "id": "38d6a8a6",
   "metadata": {},
   "source": [
    "<font color='blue'>r square value is then...</font>"
   ]
  },
  {
   "cell_type": "code",
   "execution_count": 81,
   "id": "b4168405",
   "metadata": {
    "scrolled": true
   },
   "outputs": [
    {
     "data": {
      "text/plain": [
       "0.4658645652221649"
      ]
     },
     "execution_count": 81,
     "metadata": {},
     "output_type": "execute_result"
    }
   ],
   "source": [
    "age_purchase_spearman_r_sqr = age_purchase_spearman_r ** 2\n",
    "age_purchase_spearman_r_sqr"
   ]
  },
  {
   "cell_type": "markdown",
   "id": "b41c9e4a",
   "metadata": {},
   "source": [
    "<font color='blue'>A even faster way to get the Spearman R without ranking the variables at all...\n",
    "   \n",
    "</font>"
   ]
  },
  {
   "cell_type": "code",
   "execution_count": 82,
   "id": "3c688166",
   "metadata": {},
   "outputs": [
    {
     "data": {
      "text/plain": [
       "SpearmanrResult(correlation=-0.6825427204374573, pvalue=1.1181522952639219e-11)"
      ]
     },
     "execution_count": 82,
     "metadata": {},
     "output_type": "execute_result"
    }
   ],
   "source": [
    "st.spearmanr(age_purchase[\"client_age\"], age_purchase[\"avg_purchase_total\"])"
   ]
  },
  {
   "cell_type": "markdown",
   "id": "419ad39f",
   "metadata": {},
   "source": [
    "<font color='blue'>This function also gives a p value which is very small, further strengthens the rejection of the null hypothesis.</font>"
   ]
  },
  {
   "cell_type": "markdown",
   "id": "1f4b932d",
   "metadata": {},
   "source": [
    "[Back to task overview](#task_3)"
   ]
  },
  {
   "cell_type": "markdown",
   "id": "d8de3dca",
   "metadata": {},
   "source": [
    "<a id='task_3_3'></a>"
   ]
  },
  {
   "cell_type": "markdown",
   "id": "466d5cf7",
   "metadata": {},
   "source": [
    "<hr style=\"border:1.5px solid blalck\"> </hr>\n",
    "Correlation between age and the purchase frequency (the number of purchases per month for example)<br>"
   ]
  },
  {
   "cell_type": "code",
   "execution_count": 83,
   "id": "1ae4c41f",
   "metadata": {},
   "outputs": [
    {
     "data": {
      "text/html": [
       "<div>\n",
       "<style scoped>\n",
       "    .dataframe tbody tr th:only-of-type {\n",
       "        vertical-align: middle;\n",
       "    }\n",
       "\n",
       "    .dataframe tbody tr th {\n",
       "        vertical-align: top;\n",
       "    }\n",
       "\n",
       "    .dataframe thead th {\n",
       "        text-align: right;\n",
       "    }\n",
       "</style>\n",
       "<table border=\"1\" class=\"dataframe\">\n",
       "  <thead>\n",
       "    <tr style=\"text-align: right;\">\n",
       "      <th></th>\n",
       "      <th>client_age</th>\n",
       "      <th>monthly_frequency</th>\n",
       "    </tr>\n",
       "  </thead>\n",
       "  <tbody>\n",
       "    <tr>\n",
       "      <th>0</th>\n",
       "      <td>18</td>\n",
       "      <td>612.333333</td>\n",
       "    </tr>\n",
       "    <tr>\n",
       "      <th>1</th>\n",
       "      <td>19</td>\n",
       "      <td>181.833333</td>\n",
       "    </tr>\n",
       "    <tr>\n",
       "      <th>2</th>\n",
       "      <td>20</td>\n",
       "      <td>185.333333</td>\n",
       "    </tr>\n",
       "    <tr>\n",
       "      <th>3</th>\n",
       "      <td>21</td>\n",
       "      <td>169.333333</td>\n",
       "    </tr>\n",
       "    <tr>\n",
       "      <th>4</th>\n",
       "      <td>22</td>\n",
       "      <td>181.250000</td>\n",
       "    </tr>\n",
       "    <tr>\n",
       "      <th>...</th>\n",
       "      <td>...</td>\n",
       "      <td>...</td>\n",
       "    </tr>\n",
       "    <tr>\n",
       "      <th>71</th>\n",
       "      <td>89</td>\n",
       "      <td>13.666667</td>\n",
       "    </tr>\n",
       "    <tr>\n",
       "      <th>72</th>\n",
       "      <td>90</td>\n",
       "      <td>13.250000</td>\n",
       "    </tr>\n",
       "    <tr>\n",
       "      <th>73</th>\n",
       "      <td>91</td>\n",
       "      <td>7.000000</td>\n",
       "    </tr>\n",
       "    <tr>\n",
       "      <th>74</th>\n",
       "      <td>92</td>\n",
       "      <td>9.583333</td>\n",
       "    </tr>\n",
       "    <tr>\n",
       "      <th>75</th>\n",
       "      <td>93</td>\n",
       "      <td>7.166667</td>\n",
       "    </tr>\n",
       "  </tbody>\n",
       "</table>\n",
       "<p>76 rows × 2 columns</p>\n",
       "</div>"
      ],
      "text/plain": [
       "    client_age  monthly_frequency\n",
       "0           18         612.333333\n",
       "1           19         181.833333\n",
       "2           20         185.333333\n",
       "3           21         169.333333\n",
       "4           22         181.250000\n",
       "..         ...                ...\n",
       "71          89          13.666667\n",
       "72          90          13.250000\n",
       "73          91           7.000000\n",
       "74          92           9.583333\n",
       "75          93           7.166667\n",
       "\n",
       "[76 rows x 2 columns]"
      ]
     },
     "execution_count": 83,
     "metadata": {},
     "output_type": "execute_result"
    }
   ],
   "source": [
    "# Create the age/ monthly_frequency subset\n",
    "age_frequency = (\n",
    "    data.groupby([\"client_age\", \"session_month\"])[\"session_id\"].count().to_frame()\n",
    ")\n",
    "age_frequency.reset_index(inplace=True)\n",
    "age_frequency.rename(columns={\"session_id\": \"monthly_frequency\"}, inplace=True)\n",
    "age_frequency = (\n",
    "    age_frequency.groupby(\"client_age\")[\"monthly_frequency\"].mean().to_frame()\n",
    ")\n",
    "age_frequency.reset_index(inplace=True)\n",
    "age_frequency"
   ]
  },
  {
   "cell_type": "code",
   "execution_count": 84,
   "id": "9f8e99af",
   "metadata": {
    "scrolled": false
   },
   "outputs": [
    {
     "data": {
      "image/png": "[encoded data removed]",
      "text/plain": [
       "<Figure size 432x288 with 1 Axes>"
      ]
     },
     "metadata": {},
     "output_type": "display_data"
    }
   ],
   "source": [
    "sns.scatterplot(x=\"client_age\", y=\"monthly_frequency\", data=age_frequency)\n",
    "plt.show()"
   ]
  },
  {
   "cell_type": "code",
   "execution_count": 85,
   "id": "d043e02b",
   "metadata": {},
   "outputs": [
    {
     "data": {
      "text/plain": [
       "SpearmanrResult(correlation=-0.6732740943267259, pvalue=2.6779028416585716e-11)"
      ]
     },
     "execution_count": 85,
     "metadata": {},
     "output_type": "execute_result"
    }
   ],
   "source": [
    "st.spearmanr(age_frequency[\"client_age\"], age_frequency[\"monthly_frequency\"])"
   ]
  },
  {
   "cell_type": "markdown",
   "id": "c99fe414",
   "metadata": {},
   "source": [
    "<font color='blue'>The Spreaman correlation is -0.67, indicating a strong relationship in the negative direction between clients' age and the frequency of purchase. The very small p value indicate that our test result is very unlikely to have occured should the null hypothesis be true. Therefore the nullhypothesis is rejected. </font>"
   ]
  },
  {
   "cell_type": "markdown",
   "id": "5416b88b",
   "metadata": {},
   "source": [
    "[Back to task overview](#task_3)"
   ]
  },
  {
   "cell_type": "markdown",
   "id": "34eee33c",
   "metadata": {},
   "source": [
    "<a id='task_3_4'></a>"
   ]
  },
  {
   "cell_type": "markdown",
   "id": "032d0ef3",
   "metadata": {},
   "source": [
    "<hr style=\"border:1.5px solid blalck\"> </hr>\n",
    "Correlation between age and the average basket size (in number of items)<br>\n"
   ]
  },
  {
   "cell_type": "code",
   "execution_count": 86,
   "id": "69c490b7",
   "metadata": {
    "scrolled": false
   },
   "outputs": [
    {
     "data": {
      "text/html": [
       "<div>\n",
       "<style scoped>\n",
       "    .dataframe tbody tr th:only-of-type {\n",
       "        vertical-align: middle;\n",
       "    }\n",
       "\n",
       "    .dataframe tbody tr th {\n",
       "        vertical-align: top;\n",
       "    }\n",
       "\n",
       "    .dataframe thead th {\n",
       "        text-align: right;\n",
       "    }\n",
       "</style>\n",
       "<table border=\"1\" class=\"dataframe\">\n",
       "  <thead>\n",
       "    <tr style=\"text-align: right;\">\n",
       "      <th></th>\n",
       "      <th>client_age</th>\n",
       "      <th>avg_basket</th>\n",
       "    </tr>\n",
       "  </thead>\n",
       "  <tbody>\n",
       "    <tr>\n",
       "      <th>0</th>\n",
       "      <td>18</td>\n",
       "      <td>16.814645</td>\n",
       "    </tr>\n",
       "    <tr>\n",
       "      <th>1</th>\n",
       "      <td>19</td>\n",
       "      <td>15.048276</td>\n",
       "    </tr>\n",
       "    <tr>\n",
       "      <th>2</th>\n",
       "      <td>20</td>\n",
       "      <td>15.337931</td>\n",
       "    </tr>\n",
       "    <tr>\n",
       "      <th>3</th>\n",
       "      <td>21</td>\n",
       "      <td>16.256000</td>\n",
       "    </tr>\n",
       "    <tr>\n",
       "      <th>4</th>\n",
       "      <td>22</td>\n",
       "      <td>15.992647</td>\n",
       "    </tr>\n",
       "    <tr>\n",
       "      <th>...</th>\n",
       "      <td>...</td>\n",
       "      <td>...</td>\n",
       "    </tr>\n",
       "    <tr>\n",
       "      <th>71</th>\n",
       "      <td>89</td>\n",
       "      <td>20.500000</td>\n",
       "    </tr>\n",
       "    <tr>\n",
       "      <th>72</th>\n",
       "      <td>90</td>\n",
       "      <td>26.500000</td>\n",
       "    </tr>\n",
       "    <tr>\n",
       "      <th>73</th>\n",
       "      <td>91</td>\n",
       "      <td>21.000000</td>\n",
       "    </tr>\n",
       "    <tr>\n",
       "      <th>74</th>\n",
       "      <td>92</td>\n",
       "      <td>28.750000</td>\n",
       "    </tr>\n",
       "    <tr>\n",
       "      <th>75</th>\n",
       "      <td>93</td>\n",
       "      <td>28.666667</td>\n",
       "    </tr>\n",
       "  </tbody>\n",
       "</table>\n",
       "<p>76 rows × 2 columns</p>\n",
       "</div>"
      ],
      "text/plain": [
       "    client_age  avg_basket\n",
       "0           18   16.814645\n",
       "1           19   15.048276\n",
       "2           20   15.337931\n",
       "3           21   16.256000\n",
       "4           22   15.992647\n",
       "..         ...         ...\n",
       "71          89   20.500000\n",
       "72          90   26.500000\n",
       "73          91   21.000000\n",
       "74          92   28.750000\n",
       "75          93   28.666667\n",
       "\n",
       "[76 rows x 2 columns]"
      ]
     },
     "execution_count": 86,
     "metadata": {},
     "output_type": "execute_result"
    }
   ],
   "source": [
    "# Creating subset of data with each client, their age and their total basket size\n",
    "age_avg_basket = data.groupby([\"client_age\", \"client_id\"])[\"id_prod\"].count().to_frame()\n",
    "age_avg_basket.reset_index(inplace=True)\n",
    "\n",
    "# Getting the mean basket size for every discrete age\n",
    "age_avg_basket = age_avg_basket.groupby(\"client_age\")[\"id_prod\"].mean().to_frame()\n",
    "age_avg_basket.rename(columns={\"id_prod\": \"avg_basket\"}, inplace=True)\n",
    "age_avg_basket.reset_index(inplace=True)\n",
    "age_avg_basket"
   ]
  },
  {
   "cell_type": "code",
   "execution_count": 87,
   "id": "76577db6",
   "metadata": {
    "scrolled": false
   },
   "outputs": [
    {
     "data": {
      "image/png": "[encoded data removed]",
      "text/plain": [
       "<Figure size 432x288 with 1 Axes>"
      ]
     },
     "metadata": {},
     "output_type": "display_data"
    }
   ],
   "source": [
    "plt.plot(age_avg_basket[\"client_age\"], age_avg_basket[\"avg_basket\"])\n",
    "plt.xlabel(\"Client's age\")\n",
    "plt.ylabel(\"Average basket size\")\n",
    "plt.show()"
   ]
  },
  {
   "cell_type": "markdown",
   "id": "30b16db1",
   "metadata": {},
   "source": [
    "<font color='blue'>The relationship appears nonlinear. First trying the Spearman correlation.</font>"
   ]
  },
  {
   "cell_type": "code",
   "execution_count": 88,
   "id": "5bb7dfef",
   "metadata": {},
   "outputs": [
    {
     "data": {
      "text/plain": [
       "SpearmanrResult(correlation=0.01192071086807929, pvalue=0.9185950513935155)"
      ]
     },
     "execution_count": 88,
     "metadata": {},
     "output_type": "execute_result"
    }
   ],
   "source": [
    "st.spearmanr(age_avg_basket[\"client_age\"], age_avg_basket[\"avg_basket\"])"
   ]
  },
  {
   "cell_type": "markdown",
   "id": "a9046b5f",
   "metadata": {},
   "source": [
    "<font color='blue'>The Spearman r value is very small, indicating a weak relationship. However, by looking at the graph there IS a association between the two variables. <br>\n",
    "Instead, transforming the two variables into categorical variables, followed by a chi² test, might yeild a better depiction.</font>"
   ]
  },
  {
   "cell_type": "code",
   "execution_count": 89,
   "id": "7571f870",
   "metadata": {},
   "outputs": [],
   "source": [
    "# Generate bins for each variable\n",
    "age_groupped = pd.cut(x=age_avg_basket[\"client_age\"], bins=[16, 30, 49, 69, 99])\n",
    "basket_groupped = pd.cut(x=age_avg_basket[\"avg_basket\"], bins=[10, 20, 30, 40, 50, 60])"
   ]
  },
  {
   "cell_type": "code",
   "execution_count": 90,
   "id": "ba9a7d0e",
   "metadata": {
    "scrolled": true
   },
   "outputs": [
    {
     "data": {
      "text/html": [
       "<div>\n",
       "<style scoped>\n",
       "    .dataframe tbody tr th:only-of-type {\n",
       "        vertical-align: middle;\n",
       "    }\n",
       "\n",
       "    .dataframe tbody tr th {\n",
       "        vertical-align: top;\n",
       "    }\n",
       "\n",
       "    .dataframe thead th {\n",
       "        text-align: right;\n",
       "    }\n",
       "</style>\n",
       "<table border=\"1\" class=\"dataframe\">\n",
       "  <thead>\n",
       "    <tr style=\"text-align: right;\">\n",
       "      <th>avg_basket</th>\n",
       "      <th>(10, 20]</th>\n",
       "      <th>(20, 30]</th>\n",
       "      <th>(30, 40]</th>\n",
       "      <th>(50, 60]</th>\n",
       "    </tr>\n",
       "    <tr>\n",
       "      <th>client_age</th>\n",
       "      <th></th>\n",
       "      <th></th>\n",
       "      <th></th>\n",
       "      <th></th>\n",
       "    </tr>\n",
       "  </thead>\n",
       "  <tbody>\n",
       "    <tr>\n",
       "      <th>(16, 30]</th>\n",
       "      <td>13</td>\n",
       "      <td>0</td>\n",
       "      <td>0</td>\n",
       "      <td>0</td>\n",
       "    </tr>\n",
       "    <tr>\n",
       "      <th>(30, 49]</th>\n",
       "      <td>0</td>\n",
       "      <td>0</td>\n",
       "      <td>0</td>\n",
       "      <td>13</td>\n",
       "    </tr>\n",
       "    <tr>\n",
       "      <th>(49, 69]</th>\n",
       "      <td>0</td>\n",
       "      <td>18</td>\n",
       "      <td>1</td>\n",
       "      <td>1</td>\n",
       "    </tr>\n",
       "    <tr>\n",
       "      <th>(69, 99]</th>\n",
       "      <td>2</td>\n",
       "      <td>20</td>\n",
       "      <td>2</td>\n",
       "      <td>0</td>\n",
       "    </tr>\n",
       "  </tbody>\n",
       "</table>\n",
       "</div>"
      ],
      "text/plain": [
       "avg_basket  (10, 20]  (20, 30]  (30, 40]  (50, 60]\n",
       "client_age                                        \n",
       "(16, 30]          13         0         0         0\n",
       "(30, 49]           0         0         0        13\n",
       "(49, 69]           0        18         1         1\n",
       "(69, 99]           2        20         2         0"
      ]
     },
     "execution_count": 90,
     "metadata": {},
     "output_type": "execute_result"
    }
   ],
   "source": [
    "crosstable_age_basket = pd.crosstab(age_groupped, basket_groupped)\n",
    "crosstable_age_basket"
   ]
  },
  {
   "cell_type": "code",
   "execution_count": 91,
   "id": "804edca2",
   "metadata": {
    "scrolled": true
   },
   "outputs": [
    {
     "data": {
      "text/plain": [
       "(122.29,\n",
       " 4.529497933361384e-22,\n",
       " 9,\n",
       " array([[ 2.78571429,  7.05714286,  0.55714286,  2.6       ],\n",
       "        [ 2.78571429,  7.05714286,  0.55714286,  2.6       ],\n",
       "        [ 4.28571429, 10.85714286,  0.85714286,  4.        ],\n",
       "        [ 5.14285714, 13.02857143,  1.02857143,  4.8       ]]))"
      ]
     },
     "execution_count": 91,
     "metadata": {},
     "output_type": "execute_result"
    }
   ],
   "source": [
    "# Chi² test\n",
    "chiVal, pVal, df, exp = chi2_contingency(crosstable_age_basket)\n",
    "chiVal.round(2), pVal, df, exp"
   ]
  },
  {
   "cell_type": "markdown",
   "id": "2c975389",
   "metadata": {},
   "source": [
    "<font color='blue'>The critical value for this test is 16.919. The result chi² statistics is 122.29, higher than the critical value. Additionally the p value is very small. Therefore null hypothesis is rejected. There is a relationship between age and average basket size.</font>"
   ]
  },
  {
   "cell_type": "markdown",
   "id": "e75623e0",
   "metadata": {},
   "source": [
    "[Back to task overview](#task_3)"
   ]
  },
  {
   "cell_type": "markdown",
   "id": "2f0b58c3",
   "metadata": {},
   "source": [
    "<a id='task_3_5'></a>"
   ]
  },
  {
   "cell_type": "markdown",
   "id": "6c08ee3c",
   "metadata": {},
   "source": [
    "<hr style=\"border:1.5px solid blalck\"> </hr>\n",
    "Correlation between age and categories of purchased products<br>"
   ]
  },
  {
   "cell_type": "markdown",
   "id": "bf0d5d5b",
   "metadata": {},
   "source": [
    "<font color='blue'>Proportions of revenue per product category.</font>"
   ]
  },
  {
   "cell_type": "code",
   "execution_count": 92,
   "id": "508b12e9",
   "metadata": {},
   "outputs": [
    {
     "data": {
      "image/png": "[encoded data removed]",
      "text/plain": [
       "<Figure size 432x288 with 1 Axes>"
      ]
     },
     "metadata": {},
     "output_type": "display_data"
    }
   ],
   "source": [
    "# Total revenue per product category\n",
    "product_categ_revenue = (\n",
    "    data.groupby(\"product_categ\")[\"total_purchase_per_session\"].sum().to_frame()\n",
    ")\n",
    "product_categ_revenue.reset_index(inplace=True)\n",
    "\n",
    "palette1 = [\"red\", \"blue\", \"#01f6fe\"]\n",
    "sns.set_theme(style=\"white\")\n",
    "sns.barplot(\n",
    "    x=\"product_categ\",\n",
    "    y=\"total_purchase_per_session\",\n",
    "    data=product_categ_revenue,\n",
    "    alpha=0.6,\n",
    "    palette=palette1,\n",
    ")\n",
    "plt.xlabel(\"Product category\")\n",
    "plt.ylabel(\"Total Revenue\")\n",
    "plt.box(False)\n",
    "plt.show()"
   ]
  },
  {
   "cell_type": "code",
   "execution_count": 93,
   "id": "03ae845e",
   "metadata": {
    "scrolled": false
   },
   "outputs": [
    {
     "data": {
      "text/html": [
       "<div>\n",
       "<style scoped>\n",
       "    .dataframe tbody tr th:only-of-type {\n",
       "        vertical-align: middle;\n",
       "    }\n",
       "\n",
       "    .dataframe tbody tr th {\n",
       "        vertical-align: top;\n",
       "    }\n",
       "\n",
       "    .dataframe thead th {\n",
       "        text-align: right;\n",
       "    }\n",
       "</style>\n",
       "<table border=\"1\" class=\"dataframe\">\n",
       "  <thead>\n",
       "    <tr style=\"text-align: right;\">\n",
       "      <th></th>\n",
       "      <th>client_age</th>\n",
       "      <th>product_categ</th>\n",
       "      <th>qty_sold</th>\n",
       "    </tr>\n",
       "  </thead>\n",
       "  <tbody>\n",
       "    <tr>\n",
       "      <th>0</th>\n",
       "      <td>18</td>\n",
       "      <td>0</td>\n",
       "      <td>1668</td>\n",
       "    </tr>\n",
       "    <tr>\n",
       "      <th>1</th>\n",
       "      <td>18</td>\n",
       "      <td>1</td>\n",
       "      <td>2759</td>\n",
       "    </tr>\n",
       "    <tr>\n",
       "      <th>2</th>\n",
       "      <td>18</td>\n",
       "      <td>2</td>\n",
       "      <td>2921</td>\n",
       "    </tr>\n",
       "    <tr>\n",
       "      <th>3</th>\n",
       "      <td>19</td>\n",
       "      <td>0</td>\n",
       "      <td>488</td>\n",
       "    </tr>\n",
       "    <tr>\n",
       "      <th>4</th>\n",
       "      <td>19</td>\n",
       "      <td>1</td>\n",
       "      <td>817</td>\n",
       "    </tr>\n",
       "    <tr>\n",
       "      <th>...</th>\n",
       "      <td>...</td>\n",
       "      <td>...</td>\n",
       "      <td>...</td>\n",
       "    </tr>\n",
       "    <tr>\n",
       "      <th>222</th>\n",
       "      <td>92</td>\n",
       "      <td>0</td>\n",
       "      <td>43</td>\n",
       "    </tr>\n",
       "    <tr>\n",
       "      <th>223</th>\n",
       "      <td>92</td>\n",
       "      <td>1</td>\n",
       "      <td>71</td>\n",
       "    </tr>\n",
       "    <tr>\n",
       "      <th>224</th>\n",
       "      <td>92</td>\n",
       "      <td>2</td>\n",
       "      <td>1</td>\n",
       "    </tr>\n",
       "    <tr>\n",
       "      <th>225</th>\n",
       "      <td>93</td>\n",
       "      <td>0</td>\n",
       "      <td>35</td>\n",
       "    </tr>\n",
       "    <tr>\n",
       "      <th>226</th>\n",
       "      <td>93</td>\n",
       "      <td>1</td>\n",
       "      <td>51</td>\n",
       "    </tr>\n",
       "  </tbody>\n",
       "</table>\n",
       "<p>227 rows × 3 columns</p>\n",
       "</div>"
      ],
      "text/plain": [
       "     client_age  product_categ  qty_sold\n",
       "0            18              0      1668\n",
       "1            18              1      2759\n",
       "2            18              2      2921\n",
       "3            19              0       488\n",
       "4            19              1       817\n",
       "..          ...            ...       ...\n",
       "222          92              0        43\n",
       "223          92              1        71\n",
       "224          92              2         1\n",
       "225          93              0        35\n",
       "226          93              1        51\n",
       "\n",
       "[227 rows x 3 columns]"
      ]
     },
     "execution_count": 93,
     "metadata": {},
     "output_type": "execute_result"
    }
   ],
   "source": [
    "# First create the subset\n",
    "age_product_categ_1 = (\n",
    "    data.groupby([\"client_age\", \"product_categ\"])[\"id_prod\"].count().to_frame()\n",
    ")\n",
    "\n",
    "age_product_categ_1.reset_index(inplace=True)\n",
    "age_product_categ_1.rename(columns={\"id_prod\": \"qty_sold\"}, inplace=True)\n",
    "age_product_categ_1"
   ]
  },
  {
   "cell_type": "code",
   "execution_count": 103,
   "id": "16192fcf",
   "metadata": {
    "scrolled": true
   },
   "outputs": [
    {
     "data": {
      "image/png": "[encoded data removed]",
      "text/plain": [
       "<Figure size 504x360 with 1 Axes>"
      ]
     },
     "metadata": {},
     "output_type": "display_data"
    }
   ],
   "source": [
    "# Getting a visual representation with client age groupped\n",
    "age_grouped = pd.cut(x=age_product_categ_1[\"client_age\"], bins=[16, 30, 49, 69, 99])\n",
    "\n",
    "plt.figure(figsize=(7, 5))\n",
    "sns.set_theme(style=\"white\", palette=\"bright\")\n",
    "sns.boxplot(x=age_grouped, y=\"qty_sold\", hue=\"product_categ\", data=age_product_categ_1)\n",
    "plt.box(False)\n",
    "plt.show()"
   ]
  },
  {
   "cell_type": "markdown",
   "id": "5978af27",
   "metadata": {},
   "source": [
    "<font color='blue'>From just looking at the graph, we can observe that there appears to be an association between clients' age and the category of product that they purchase.<br>\n",
    "To quantify this theory, I will do an one way ANOVA test.</font>"
   ]
  },
  {
   "cell_type": "markdown",
   "id": "3982001c",
   "metadata": {},
   "source": [
    "<font color='blue'>First calculate step by step, then followed by the same test done by scipy library.</font>"
   ]
  },
  {
   "cell_type": "code",
   "execution_count": 95,
   "id": "919f4376",
   "metadata": {
    "scrolled": true
   },
   "outputs": [
    {
     "data": {
      "text/html": [
       "<div>\n",
       "<style scoped>\n",
       "    .dataframe tbody tr th:only-of-type {\n",
       "        vertical-align: middle;\n",
       "    }\n",
       "\n",
       "    .dataframe tbody tr th {\n",
       "        vertical-align: top;\n",
       "    }\n",
       "\n",
       "    .dataframe thead th {\n",
       "        text-align: right;\n",
       "    }\n",
       "</style>\n",
       "<table border=\"1\" class=\"dataframe\">\n",
       "  <thead>\n",
       "    <tr style=\"text-align: right;\">\n",
       "      <th>product_categ</th>\n",
       "      <th>0</th>\n",
       "      <th>1</th>\n",
       "      <th>2</th>\n",
       "    </tr>\n",
       "    <tr>\n",
       "      <th>client_age</th>\n",
       "      <th></th>\n",
       "      <th></th>\n",
       "      <th></th>\n",
       "    </tr>\n",
       "  </thead>\n",
       "  <tbody>\n",
       "    <tr>\n",
       "      <th>18</th>\n",
       "      <td>1668.0</td>\n",
       "      <td>2759.0</td>\n",
       "      <td>2921.0</td>\n",
       "    </tr>\n",
       "    <tr>\n",
       "      <th>19</th>\n",
       "      <td>488.0</td>\n",
       "      <td>817.0</td>\n",
       "      <td>877.0</td>\n",
       "    </tr>\n",
       "    <tr>\n",
       "      <th>20</th>\n",
       "      <td>498.0</td>\n",
       "      <td>830.0</td>\n",
       "      <td>896.0</td>\n",
       "    </tr>\n",
       "    <tr>\n",
       "      <th>21</th>\n",
       "      <td>461.0</td>\n",
       "      <td>732.0</td>\n",
       "      <td>839.0</td>\n",
       "    </tr>\n",
       "    <tr>\n",
       "      <th>22</th>\n",
       "      <td>587.0</td>\n",
       "      <td>791.0</td>\n",
       "      <td>797.0</td>\n",
       "    </tr>\n",
       "    <tr>\n",
       "      <th>...</th>\n",
       "      <td>...</td>\n",
       "      <td>...</td>\n",
       "      <td>...</td>\n",
       "    </tr>\n",
       "    <tr>\n",
       "      <th>89</th>\n",
       "      <td>71.0</td>\n",
       "      <td>92.0</td>\n",
       "      <td>1.0</td>\n",
       "    </tr>\n",
       "    <tr>\n",
       "      <th>90</th>\n",
       "      <td>73.0</td>\n",
       "      <td>85.0</td>\n",
       "      <td>1.0</td>\n",
       "    </tr>\n",
       "    <tr>\n",
       "      <th>91</th>\n",
       "      <td>36.0</td>\n",
       "      <td>47.0</td>\n",
       "      <td>1.0</td>\n",
       "    </tr>\n",
       "    <tr>\n",
       "      <th>92</th>\n",
       "      <td>43.0</td>\n",
       "      <td>71.0</td>\n",
       "      <td>1.0</td>\n",
       "    </tr>\n",
       "    <tr>\n",
       "      <th>93</th>\n",
       "      <td>35.0</td>\n",
       "      <td>51.0</td>\n",
       "      <td>0.0</td>\n",
       "    </tr>\n",
       "  </tbody>\n",
       "</table>\n",
       "<p>76 rows × 3 columns</p>\n",
       "</div>"
      ],
      "text/plain": [
       "product_categ       0       1       2\n",
       "client_age                           \n",
       "18             1668.0  2759.0  2921.0\n",
       "19              488.0   817.0   877.0\n",
       "20              498.0   830.0   896.0\n",
       "21              461.0   732.0   839.0\n",
       "22              587.0   791.0   797.0\n",
       "...               ...     ...     ...\n",
       "89               71.0    92.0     1.0\n",
       "90               73.0    85.0     1.0\n",
       "91               36.0    47.0     1.0\n",
       "92               43.0    71.0     1.0\n",
       "93               35.0    51.0     0.0\n",
       "\n",
       "[76 rows x 3 columns]"
      ]
     },
     "execution_count": 95,
     "metadata": {},
     "output_type": "execute_result"
    }
   ],
   "source": [
    "# Pivot table to get the table I will use for later calculation\n",
    "age_product_categ = age_product_categ_1.pivot_table(\n",
    "    index=\"client_age\", columns=\"product_categ\", values=\"qty_sold\"\n",
    ")\n",
    "\n",
    "# Filling NaN value with 0\n",
    "age_product_categ.fillna(0, inplace=True)\n",
    "\n",
    "age_product_categ"
   ]
  },
  {
   "cell_type": "code",
   "execution_count": 96,
   "id": "3fe792ea",
   "metadata": {},
   "outputs": [],
   "source": [
    "# Getting the means of each group\n",
    "group_mean = age_product_categ.mean()\n",
    "\n",
    "# Grand mean\n",
    "grand_mean = group_mean.mean()\n",
    "\n",
    "# Total Sum of Square = sum((individual_measure - grand_mean)**2)\n",
    "TSS = ((age_product_categ - grand_mean) ** 2).sum().sum()\n",
    "\n",
    "# ESS, or the explained sum of square, or the sum of square between groups\n",
    "ESS = (((group_mean - grand_mean) ** 2) * age_product_categ.shape[0]).sum()\n",
    "\n",
    "# RSS, or the residual sum of square, or sum of square within groups\n",
    "RSS = ((age_product_categ - group_mean) ** 2).sum().sum()"
   ]
  },
  {
   "cell_type": "code",
   "execution_count": 97,
   "id": "ce10ffd8",
   "metadata": {},
   "outputs": [],
   "source": [
    "# Degrees of freedom total\n",
    "df_total = np.prod(age_product_categ.shape) - 1\n",
    "\n",
    "# Degrees of freedom explainded (or between groups)\n",
    "df_explained = age_product_categ.shape[1] - 1\n",
    "\n",
    "## Degrees of freedom residual (or within groups)\n",
    "df_residual = age_product_categ.shape[1] * (age_product_categ.shape[0] - 1)\n",
    "\n",
    "# Total variance\n",
    "grand_variance = TSS / df_total\n",
    "\n",
    "# Explained variance\n",
    "explained_variance = ESS / df_explained\n",
    "\n",
    "# Residual variance\n",
    "residual_variance = RSS / df_residual"
   ]
  },
  {
   "cell_type": "markdown",
   "id": "8df1779d",
   "metadata": {},
   "source": [
    "<font color='blue'>The null hypothesis for this test is: clients' age does not affect the category of product that they purchase.<br>\n",
    "Alternative hypothesis: clients' age does affect the category of product that they purchase.<br>\n",
    "Let's look at the result.</font>"
   ]
  },
  {
   "cell_type": "code",
   "execution_count": 98,
   "id": "bb3473de",
   "metadata": {},
   "outputs": [
    {
     "name": "stdout",
     "output_type": "stream",
     "text": [
      "Sum of square total: 1006267622.9956142\n",
      "Sum of square explained/between: 212081558.6929825\n",
      "Sum of square residual/within: 794186064.3026316\n",
      "eta²: 0.21076059076771753\n",
      "Degrees of freedom explained/between: 2\n",
      "Degrees of freedom residual/within: 225\n",
      "F statistics: 30.04229918578473\n"
     ]
    }
   ],
   "source": [
    "print(\"Sum of square total:\", TSS)\n",
    "print(\"Sum of square explained/between:\", ESS)\n",
    "print(\"Sum of square residual/within:\", RSS)\n",
    "print(\"eta²:\", ESS / TSS)\n",
    "print(\"Degrees of freedom explained/between:\", df_explained)\n",
    "print(\"Degrees of freedom residual/within:\", df_residual)\n",
    "print(\"F statistics:\", explained_variance / residual_variance)"
   ]
  },
  {
   "cell_type": "markdown",
   "id": "08e4a293",
   "metadata": {},
   "source": [
    "<font color='blue'>Given degrees of freedom explained/between and residual/within at 2 and 225 respectively, assuming alpha value at 0.05, according to F distribution table, our critical cut of value for this test is 2.9957.<br>\n",
    "The f statistics of this test is higher than critical f statistic, therefore the null hypothesis is rejected. Thus we can state that the clients' age __does__  affect the category of product that they purchase.<br>The eta² tells us that 21.06% of the variation of the purchase quantity by different age, is accounted for by the category of product.</font>"
   ]
  },
  {
   "cell_type": "markdown",
   "id": "a5a695b2",
   "metadata": {},
   "source": [
    "<font color='blue'>Calculating the f statistics using scipy library.</font>"
   ]
  },
  {
   "cell_type": "code",
   "execution_count": 99,
   "id": "f592647d",
   "metadata": {},
   "outputs": [
    {
     "data": {
      "text/plain": [
       "F_onewayResult(statistic=30.042299185784717, pvalue=2.728888667930591e-12)"
      ]
     },
     "execution_count": 99,
     "metadata": {},
     "output_type": "execute_result"
    }
   ],
   "source": [
    "import scipy.stats as stats\n",
    "\n",
    "stats.f_oneway(age_product_categ[0], age_product_categ[1], age_product_categ[2])"
   ]
  },
  {
   "cell_type": "markdown",
   "id": "79e50a1f",
   "metadata": {},
   "source": [
    "<font color='blue'>The f statistics number from scipy library is different from that of step by step calculation. This is due to the trailling off of numbers after the decimal point being squared. However this difference does not impect the test outcome. The null hypothesis is still rejected.<br>\n",
    "Moreover, this function also gives us the p-value, which is very small. This tells us that it is highly unlikely that we would get a f statistics of 30 should the null hypothesis actually be true.</font>"
   ]
  },
  {
   "cell_type": "markdown",
   "id": "56973f55",
   "metadata": {},
   "source": [
    "[Back to task overview](#task_3)<br>\n",
    "[Back to top](#top)"
   ]
  },
  {
   "cell_type": "markdown",
   "id": "bd5e57d4",
   "metadata": {},
   "source": [
    "<hr style=\"border:1.5px solid blalck\"></hr>\n",
    "<font color='blue'>A final visual representation of the correlation analyzed.</font>"
   ]
  },
  {
   "cell_type": "code",
   "execution_count": 100,
   "id": "fbe6e52d",
   "metadata": {
    "scrolled": false
   },
   "outputs": [
    {
     "data": {
      "image/png": "[encoded data removed]",
      "text/plain": [
       "<Figure size 720x576 with 1 Axes>"
      ]
     },
     "metadata": {},
     "output_type": "display_data"
    },
    {
     "data": {
      "image/png": "[encoded data removed]",
      "text/plain": [
       "<Figure size 720x576 with 1 Axes>"
      ]
     },
     "metadata": {},
     "output_type": "display_data"
    },
    {
     "data": {
      "image/png": "[encoded data removed]",
      "text/plain": [
       "<Figure size 720x576 with 1 Axes>"
      ]
     },
     "metadata": {},
     "output_type": "display_data"
    },
    {
     "data": {
      "image/png": "[encoded data removed]",
      "text/plain": [
       "<Figure size 720x576 with 1 Axes>"
      ]
     },
     "metadata": {},
     "output_type": "display_data"
    }
   ],
   "source": [
    "sns.set_style(\"white\")\n",
    "\n",
    "# Bar chart for gender/product category\n",
    "gender_categ = (\n",
    "    data.groupby([\"client_sex\", \"product_categ\"])[\"total_purchase_per_session\"]\n",
    "    .sum()\n",
    "    .to_frame()\n",
    ")\n",
    "gender_categ.reset_index(inplace=True)\n",
    "gender_categ.columns = [\"Gender\", \"Product category\", \"Total revenue\"]\n",
    "\n",
    "plt.figure(figsize=(10, 8))\n",
    "colors = [\"#fd94d4\", \"#6780bd\"]\n",
    "sns.set_palette(sns.color_palette(colors))\n",
    "sns.barplot(\n",
    "    x=\"Product category\", y=\"Total revenue\", hue=\"Gender\", data=gender_categ, ci=None,\n",
    ")\n",
    "plt.box(False)\n",
    "plt.show()\n",
    "\n",
    "# Line plot for age/ purchase total\n",
    "plt.figure(figsize=(10, 8))\n",
    "plt.plot(\n",
    "    age_purchase[\"client_age\"],\n",
    "    age_purchase[\"avg_purchase_total\"],\n",
    "    linestyle=\"solid\",\n",
    "    label=\"age/average total purchase\",\n",
    "    color=\"red\",\n",
    ")\n",
    "plt.box(False)\n",
    "plt.xlabel(\"Age\")\n",
    "plt.ylabel(\"Average Purchase Total\")\n",
    "plt.show()\n",
    "\n",
    "# Line plot for age/ monthly purchase frequency\n",
    "plt.figure(figsize=(10, 8))\n",
    "plt.plot(\n",
    "    age_frequency[\"client_age\"],\n",
    "    age_frequency[\"monthly_frequency\"],\n",
    "    linestyle=\"dashed\",\n",
    "    label=\"age/average monthly purchase frequenecy\",\n",
    "    color=\"green\",\n",
    ")\n",
    "plt.xlabel(\"Age\")\n",
    "plt.ylabel(\"Average Monthly Purchase Frequency\")\n",
    "plt.tight_layout()\n",
    "plt.box(False)\n",
    "plt.show()\n",
    "\n",
    "# Line plot for age/ average baske size\n",
    "plt.figure(figsize=(10, 8))\n",
    "plt.plot(\n",
    "    age_avg_basket[\"client_age\"],\n",
    "    age_avg_basket[\"avg_basket\"],\n",
    "    linestyle=\"solid\",\n",
    "    label=\"age/average basket size\",\n",
    "    color=\"black\",\n",
    ")\n",
    "\n",
    "\n",
    "plt.xlabel(\"Age\")\n",
    "plt.ylabel(\"Average Basket Size\")\n",
    "plt.tight_layout()\n",
    "plt.box(False)\n",
    "plt.show()"
   ]
  },
  {
   "cell_type": "code",
   "execution_count": 101,
   "id": "144d97bb",
   "metadata": {
    "scrolled": true
   },
   "outputs": [
    {
     "data": {
      "image/png": "[encoded data removed]",
      "text/plain": [
       "<Figure size 576x432 with 1 Axes>"
      ]
     },
     "metadata": {},
     "output_type": "display_data"
    }
   ],
   "source": [
    "# Create a bubble plot for visual representation of the products sold per category/age\n",
    "\n",
    "age_product_categ.reset_index(inplace=True)\n",
    "age_product_categ.columns = [\"client_age\", \"product_0\", \"product_1\", \"product_2\"]\n",
    "\n",
    "categ_0_normalized = (\n",
    "    age_product_categ[\"product_0\"] - age_product_categ[\"product_0\"].min()\n",
    ") / (age_product_categ[\"product_0\"].max() - age_product_categ[\"product_0\"].min())\n",
    "categ_1_normalized = (\n",
    "    age_product_categ[\"product_1\"] - age_product_categ[\"product_1\"].min()\n",
    ") / (age_product_categ[\"product_1\"].max() - age_product_categ[\"product_1\"].min())\n",
    "categ_2_normalized = (\n",
    "    age_product_categ[\"product_2\"] - age_product_categ[\"product_2\"].min()\n",
    ") / (age_product_categ[\"product_2\"].max() - age_product_categ[\"product_2\"].min())\n",
    "\n",
    "\n",
    "ax0 = age_product_categ.plot(\n",
    "    kind=\"scatter\",\n",
    "    x=\"client_age\",\n",
    "    y=\"product_0\",\n",
    "    alpha=0.3,\n",
    "    s=categ_0_normalized * 1000 + 10,\n",
    "    figsize=(8, 6),\n",
    "    color=\"red\",\n",
    ")\n",
    "ax1 = age_product_categ.plot(\n",
    "    kind=\"scatter\",\n",
    "    x=\"client_age\",\n",
    "    y=\"product_1\",\n",
    "    alpha=0.2,\n",
    "    s=categ_1_normalized * 1000 + 10,\n",
    "    color=\"blue\",\n",
    "    ax=ax0,\n",
    ")\n",
    "ax2 = age_product_categ.plot(\n",
    "    kind=\"scatter\",\n",
    "    x=\"client_age\",\n",
    "    y=\"product_2\",\n",
    "    alpha=0.4,\n",
    "    s=categ_2_normalized * 1000 + 10,\n",
    "    color=\"#01f6fe\",\n",
    "    ax=ax0,\n",
    ")\n",
    "ax0.set_xlabel(\"Client Age\")\n",
    "ax0.set_ylabel(\"Quantity Sold\")\n",
    "ax0.legend(\n",
    "    [\"Product category 0\", \"Product category 1\", \"Product category 2\"],\n",
    "    loc=\"upper right\",\n",
    ")\n",
    "plt.tight_layout()\n",
    "plt.box(False)\n",
    "plt.show()"
   ]
  },
  {
   "cell_type": "markdown",
   "id": "1a2b8d2e",
   "metadata": {},
   "source": [
    "[Back to top](#top)"
   ]
  }
 ],
 "metadata": {
  "kernelspec": {
   "display_name": "Python 3 (ipykernel)",
   "language": "python",
   "name": "python3"
  },
  "language_info": {
   "codemirror_mode": {
    "name": "ipython",
    "version": 3
   },
   "file_extension": ".py",
   "mimetype": "text/x-python",
   "name": "python",
   "nbconvert_exporter": "python",
   "pygments_lexer": "ipython3",
   "version": "3.9.16"
  },
  "toc": {
   "base_numbering": 1,
   "nav_menu": {},
   "number_sections": true,
   "sideBar": true,
   "skip_h1_title": false,
   "title_cell": "Table of Contents",
   "title_sidebar": "Contents",
   "toc_cell": true,
   "toc_position": {},
   "toc_section_display": true,
   "toc_window_display": false
  }
 },
 "nbformat": 4,
 "nbformat_minor": 5
}
